{
  "nbformat": 4,
  "nbformat_minor": 0,
  "metadata": {
    "colab": {
      "name": "Instagram.ipynb",
      "provenance": []
    },
    "kernelspec": {
      "name": "python3",
      "display_name": "Python 3"
    },
    "language_info": {
      "name": "python"
    }
  },
  "cells": [
    {
      "cell_type": "code",
      "metadata": {
        "id": "saw_md_rI9Q0"
      },
      "source": [
        "import sys, os, re, csv, codecs, numpy as np, pandas as pd\n",
        "import matplotlib.pyplot as plt\n",
        "#%matplotlib inline\n",
        "from keras.preprocessing.text import Tokenizer\n",
        "from keras.preprocessing.sequence import pad_sequences\n",
        "from keras.layers import Dense, Input, LSTM, Embedding, Dropout, Activation, concatenate, Flatten, LSTM, Conv1D\n",
        "from keras.layers import Bidirectional, GlobalMaxPool1D, GRU, SpatialDropout1D, GlobalAveragePooling1D, GlobalMaxPooling1D, RNN\n",
        "from keras.models import Model, Sequential\n",
        "from keras import initializers, regularizers, constraints, optimizers, layers\n",
        "from keras.callbacks import Callback, EarlyStopping, ModelCheckpoint\n",
        "from sklearn.metrics import roc_auc_score, roc_curve\n",
        "from gensim.models.keyedvectors import KeyedVectors\n",
        "import gc\n",
        "from sklearn.model_selection import train_test_split\n",
        "from sklearn.utils import resample\n",
        "\n",
        "import warnings"
      ],
      "execution_count": 11,
      "outputs": []
    },
    {
      "cell_type": "markdown",
      "metadata": {
        "id": "NwvL7InnIRLd"
      },
      "source": [
        "#Astrazeneca GRU-SGD"
      ]
    },
    {
      "cell_type": "code",
      "metadata": {
        "colab": {
          "base_uri": "https://localhost:8080/",
          "height": 419
        },
        "id": "JGUimQIwIo_t",
        "outputId": "b1479d48-5167-47d5-9602-98a6c1aa079e"
      },
      "source": [
        "df = pd.read_excel('/content/drive/MyDrive/Astrazeneca.xlsx')\n",
        "df = df[~df['Comments'].isnull()]\n",
        "df = df.reset_index()\n",
        "df = df.drop(['index'], axis=1)\n",
        "df['tag']= df['tag'].fillna(4)\n",
        "df_untagged = df[df['tag'] == 4]\n",
        "df = df[df['tag'] != 4]\n",
        "df"
      ],
      "execution_count": 81,
      "outputs": [
        {
          "output_type": "execute_result",
          "data": {
            "text/html": [
              "<div>\n",
              "<style scoped>\n",
              "    .dataframe tbody tr th:only-of-type {\n",
              "        vertical-align: middle;\n",
              "    }\n",
              "\n",
              "    .dataframe tbody tr th {\n",
              "        vertical-align: top;\n",
              "    }\n",
              "\n",
              "    .dataframe thead th {\n",
              "        text-align: right;\n",
              "    }\n",
              "</style>\n",
              "<table border=\"1\" class=\"dataframe\">\n",
              "  <thead>\n",
              "    <tr style=\"text-align: right;\">\n",
              "      <th></th>\n",
              "      <th>Name</th>\n",
              "      <th>Comments</th>\n",
              "      <th>tag</th>\n",
              "    </tr>\n",
              "  </thead>\n",
              "  <tbody>\n",
              "    <tr>\n",
              "      <th>0</th>\n",
              "      <td>galannxceepta</td>\n",
              "      <td>Sarah gilbert melepas hak paten vaksin astraze...</td>\n",
              "      <td>positif</td>\n",
              "    </tr>\n",
              "    <tr>\n",
              "      <th>1</th>\n",
              "      <td>mas_bar35</td>\n",
              "      <td>Apakah dia lulusan UI yg ada komisarisnya itu</td>\n",
              "      <td>netral</td>\n",
              "    </tr>\n",
              "    <tr>\n",
              "      <th>2</th>\n",
              "      <td>m.taufik4671</td>\n",
              "      <td>Vaksin nusantara ga ada cuannya, makanya ga di...</td>\n",
              "      <td>netral</td>\n",
              "    </tr>\n",
              "    <tr>\n",
              "      <th>3</th>\n",
              "      <td>indraadityalukman</td>\n",
              "      <td>Saya indra. Bukan satpol</td>\n",
              "      <td>netral</td>\n",
              "    </tr>\n",
              "    <tr>\n",
              "      <th>4</th>\n",
              "      <td>ismailmarzuki19</td>\n",
              "      <td>Marketingnya bagus ni</td>\n",
              "      <td>negatif</td>\n",
              "    </tr>\n",
              "    <tr>\n",
              "      <th>...</th>\n",
              "      <td>...</td>\n",
              "      <td>...</td>\n",
              "      <td>...</td>\n",
              "    </tr>\n",
              "    <tr>\n",
              "      <th>446</th>\n",
              "      <td>pejuangrakyat6880</td>\n",
              "      <td>Di fikir siapa kali bisa cegah kematian 😂 mau ...</td>\n",
              "      <td>negatif</td>\n",
              "    </tr>\n",
              "    <tr>\n",
              "      <th>447</th>\n",
              "      <td>danuandiyanto</td>\n",
              "      <td>Dulu dihina, sekarang dipuja.</td>\n",
              "      <td>netral</td>\n",
              "    </tr>\n",
              "    <tr>\n",
              "      <th>448</th>\n",
              "      <td>bayulejing</td>\n",
              "      <td>Gak covid gak ad vansin..Tuhan bilang Mati ya ...</td>\n",
              "      <td>negatif</td>\n",
              "    </tr>\n",
              "    <tr>\n",
              "      <th>449</th>\n",
              "      <td>undefeatedkid</td>\n",
              "      <td>Tempo jadi sales 😂😂😂</td>\n",
              "      <td>negatif</td>\n",
              "    </tr>\n",
              "    <tr>\n",
              "      <th>450</th>\n",
              "      <td>arkynugraha</td>\n",
              "      <td>2% itu jangka pendek, klo efek jangka panjang ...</td>\n",
              "      <td>positif</td>\n",
              "    </tr>\n",
              "  </tbody>\n",
              "</table>\n",
              "<p>250 rows × 3 columns</p>\n",
              "</div>"
            ],
            "text/plain": [
              "                  Name  ...      tag\n",
              "0        galannxceepta  ...  positif\n",
              "1            mas_bar35  ...   netral\n",
              "2         m.taufik4671  ...   netral\n",
              "3    indraadityalukman  ...   netral\n",
              "4      ismailmarzuki19  ...  negatif\n",
              "..                 ...  ...      ...\n",
              "446  pejuangrakyat6880  ...  negatif\n",
              "447      danuandiyanto  ...   netral\n",
              "448         bayulejing  ...  negatif\n",
              "449      undefeatedkid  ...  negatif\n",
              "450        arkynugraha  ...  positif\n",
              "\n",
              "[250 rows x 3 columns]"
            ]
          },
          "metadata": {
            "tags": []
          },
          "execution_count": 81
        }
      ]
    },
    {
      "cell_type": "code",
      "metadata": {
        "colab": {
          "base_uri": "https://localhost:8080/",
          "height": 408
        },
        "id": "5qUT-JGECwC7",
        "outputId": "3019dcbc-d9ae-48ee-8674-204812839c61"
      },
      "source": [
        "df_untagged = df_untagged.reset_index()\n",
        "df_untagged = df_untagged.drop(['index'], axis=1)\n",
        "df_untagged"
      ],
      "execution_count": 82,
      "outputs": [
        {
          "output_type": "execute_result",
          "data": {
            "text/html": [
              "<div>\n",
              "<style scoped>\n",
              "    .dataframe tbody tr th:only-of-type {\n",
              "        vertical-align: middle;\n",
              "    }\n",
              "\n",
              "    .dataframe tbody tr th {\n",
              "        vertical-align: top;\n",
              "    }\n",
              "\n",
              "    .dataframe thead th {\n",
              "        text-align: right;\n",
              "    }\n",
              "</style>\n",
              "<table border=\"1\" class=\"dataframe\">\n",
              "  <thead>\n",
              "    <tr style=\"text-align: right;\">\n",
              "      <th></th>\n",
              "      <th>Name</th>\n",
              "      <th>Comments</th>\n",
              "      <th>tag</th>\n",
              "    </tr>\n",
              "  </thead>\n",
              "  <tbody>\n",
              "    <tr>\n",
              "      <th>0</th>\n",
              "      <td>jhaunceryl27</td>\n",
              "      <td>Luar Biasa</td>\n",
              "      <td>4</td>\n",
              "    </tr>\n",
              "    <tr>\n",
              "      <th>1</th>\n",
              "      <td>jajat_7uansyah</td>\n",
              "      <td>Bangga dan saluutt @rudianindra , sukses dan b...</td>\n",
              "      <td>4</td>\n",
              "    </tr>\n",
              "    <tr>\n",
              "      <th>2</th>\n",
              "      <td>zulkiplimuhtar</td>\n",
              "      <td>Adiknya Mira ya @maulidalbia ?</td>\n",
              "      <td>4</td>\n",
              "    </tr>\n",
              "    <tr>\n",
              "      <th>3</th>\n",
              "      <td>yuhartini17</td>\n",
              "      <td>👏😍</td>\n",
              "      <td>4</td>\n",
              "    </tr>\n",
              "    <tr>\n",
              "      <th>4</th>\n",
              "      <td>aswadsabirin</td>\n",
              "      <td>❤️👍👍</td>\n",
              "      <td>4</td>\n",
              "    </tr>\n",
              "    <tr>\n",
              "      <th>...</th>\n",
              "      <td>...</td>\n",
              "      <td>...</td>\n",
              "      <td>...</td>\n",
              "    </tr>\n",
              "    <tr>\n",
              "      <th>196</th>\n",
              "      <td>stevy.agnes</td>\n",
              "      <td>@will_iam_sutanto @wawan_lo</td>\n",
              "      <td>4</td>\n",
              "    </tr>\n",
              "    <tr>\n",
              "      <th>197</th>\n",
              "      <td>agatha_kristiastutitananta</td>\n",
              "      <td>Untuk vaksin sinoparm bgmn kk?</td>\n",
              "      <td>4</td>\n",
              "    </tr>\n",
              "    <tr>\n",
              "      <th>198</th>\n",
              "      <td>ninda_kania</td>\n",
              "      <td>Min...ibu menyusui boleh vaksin ini gk y?</td>\n",
              "      <td>4</td>\n",
              "    </tr>\n",
              "    <tr>\n",
              "      <th>199</th>\n",
              "      <td>nanank3</td>\n",
              "      <td>brarti nunggu 12 minggu antibodinya aktif ?</td>\n",
              "      <td>4</td>\n",
              "    </tr>\n",
              "    <tr>\n",
              "      <th>200</th>\n",
              "      <td>rudispran</td>\n",
              "      <td>Yg kipi di publikasikan jg di list tiap update...</td>\n",
              "      <td>4</td>\n",
              "    </tr>\n",
              "  </tbody>\n",
              "</table>\n",
              "<p>201 rows × 3 columns</p>\n",
              "</div>"
            ],
            "text/plain": [
              "                           Name  ... tag\n",
              "0                  jhaunceryl27  ...   4\n",
              "1                jajat_7uansyah  ...   4\n",
              "2                zulkiplimuhtar  ...   4\n",
              "3                   yuhartini17  ...   4\n",
              "4                  aswadsabirin  ...   4\n",
              "..                          ...  ...  ..\n",
              "196                 stevy.agnes  ...   4\n",
              "197  agatha_kristiastutitananta  ...   4\n",
              "198                 ninda_kania  ...   4\n",
              "199                     nanank3  ...   4\n",
              "200                   rudispran  ...   4\n",
              "\n",
              "[201 rows x 3 columns]"
            ]
          },
          "metadata": {
            "tags": []
          },
          "execution_count": 82
        }
      ]
    },
    {
      "cell_type": "code",
      "metadata": {
        "colab": {
          "base_uri": "https://localhost:8080/"
        },
        "id": "P2OObAcNJQS4",
        "outputId": "e351b95f-cd14-492b-ad3e-f9912b4c8725"
      },
      "source": [
        "print(df.tag.value_counts())"
      ],
      "execution_count": 83,
      "outputs": [
        {
          "output_type": "stream",
          "text": [
            "netral     119\n",
            "negatif     73\n",
            "positif     58\n",
            "Name: tag, dtype: int64\n"
          ],
          "name": "stdout"
        }
      ]
    },
    {
      "cell_type": "code",
      "metadata": {
        "colab": {
          "base_uri": "https://localhost:8080/",
          "height": 408
        },
        "id": "SUre-yaUJdLc",
        "outputId": "9eb7285d-b50d-42f5-bc29-cbbdc6c10c27"
      },
      "source": [
        "df['POS']= np.where(df['tag'] == 'positif', '1', '0')\n",
        "df['NET']= np.where(df['tag'] == 'netral', '1', '0')\n",
        "df['NEG']= np.where(df['tag'] == 'negatif', '1', '0')\n",
        "df = df.drop(['tag'], axis=1)\n",
        "df"
      ],
      "execution_count": 7,
      "outputs": [
        {
          "output_type": "execute_result",
          "data": {
            "text/html": [
              "<div>\n",
              "<style scoped>\n",
              "    .dataframe tbody tr th:only-of-type {\n",
              "        vertical-align: middle;\n",
              "    }\n",
              "\n",
              "    .dataframe tbody tr th {\n",
              "        vertical-align: top;\n",
              "    }\n",
              "\n",
              "    .dataframe thead th {\n",
              "        text-align: right;\n",
              "    }\n",
              "</style>\n",
              "<table border=\"1\" class=\"dataframe\">\n",
              "  <thead>\n",
              "    <tr style=\"text-align: right;\">\n",
              "      <th></th>\n",
              "      <th>Name</th>\n",
              "      <th>Comments</th>\n",
              "      <th>POS</th>\n",
              "      <th>NET</th>\n",
              "      <th>NEG</th>\n",
              "    </tr>\n",
              "  </thead>\n",
              "  <tbody>\n",
              "    <tr>\n",
              "      <th>0</th>\n",
              "      <td>galannxceepta</td>\n",
              "      <td>Sarah gilbert melepas hak paten vaksin astraze...</td>\n",
              "      <td>1</td>\n",
              "      <td>0</td>\n",
              "      <td>0</td>\n",
              "    </tr>\n",
              "    <tr>\n",
              "      <th>1</th>\n",
              "      <td>mas_bar35</td>\n",
              "      <td>Apakah dia lulusan UI yg ada komisarisnya itu</td>\n",
              "      <td>0</td>\n",
              "      <td>1</td>\n",
              "      <td>0</td>\n",
              "    </tr>\n",
              "    <tr>\n",
              "      <th>2</th>\n",
              "      <td>m.taufik4671</td>\n",
              "      <td>Vaksin nusantara ga ada cuannya, makanya ga di...</td>\n",
              "      <td>0</td>\n",
              "      <td>1</td>\n",
              "      <td>0</td>\n",
              "    </tr>\n",
              "    <tr>\n",
              "      <th>3</th>\n",
              "      <td>indraadityalukman</td>\n",
              "      <td>Saya indra. Bukan satpol</td>\n",
              "      <td>0</td>\n",
              "      <td>1</td>\n",
              "      <td>0</td>\n",
              "    </tr>\n",
              "    <tr>\n",
              "      <th>4</th>\n",
              "      <td>ismailmarzuki19</td>\n",
              "      <td>Marketingnya bagus ni</td>\n",
              "      <td>0</td>\n",
              "      <td>0</td>\n",
              "      <td>1</td>\n",
              "    </tr>\n",
              "    <tr>\n",
              "      <th>...</th>\n",
              "      <td>...</td>\n",
              "      <td>...</td>\n",
              "      <td>...</td>\n",
              "      <td>...</td>\n",
              "      <td>...</td>\n",
              "    </tr>\n",
              "    <tr>\n",
              "      <th>446</th>\n",
              "      <td>pejuangrakyat6880</td>\n",
              "      <td>Di fikir siapa kali bisa cegah kematian 😂 mau ...</td>\n",
              "      <td>0</td>\n",
              "      <td>0</td>\n",
              "      <td>1</td>\n",
              "    </tr>\n",
              "    <tr>\n",
              "      <th>447</th>\n",
              "      <td>danuandiyanto</td>\n",
              "      <td>Dulu dihina, sekarang dipuja.</td>\n",
              "      <td>0</td>\n",
              "      <td>1</td>\n",
              "      <td>0</td>\n",
              "    </tr>\n",
              "    <tr>\n",
              "      <th>448</th>\n",
              "      <td>bayulejing</td>\n",
              "      <td>Gak covid gak ad vansin..Tuhan bilang Mati ya ...</td>\n",
              "      <td>0</td>\n",
              "      <td>0</td>\n",
              "      <td>1</td>\n",
              "    </tr>\n",
              "    <tr>\n",
              "      <th>449</th>\n",
              "      <td>undefeatedkid</td>\n",
              "      <td>Tempo jadi sales 😂😂😂</td>\n",
              "      <td>0</td>\n",
              "      <td>0</td>\n",
              "      <td>1</td>\n",
              "    </tr>\n",
              "    <tr>\n",
              "      <th>450</th>\n",
              "      <td>arkynugraha</td>\n",
              "      <td>2% itu jangka pendek, klo efek jangka panjang ...</td>\n",
              "      <td>1</td>\n",
              "      <td>0</td>\n",
              "      <td>0</td>\n",
              "    </tr>\n",
              "  </tbody>\n",
              "</table>\n",
              "<p>250 rows × 5 columns</p>\n",
              "</div>"
            ],
            "text/plain": [
              "                  Name  ... NEG\n",
              "0        galannxceepta  ...   0\n",
              "1            mas_bar35  ...   0\n",
              "2         m.taufik4671  ...   0\n",
              "3    indraadityalukman  ...   0\n",
              "4      ismailmarzuki19  ...   1\n",
              "..                 ...  ...  ..\n",
              "446  pejuangrakyat6880  ...   1\n",
              "447      danuandiyanto  ...   0\n",
              "448         bayulejing  ...   1\n",
              "449      undefeatedkid  ...   1\n",
              "450        arkynugraha  ...   0\n",
              "\n",
              "[250 rows x 5 columns]"
            ]
          },
          "metadata": {
            "tags": []
          },
          "execution_count": 7
        }
      ]
    },
    {
      "cell_type": "code",
      "metadata": {
        "colab": {
          "base_uri": "https://localhost:8080/",
          "height": 419
        },
        "id": "tuhCkXtUKuSn",
        "outputId": "c40fa72c-fe3a-41c6-d862-f302b7842ce9"
      },
      "source": [
        "#ilangin link dan uname\n",
        "df[\"Comments\"]=df[\"Comments\"].str.replace('(?:\\@|https?\\://)\\S+', '')\n",
        "#ilangin lowercase\n",
        "df[\"Comments\"]=df[\"Comments\"].str.lower()\n",
        "#ilangin simbol\n",
        "df[\"Comments\"]=df[\"Comments\"].str.replace('[^\\w\\s]',' ')\n",
        "#ilangin angka\n",
        "df[\"Comments\"]=df[\"Comments\"].str.replace('\\d+',' ')\n",
        "#ilangin enter\n",
        "df[\"Comments\"]=df[\"Comments\"].str.replace('\\n',' ',regex=True)\n",
        "df[\"Comments\"] = df[\"Comments\"].replace('\\s+', ' ', regex=True)\n",
        "df"
      ],
      "execution_count": 8,
      "outputs": [
        {
          "output_type": "execute_result",
          "data": {
            "text/html": [
              "<div>\n",
              "<style scoped>\n",
              "    .dataframe tbody tr th:only-of-type {\n",
              "        vertical-align: middle;\n",
              "    }\n",
              "\n",
              "    .dataframe tbody tr th {\n",
              "        vertical-align: top;\n",
              "    }\n",
              "\n",
              "    .dataframe thead th {\n",
              "        text-align: right;\n",
              "    }\n",
              "</style>\n",
              "<table border=\"1\" class=\"dataframe\">\n",
              "  <thead>\n",
              "    <tr style=\"text-align: right;\">\n",
              "      <th></th>\n",
              "      <th>Name</th>\n",
              "      <th>Comments</th>\n",
              "      <th>POS</th>\n",
              "      <th>NET</th>\n",
              "      <th>NEG</th>\n",
              "    </tr>\n",
              "  </thead>\n",
              "  <tbody>\n",
              "    <tr>\n",
              "      <th>0</th>\n",
              "      <td>galannxceepta</td>\n",
              "      <td>sarah gilbert melepas hak paten vaksin astraze...</td>\n",
              "      <td>1</td>\n",
              "      <td>0</td>\n",
              "      <td>0</td>\n",
              "    </tr>\n",
              "    <tr>\n",
              "      <th>1</th>\n",
              "      <td>mas_bar35</td>\n",
              "      <td>apakah dia lulusan ui yg ada komisarisnya itu</td>\n",
              "      <td>0</td>\n",
              "      <td>1</td>\n",
              "      <td>0</td>\n",
              "    </tr>\n",
              "    <tr>\n",
              "      <th>2</th>\n",
              "      <td>m.taufik4671</td>\n",
              "      <td>vaksin nusantara ga ada cuannya makanya ga di ...</td>\n",
              "      <td>0</td>\n",
              "      <td>1</td>\n",
              "      <td>0</td>\n",
              "    </tr>\n",
              "    <tr>\n",
              "      <th>3</th>\n",
              "      <td>indraadityalukman</td>\n",
              "      <td>saya indra bukan satpol</td>\n",
              "      <td>0</td>\n",
              "      <td>1</td>\n",
              "      <td>0</td>\n",
              "    </tr>\n",
              "    <tr>\n",
              "      <th>4</th>\n",
              "      <td>ismailmarzuki19</td>\n",
              "      <td>marketingnya bagus ni</td>\n",
              "      <td>0</td>\n",
              "      <td>0</td>\n",
              "      <td>1</td>\n",
              "    </tr>\n",
              "    <tr>\n",
              "      <th>...</th>\n",
              "      <td>...</td>\n",
              "      <td>...</td>\n",
              "      <td>...</td>\n",
              "      <td>...</td>\n",
              "      <td>...</td>\n",
              "    </tr>\n",
              "    <tr>\n",
              "      <th>446</th>\n",
              "      <td>pejuangrakyat6880</td>\n",
              "      <td>di fikir siapa kali bisa cegah kematian mau ng...</td>\n",
              "      <td>0</td>\n",
              "      <td>0</td>\n",
              "      <td>1</td>\n",
              "    </tr>\n",
              "    <tr>\n",
              "      <th>447</th>\n",
              "      <td>danuandiyanto</td>\n",
              "      <td>dulu dihina sekarang dipuja</td>\n",
              "      <td>0</td>\n",
              "      <td>1</td>\n",
              "      <td>0</td>\n",
              "    </tr>\n",
              "    <tr>\n",
              "      <th>448</th>\n",
              "      <td>bayulejing</td>\n",
              "      <td>gak covid gak ad vansin tuhan bilang mati ya m...</td>\n",
              "      <td>0</td>\n",
              "      <td>0</td>\n",
              "      <td>1</td>\n",
              "    </tr>\n",
              "    <tr>\n",
              "      <th>449</th>\n",
              "      <td>undefeatedkid</td>\n",
              "      <td>tempo jadi sales</td>\n",
              "      <td>0</td>\n",
              "      <td>0</td>\n",
              "      <td>1</td>\n",
              "    </tr>\n",
              "    <tr>\n",
              "      <th>450</th>\n",
              "      <td>arkynugraha</td>\n",
              "      <td>itu jangka pendek klo efek jangka panjang bel...</td>\n",
              "      <td>1</td>\n",
              "      <td>0</td>\n",
              "      <td>0</td>\n",
              "    </tr>\n",
              "  </tbody>\n",
              "</table>\n",
              "<p>250 rows × 5 columns</p>\n",
              "</div>"
            ],
            "text/plain": [
              "                  Name  ... NEG\n",
              "0        galannxceepta  ...   0\n",
              "1            mas_bar35  ...   0\n",
              "2         m.taufik4671  ...   0\n",
              "3    indraadityalukman  ...   0\n",
              "4      ismailmarzuki19  ...   1\n",
              "..                 ...  ...  ..\n",
              "446  pejuangrakyat6880  ...   1\n",
              "447      danuandiyanto  ...   0\n",
              "448         bayulejing  ...   1\n",
              "449      undefeatedkid  ...   1\n",
              "450        arkynugraha  ...   0\n",
              "\n",
              "[250 rows x 5 columns]"
            ]
          },
          "metadata": {
            "tags": []
          },
          "execution_count": 8
        }
      ]
    },
    {
      "cell_type": "code",
      "metadata": {
        "colab": {
          "base_uri": "https://localhost:8080/"
        },
        "id": "gr81lnrEJ8vw",
        "outputId": "d3a92ccb-47a6-49de-f77a-1d4c0b29ed1f"
      },
      "source": [
        "df_majority = df[df.POS== '0' ]\n",
        "\n",
        "df_minority = df[df.POS== '1']\n",
        "\n",
        "df_minority_upsampled = resample(df_minority, \n",
        "                                 replace=True,     # sample with replacement\n",
        "                                 n_samples=119,    # to match majority class\n",
        "                                 random_state=123)   # reproducible results\n",
        "df_upsampled = pd.concat([df_majority, df_minority_upsampled])\n",
        "df_majority_2 = df_upsampled[df_upsampled.NEG== '0' ]\n",
        "\n",
        "df_minority_2 = df_upsampled[df_upsampled.NEG== '1']\n",
        "\n",
        "df_minority_upsampled_2 = resample(df_minority_2, \n",
        "                                 replace=True,     # sample with replacement\n",
        "                                 n_samples=119,    # to match majority class\n",
        "                                 random_state=123)   # reproducible results\n",
        "df_upsampled_2 = pd.concat([df_majority_2, df_minority_upsampled_2])\n",
        "df = df_upsampled_2\n",
        "print(df.POS.value_counts())\n",
        "print(df.NET.value_counts())\n",
        "print(df.NEG.value_counts())"
      ],
      "execution_count": 9,
      "outputs": [
        {
          "output_type": "stream",
          "text": [
            "0    238\n",
            "1    119\n",
            "Name: POS, dtype: int64\n",
            "0    238\n",
            "1    119\n",
            "Name: NET, dtype: int64\n",
            "0    238\n",
            "1    119\n",
            "Name: NEG, dtype: int64\n"
          ],
          "name": "stdout"
        }
      ]
    },
    {
      "cell_type": "code",
      "metadata": {
        "id": "e1wa6dioMkwe"
      },
      "source": [
        "df['POS']=df['POS'].astype(int)\n",
        "df['NET']=df['NET'].astype(int)\n",
        "df['NEG']=df['NEG'].astype(int)\n",
        "train, test = train_test_split(df, test_size=0.2, random_state = 23)\n",
        "list_classes = ['POS','NET','NEG']\n",
        "y = train[list_classes].values\n",
        "y_te = test[list_classes].values\n",
        "list_sentences_train = train[\"Comments\"]\n",
        "list_sentences_test = test[\"Comments\"]\n",
        "max_features = 100000\n",
        "tokenizer = Tokenizer(num_words=max_features)\n",
        "tokenizer.fit_on_texts(list(list_sentences_train))\n",
        "list_tokenized_train = tokenizer.texts_to_sequences(list_sentences_train)\n",
        "list_tokenized_test = tokenizer.texts_to_sequences(list_sentences_test)\n",
        "maxlen = 50\n",
        "X_t = pad_sequences(list_tokenized_train, maxlen=maxlen)\n",
        "X_te = pad_sequences(list_tokenized_test, maxlen=maxlen)\n",
        "totalNumWords = [len(one_comment) for one_comment in list_tokenized_train]"
      ],
      "execution_count": 12,
      "outputs": []
    },
    {
      "cell_type": "code",
      "metadata": {
        "id": "WSFMz3i9WNeB"
      },
      "source": [
        "def loadEmbeddingMatrix(typeToLoad):\n",
        "        #load different embedding file from Kaggle depending on which embedding \n",
        "        #matrix we are going to experiment with\n",
        "        if(typeToLoad==\"word2vec\"):\n",
        "            word2vecDict = KeyedVectors.load_word2vec_format(\"model300.bin\", binary=True)\n",
        "            embed_size = 300\n",
        "            embeddings_index = dict()\n",
        "            for word in word2vecDict.wv.vocab:\n",
        "                embeddings_index[word] = word2vecDict.word_vec(word)\n",
        "            print('Loaded %s word vectors.' % len(embeddings_index))\n",
        "            \n",
        "        gc.collect()\n",
        "        #We get the mean and standard deviation of the embedding weights so that we could maintain the \n",
        "        #same statistics for the rest of our own random generated weights. \n",
        "        all_embs = np.stack(list(embeddings_index.values()))\n",
        "        emb_mean,emb_std = all_embs.mean(), all_embs.std()\n",
        "        \n",
        "        nb_words = len(tokenizer.word_index)+1\n",
        "        #We are going to set the embedding size to the pretrained dimension as we are replicating it.\n",
        "        #the size will be Number of Words in Vocab X Embedding Size\n",
        "        embedding_matrix = np.random.normal(emb_mean, emb_std, (nb_words, embed_size))\n",
        "        gc.collect()\n",
        "\n",
        "        #With the newly created embedding matrix, we'll fill it up with the words that we have in both \n",
        "        #our own dictionary and loaded pretrained embedding. \n",
        "        embeddedCount = 0\n",
        "        for word, i in tokenizer.word_index.items():\n",
        "            i-=1\n",
        "            #then we see if this word is in glove's dictionary, if yes, get the corresponding weights\n",
        "            embedding_vector = embeddings_index.get(word)\n",
        "            #and store inside the embedding matrix that we will train later on.\n",
        "            if embedding_vector is not None: \n",
        "                embedding_matrix[i] = embedding_vector\n",
        "                embeddedCount+=1\n",
        "        print('total embedded:',embeddedCount,'common words')\n",
        "        \n",
        "        del(embeddings_index)\n",
        "        gc.collect()\n",
        "        \n",
        "        #finally, return the embedding matrix\n",
        "        return embedding_matrix"
      ],
      "execution_count": 13,
      "outputs": []
    },
    {
      "cell_type": "code",
      "metadata": {
        "id": "9d_lBylPVuA1"
      },
      "source": [
        "def create_fold_embeddings(embeddings_dim, key_vector):\n",
        "    \n",
        "    emb_init_values = []\n",
        "    unk = []\n",
        "\n",
        "    a = 0\n",
        "    b = 0\n",
        "\n",
        "    for word, i in tokenizer.word_index.items():  # Untuk memastikan bahwa urut\n",
        "        if word == '<unk>':\n",
        "            emb_init_values.append(np.random.uniform(-0.25, 0.25, embeddings_dim).astype('float32'))\n",
        "\n",
        "        elif word == '<pad>':\n",
        "            emb_init_values.append(np.zeros(embeddings_dim).astype('float32'))\n",
        "                    \n",
        "        elif word in key_vector.wv.vocab:\n",
        "            emb_init_values.append(key_vector.wv.word_vec(word))\n",
        "            b = b+1\n",
        "        else:\n",
        "            emb_init_values.append(np.random.uniform(-0.25, 0.25, embeddings_dim).astype('float32'))\n",
        "            a = a+1\n",
        "            unk.append(word)\n",
        "            # print(word)\n",
        "    emb_init_values.append(np.random.uniform(-0.25, 0.25, embeddings_dim).astype('float32'))\n",
        "    known_word = b\n",
        "    unknown_word = a\n",
        "\n",
        "    print(known_word, unknown_word)\n",
        "\n",
        "    return known_word, unknown_word, emb_init_values"
      ],
      "execution_count": 14,
      "outputs": []
    },
    {
      "cell_type": "code",
      "metadata": {
        "id": "EebqDeqIVveU"
      },
      "source": [
        "word_vectors = KeyedVectors.load_word2vec_format(\"/content/drive/MyDrive/model300.bin\",binary=\"True\", unicode_errors='ignore')\n",
        "word2vec = word_vectors\n",
        "embed_dim = 300"
      ],
      "execution_count": 15,
      "outputs": []
    },
    {
      "cell_type": "code",
      "metadata": {
        "colab": {
          "base_uri": "https://localhost:8080/"
        },
        "id": "ZZ1sU4qKD8e9",
        "outputId": "8145a185-5b5e-4314-e2e5-75940cd3cac5"
      },
      "source": [
        "known_word, unknown_word, emb_init_values = create_fold_embeddings(embed_dim, word_vectors)\n",
        "emb_init_values = np.array(emb_init_values)\n",
        "print(\"known words:\", known_word)\n",
        "print(\"unknown words:\", unknown_word)"
      ],
      "execution_count": 16,
      "outputs": [
        {
          "output_type": "stream",
          "text": [
            "1324 166\n",
            "known words: 1324\n",
            "unknown words: 166\n"
          ],
          "name": "stdout"
        },
        {
          "output_type": "stream",
          "text": [
            "/usr/local/lib/python3.7/dist-packages/ipykernel_launcher.py:16: DeprecationWarning: Call to deprecated `wv` (Attribute will be removed in 4.0.0, use self instead).\n",
            "  app.launch_new_instance()\n",
            "/usr/local/lib/python3.7/dist-packages/ipykernel_launcher.py:17: DeprecationWarning: Call to deprecated `wv` (Attribute will be removed in 4.0.0, use self instead).\n"
          ],
          "name": "stderr"
        }
      ]
    },
    {
      "cell_type": "code",
      "metadata": {
        "id": "eLFZETknEAQF"
      },
      "source": [
        "class RocAucEvaluation(Callback):\n",
        "    def __init__(self, validation_data=(), interval=1):\n",
        "        super(Callback, self).__init__()\n",
        "\n",
        "        self.interval = interval\n",
        "        self.X_val, self.y_val = validation_data\n",
        "\n",
        "    def on_epoch_end(self, epoch, logs={}):\n",
        "        if epoch % self.interval == 0:\n",
        "            y_pred = self.model.predict(self.X_val, verbose=0)\n",
        "            score = roc_auc_score(self.y_val, y_pred)\n",
        "            print(\"\\n ROC-AUC - epoch: %d - score: %.6f \\n\" % (epoch+1, score))\n",
        "inp = Input(shape=(maxlen,))\n"
      ],
      "execution_count": 17,
      "outputs": []
    },
    {
      "cell_type": "code",
      "metadata": {
        "colab": {
          "base_uri": "https://localhost:8080/"
        },
        "id": "2DA3Sn94ENln",
        "outputId": "6302aa77-0b0c-42ed-ea91-71c8e576e146"
      },
      "source": [
        "x = Embedding(len(tokenizer.word_index)+1, emb_init_values.shape[1],weights=[emb_init_values],trainable=True)(inp)\n",
        "# print(inp.shape)\n",
        "#x = Bidirectional(LSTM(200, activation='tanh', return_sequences = True, dropout=0.4))(x)\n",
        "x = GRU(200, return_sequences=True)(x)\n",
        "\n",
        "x = GlobalMaxPool1D()(x)\n",
        "x = Dropout(0.1)(x)\n",
        "x = Dense(100)(x)\n",
        "x = Dropout(0.1)(x)\n",
        "x = Dense(50)(x)\n",
        "x = Dropout(0.1)(x)\n",
        "x = Dense(28, activation=\"relu\")(x)\n",
        "x = Dropout(0.1)(x)\n",
        "x = Dense(3, activation=\"sigmoid\")(x)\n",
        "\n",
        "\n",
        "model = Model(inputs=inp, outputs=x)\n",
        "opt = optimizers.SGD(lr=0.01)\n",
        "model.compile(loss='binary_crossentropy',\n",
        "                  optimizer=opt,\n",
        "                  metrics=['accuracy'])\n",
        "\n",
        "batch_size = 32\n",
        "epochs = 100\n",
        "\n",
        "# file_path=\"weights_base.best.hdf5\"\n",
        "RocAuc = RocAucEvaluation(validation_data=(X_te, y_te), interval=1)\n",
        "# checkpoint = ModelCheckpoint('modelEmb-{epoch:03d}-{acc:03f}-{val_acc:03f}.h5', verbose=1, monitor='val_loss',save_best_only=True, mode='auto')\n",
        "model.fit(X_t,y, batch_size=batch_size, epochs=epochs,  verbose=2,callbacks=[RocAuc], validation_data=(X_te, y_te))"
      ],
      "execution_count": null,
      "outputs": [
        {
          "output_type": "stream",
          "text": [
            "/usr/local/lib/python3.7/dist-packages/tensorflow/python/keras/optimizer_v2/optimizer_v2.py:375: UserWarning: The `lr` argument is deprecated, use `learning_rate` instead.\n",
            "  \"The `lr` argument is deprecated, use `learning_rate` instead.\")\n"
          ],
          "name": "stderr"
        },
        {
          "output_type": "stream",
          "text": [
            "Epoch 1/100\n",
            "9/9 - 5s - loss: 0.6712 - accuracy: 0.3298 - val_loss: 0.6525 - val_accuracy: 0.2500\n",
            "\n",
            " ROC-AUC - epoch: 1 - score: 0.508977 \n",
            "\n",
            "Epoch 2/100\n",
            "9/9 - 1s - loss: 0.6611 - accuracy: 0.3649 - val_loss: 0.6466 - val_accuracy: 0.2917\n",
            "\n",
            " ROC-AUC - epoch: 2 - score: 0.511549 \n",
            "\n",
            "Epoch 3/100\n",
            "9/9 - 2s - loss: 0.6689 - accuracy: 0.3404 - val_loss: 0.6429 - val_accuracy: 0.3056\n",
            "\n",
            " ROC-AUC - epoch: 3 - score: 0.526286 \n",
            "\n",
            "Epoch 4/100\n",
            "9/9 - 2s - loss: 0.6420 - accuracy: 0.3860 - val_loss: 0.6420 - val_accuracy: 0.2778\n",
            "\n",
            " ROC-AUC - epoch: 4 - score: 0.535975 \n",
            "\n",
            "Epoch 5/100\n",
            "9/9 - 2s - loss: 0.6498 - accuracy: 0.3789 - val_loss: 0.6373 - val_accuracy: 0.3750\n",
            "\n",
            " ROC-AUC - epoch: 5 - score: 0.550764 \n",
            "\n",
            "Epoch 6/100\n",
            "9/9 - 1s - loss: 0.6355 - accuracy: 0.4281 - val_loss: 0.6324 - val_accuracy: 0.3333\n",
            "\n",
            " ROC-AUC - epoch: 6 - score: 0.564777 \n",
            "\n",
            "Epoch 7/100\n",
            "9/9 - 2s - loss: 0.6401 - accuracy: 0.4386 - val_loss: 0.6285 - val_accuracy: 0.3750\n",
            "\n",
            " ROC-AUC - epoch: 7 - score: 0.581353 \n",
            "\n",
            "Epoch 8/100\n",
            "9/9 - 1s - loss: 0.6256 - accuracy: 0.4456 - val_loss: 0.6267 - val_accuracy: 0.4028\n",
            "\n",
            " ROC-AUC - epoch: 8 - score: 0.592277 \n",
            "\n",
            "Epoch 9/100\n",
            "9/9 - 1s - loss: 0.6308 - accuracy: 0.4246 - val_loss: 0.6250 - val_accuracy: 0.4306\n",
            "\n",
            " ROC-AUC - epoch: 9 - score: 0.597450 \n",
            "\n",
            "Epoch 10/100\n",
            "9/9 - 1s - loss: 0.6258 - accuracy: 0.4456 - val_loss: 0.6235 - val_accuracy: 0.4167\n",
            "\n",
            " ROC-AUC - epoch: 10 - score: 0.608055 \n",
            "\n",
            "Epoch 11/100\n",
            "9/9 - 2s - loss: 0.6209 - accuracy: 0.4632 - val_loss: 0.6222 - val_accuracy: 0.4167\n",
            "\n",
            " ROC-AUC - epoch: 11 - score: 0.614864 \n",
            "\n",
            "Epoch 12/100\n",
            "9/9 - 2s - loss: 0.6219 - accuracy: 0.4737 - val_loss: 0.6207 - val_accuracy: 0.4028\n",
            "\n",
            " ROC-AUC - epoch: 12 - score: 0.620394 \n",
            "\n",
            "Epoch 13/100\n",
            "9/9 - 2s - loss: 0.6142 - accuracy: 0.4702 - val_loss: 0.6171 - val_accuracy: 0.4444\n",
            "\n",
            " ROC-AUC - epoch: 13 - score: 0.626421 \n",
            "\n",
            "Epoch 14/100\n",
            "9/9 - 2s - loss: 0.6052 - accuracy: 0.4561 - val_loss: 0.6142 - val_accuracy: 0.4861\n",
            "\n",
            " ROC-AUC - epoch: 14 - score: 0.631517 \n",
            "\n",
            "Epoch 15/100\n",
            "9/9 - 2s - loss: 0.6209 - accuracy: 0.4807 - val_loss: 0.6132 - val_accuracy: 0.4583\n",
            "\n",
            " ROC-AUC - epoch: 15 - score: 0.640483 \n",
            "\n",
            "Epoch 16/100\n",
            "9/9 - 2s - loss: 0.5964 - accuracy: 0.4912 - val_loss: 0.6112 - val_accuracy: 0.4583\n",
            "\n",
            " ROC-AUC - epoch: 16 - score: 0.649741 \n",
            "\n",
            "Epoch 17/100\n",
            "9/9 - 2s - loss: 0.5947 - accuracy: 0.5158 - val_loss: 0.6089 - val_accuracy: 0.4722\n",
            "\n",
            " ROC-AUC - epoch: 17 - score: 0.656329 \n",
            "\n",
            "Epoch 18/100\n",
            "9/9 - 2s - loss: 0.5909 - accuracy: 0.5368 - val_loss: 0.6083 - val_accuracy: 0.4722\n",
            "\n",
            " ROC-AUC - epoch: 18 - score: 0.668760 \n",
            "\n",
            "Epoch 19/100\n",
            "9/9 - 2s - loss: 0.5909 - accuracy: 0.5123 - val_loss: 0.6050 - val_accuracy: 0.4722\n",
            "\n",
            " ROC-AUC - epoch: 19 - score: 0.668565 \n",
            "\n",
            "Epoch 20/100\n",
            "9/9 - 1s - loss: 0.5961 - accuracy: 0.5298 - val_loss: 0.6044 - val_accuracy: 0.4861\n",
            "\n",
            " ROC-AUC - epoch: 20 - score: 0.675086 \n",
            "\n",
            "Epoch 21/100\n",
            "9/9 - 2s - loss: 0.5931 - accuracy: 0.5018 - val_loss: 0.6042 - val_accuracy: 0.4722\n",
            "\n",
            " ROC-AUC - epoch: 21 - score: 0.675031 \n",
            "\n",
            "Epoch 22/100\n",
            "9/9 - 2s - loss: 0.5853 - accuracy: 0.5439 - val_loss: 0.6008 - val_accuracy: 0.5000\n",
            "\n",
            " ROC-AUC - epoch: 22 - score: 0.682988 \n",
            "\n",
            "Epoch 23/100\n",
            "9/9 - 1s - loss: 0.5811 - accuracy: 0.5404 - val_loss: 0.6001 - val_accuracy: 0.4861\n",
            "\n",
            " ROC-AUC - epoch: 23 - score: 0.693446 \n",
            "\n",
            "Epoch 24/100\n",
            "9/9 - 1s - loss: 0.5757 - accuracy: 0.5614 - val_loss: 0.5961 - val_accuracy: 0.5139\n",
            "\n",
            " ROC-AUC - epoch: 24 - score: 0.700780 \n",
            "\n",
            "Epoch 25/100\n",
            "9/9 - 1s - loss: 0.5523 - accuracy: 0.5930 - val_loss: 0.5926 - val_accuracy: 0.5278\n",
            "\n",
            " ROC-AUC - epoch: 25 - score: 0.704377 \n",
            "\n",
            "Epoch 26/100\n",
            "9/9 - 2s - loss: 0.5708 - accuracy: 0.5474 - val_loss: 0.5955 - val_accuracy: 0.5000\n",
            "\n",
            " ROC-AUC - epoch: 26 - score: 0.703468 \n",
            "\n",
            "Epoch 27/100\n",
            "9/9 - 2s - loss: 0.5724 - accuracy: 0.5719 - val_loss: 0.5904 - val_accuracy: 0.5139\n",
            "\n",
            " ROC-AUC - epoch: 27 - score: 0.712645 \n",
            "\n",
            "Epoch 28/100\n",
            "9/9 - 1s - loss: 0.5520 - accuracy: 0.6035 - val_loss: 0.5852 - val_accuracy: 0.5278\n",
            "\n",
            " ROC-AUC - epoch: 28 - score: 0.722546 \n",
            "\n",
            "Epoch 29/100\n",
            "9/9 - 2s - loss: 0.5744 - accuracy: 0.5193 - val_loss: 0.5838 - val_accuracy: 0.5278\n",
            "\n",
            " ROC-AUC - epoch: 29 - score: 0.720355 \n",
            "\n",
            "Epoch 30/100\n",
            "9/9 - 1s - loss: 0.5536 - accuracy: 0.5860 - val_loss: 0.5833 - val_accuracy: 0.5556\n",
            "\n",
            " ROC-AUC - epoch: 30 - score: 0.729310 \n",
            "\n",
            "Epoch 31/100\n",
            "9/9 - 2s - loss: 0.5552 - accuracy: 0.5895 - val_loss: 0.5811 - val_accuracy: 0.5278\n",
            "\n",
            " ROC-AUC - epoch: 31 - score: 0.730684 \n",
            "\n",
            "Epoch 32/100\n",
            "9/9 - 2s - loss: 0.5524 - accuracy: 0.5649 - val_loss: 0.5795 - val_accuracy: 0.5417\n",
            "\n",
            " ROC-AUC - epoch: 32 - score: 0.732173 \n",
            "\n",
            "Epoch 33/100\n",
            "9/9 - 1s - loss: 0.5506 - accuracy: 0.5930 - val_loss: 0.5773 - val_accuracy: 0.5556\n",
            "\n",
            " ROC-AUC - epoch: 33 - score: 0.741036 \n",
            "\n",
            "Epoch 34/100\n",
            "9/9 - 1s - loss: 0.5253 - accuracy: 0.6912 - val_loss: 0.5742 - val_accuracy: 0.5833\n",
            "\n",
            " ROC-AUC - epoch: 34 - score: 0.744764 \n",
            "\n",
            "Epoch 35/100\n",
            "9/9 - 1s - loss: 0.5337 - accuracy: 0.6456 - val_loss: 0.5720 - val_accuracy: 0.5556\n",
            "\n",
            " ROC-AUC - epoch: 35 - score: 0.750531 \n",
            "\n",
            "Epoch 36/100\n",
            "9/9 - 1s - loss: 0.5222 - accuracy: 0.6386 - val_loss: 0.5696 - val_accuracy: 0.5694\n",
            "\n",
            " ROC-AUC - epoch: 36 - score: 0.754332 \n",
            "\n",
            "Epoch 37/100\n",
            "9/9 - 1s - loss: 0.5201 - accuracy: 0.6491 - val_loss: 0.5656 - val_accuracy: 0.5972\n",
            "\n",
            " ROC-AUC - epoch: 37 - score: 0.758633 \n",
            "\n",
            "Epoch 38/100\n",
            "9/9 - 1s - loss: 0.5281 - accuracy: 0.6596 - val_loss: 0.5640 - val_accuracy: 0.5972\n",
            "\n",
            " ROC-AUC - epoch: 38 - score: 0.762650 \n",
            "\n",
            "Epoch 39/100\n",
            "9/9 - 2s - loss: 0.5051 - accuracy: 0.6807 - val_loss: 0.5587 - val_accuracy: 0.5694\n",
            "\n",
            " ROC-AUC - epoch: 39 - score: 0.767323 \n",
            "\n",
            "Epoch 40/100\n",
            "9/9 - 1s - loss: 0.5143 - accuracy: 0.6351 - val_loss: 0.5591 - val_accuracy: 0.5833\n",
            "\n",
            " ROC-AUC - epoch: 40 - score: 0.777533 \n",
            "\n",
            "Epoch 41/100\n",
            "9/9 - 1s - loss: 0.5069 - accuracy: 0.6667 - val_loss: 0.5522 - val_accuracy: 0.5694\n",
            "\n",
            " ROC-AUC - epoch: 41 - score: 0.775152 \n",
            "\n",
            "Epoch 42/100\n",
            "9/9 - 1s - loss: 0.4845 - accuracy: 0.6982 - val_loss: 0.5517 - val_accuracy: 0.5972\n",
            "\n",
            " ROC-AUC - epoch: 42 - score: 0.783081 \n",
            "\n",
            "Epoch 43/100\n",
            "9/9 - 1s - loss: 0.4790 - accuracy: 0.6702 - val_loss: 0.5482 - val_accuracy: 0.5972\n",
            "\n",
            " ROC-AUC - epoch: 43 - score: 0.784443 \n",
            "\n",
            "Epoch 44/100\n",
            "9/9 - 1s - loss: 0.4799 - accuracy: 0.6947 - val_loss: 0.5478 - val_accuracy: 0.6111\n",
            "\n",
            " ROC-AUC - epoch: 44 - score: 0.788961 \n",
            "\n",
            "Epoch 45/100\n",
            "9/9 - 1s - loss: 0.4810 - accuracy: 0.6842 - val_loss: 0.5349 - val_accuracy: 0.5833\n",
            "\n",
            " ROC-AUC - epoch: 45 - score: 0.794065 \n",
            "\n",
            "Epoch 46/100\n",
            "9/9 - 1s - loss: 0.4773 - accuracy: 0.7018 - val_loss: 0.5320 - val_accuracy: 0.5972\n",
            "\n",
            " ROC-AUC - epoch: 46 - score: 0.797909 \n",
            "\n",
            "Epoch 47/100\n",
            "9/9 - 2s - loss: 0.4712 - accuracy: 0.7088 - val_loss: 0.5238 - val_accuracy: 0.5972\n",
            "\n",
            " ROC-AUC - epoch: 47 - score: 0.804114 \n",
            "\n",
            "Epoch 48/100\n",
            "9/9 - 1s - loss: 0.4644 - accuracy: 0.7088 - val_loss: 0.5213 - val_accuracy: 0.6250\n",
            "\n",
            " ROC-AUC - epoch: 48 - score: 0.807547 \n",
            "\n",
            "Epoch 49/100\n",
            "9/9 - 1s - loss: 0.4723 - accuracy: 0.7018 - val_loss: 0.5168 - val_accuracy: 0.6250\n",
            "\n",
            " ROC-AUC - epoch: 49 - score: 0.812805 \n",
            "\n",
            "Epoch 50/100\n",
            "9/9 - 1s - loss: 0.4433 - accuracy: 0.7158 - val_loss: 0.5160 - val_accuracy: 0.5972\n",
            "\n",
            " ROC-AUC - epoch: 50 - score: 0.815226 \n",
            "\n",
            "Epoch 51/100\n",
            "9/9 - 1s - loss: 0.4466 - accuracy: 0.7228 - val_loss: 0.5084 - val_accuracy: 0.6111\n",
            "\n",
            " ROC-AUC - epoch: 51 - score: 0.821280 \n",
            "\n",
            "Epoch 52/100\n",
            "9/9 - 1s - loss: 0.4327 - accuracy: 0.7018 - val_loss: 0.5063 - val_accuracy: 0.6528\n",
            "\n",
            " ROC-AUC - epoch: 52 - score: 0.825625 \n",
            "\n",
            "Epoch 53/100\n",
            "9/9 - 2s - loss: 0.4218 - accuracy: 0.7579 - val_loss: 0.4995 - val_accuracy: 0.6250\n",
            "\n",
            " ROC-AUC - epoch: 53 - score: 0.828186 \n",
            "\n",
            "Epoch 54/100\n",
            "9/9 - 1s - loss: 0.4143 - accuracy: 0.7789 - val_loss: 0.4955 - val_accuracy: 0.6389\n",
            "\n",
            " ROC-AUC - epoch: 54 - score: 0.830156 \n",
            "\n",
            "Epoch 55/100\n",
            "9/9 - 2s - loss: 0.4096 - accuracy: 0.7719 - val_loss: 0.4912 - val_accuracy: 0.6389\n",
            "\n",
            " ROC-AUC - epoch: 55 - score: 0.836702 \n",
            "\n",
            "Epoch 56/100\n",
            "9/9 - 2s - loss: 0.4179 - accuracy: 0.7474 - val_loss: 0.4891 - val_accuracy: 0.6667\n",
            "\n",
            " ROC-AUC - epoch: 56 - score: 0.837497 \n",
            "\n",
            "Epoch 57/100\n",
            "9/9 - 2s - loss: 0.3964 - accuracy: 0.8035 - val_loss: 0.4843 - val_accuracy: 0.6806\n",
            "\n",
            " ROC-AUC - epoch: 57 - score: 0.841009 \n",
            "\n",
            "Epoch 58/100\n",
            "9/9 - 2s - loss: 0.3851 - accuracy: 0.7930 - val_loss: 0.4786 - val_accuracy: 0.6806\n",
            "\n",
            " ROC-AUC - epoch: 58 - score: 0.843947 \n",
            "\n",
            "Epoch 59/100\n",
            "9/9 - 1s - loss: 0.3842 - accuracy: 0.8140 - val_loss: 0.4702 - val_accuracy: 0.6806\n",
            "\n",
            " ROC-AUC - epoch: 59 - score: 0.847531 \n",
            "\n",
            "Epoch 60/100\n",
            "9/9 - 1s - loss: 0.3872 - accuracy: 0.8140 - val_loss: 0.4651 - val_accuracy: 0.6806\n",
            "\n",
            " ROC-AUC - epoch: 60 - score: 0.855881 \n",
            "\n",
            "Epoch 61/100\n",
            "9/9 - 1s - loss: 0.3757 - accuracy: 0.7895 - val_loss: 0.4671 - val_accuracy: 0.6944\n",
            "\n",
            " ROC-AUC - epoch: 61 - score: 0.855749 \n",
            "\n",
            "Epoch 62/100\n",
            "9/9 - 2s - loss: 0.3471 - accuracy: 0.8281 - val_loss: 0.4560 - val_accuracy: 0.6806\n",
            "\n",
            " ROC-AUC - epoch: 62 - score: 0.860795 \n",
            "\n",
            "Epoch 63/100\n",
            "9/9 - 1s - loss: 0.3536 - accuracy: 0.8246 - val_loss: 0.4525 - val_accuracy: 0.6667\n",
            "\n",
            " ROC-AUC - epoch: 63 - score: 0.864283 \n",
            "\n",
            "Epoch 64/100\n",
            "9/9 - 2s - loss: 0.3495 - accuracy: 0.8386 - val_loss: 0.4491 - val_accuracy: 0.7361\n",
            "\n",
            " ROC-AUC - epoch: 64 - score: 0.864532 \n",
            "\n",
            "Epoch 65/100\n",
            "9/9 - 2s - loss: 0.3291 - accuracy: 0.8702 - val_loss: 0.4410 - val_accuracy: 0.7361\n",
            "\n",
            " ROC-AUC - epoch: 65 - score: 0.867794 \n",
            "\n",
            "Epoch 66/100\n",
            "9/9 - 2s - loss: 0.3126 - accuracy: 0.8421 - val_loss: 0.4377 - val_accuracy: 0.6806\n",
            "\n",
            " ROC-AUC - epoch: 66 - score: 0.868308 \n",
            "\n",
            "Epoch 67/100\n",
            "9/9 - 2s - loss: 0.3198 - accuracy: 0.8491 - val_loss: 0.4394 - val_accuracy: 0.6528\n",
            "\n",
            " ROC-AUC - epoch: 67 - score: 0.873036 \n",
            "\n",
            "Epoch 68/100\n",
            "9/9 - 2s - loss: 0.3294 - accuracy: 0.8351 - val_loss: 0.4291 - val_accuracy: 0.7222\n",
            "\n",
            " ROC-AUC - epoch: 68 - score: 0.871440 \n",
            "\n",
            "Epoch 69/100\n",
            "9/9 - 1s - loss: 0.3043 - accuracy: 0.8667 - val_loss: 0.4272 - val_accuracy: 0.6944\n",
            "\n",
            " ROC-AUC - epoch: 69 - score: 0.872189 \n",
            "\n",
            "Epoch 70/100\n",
            "9/9 - 1s - loss: 0.3225 - accuracy: 0.8456 - val_loss: 0.4231 - val_accuracy: 0.7500\n",
            "\n",
            " ROC-AUC - epoch: 70 - score: 0.871396 \n",
            "\n",
            "Epoch 71/100\n",
            "9/9 - 1s - loss: 0.2955 - accuracy: 0.8667 - val_loss: 0.4188 - val_accuracy: 0.7500\n",
            "\n",
            " ROC-AUC - epoch: 71 - score: 0.875165 \n",
            "\n",
            "Epoch 72/100\n",
            "9/9 - 1s - loss: 0.2789 - accuracy: 0.8982 - val_loss: 0.4139 - val_accuracy: 0.7778\n",
            "\n",
            " ROC-AUC - epoch: 72 - score: 0.879225 \n",
            "\n",
            "Epoch 73/100\n",
            "9/9 - 2s - loss: 0.2828 - accuracy: 0.8912 - val_loss: 0.4128 - val_accuracy: 0.7083\n",
            "\n",
            " ROC-AUC - epoch: 73 - score: 0.880710 \n",
            "\n",
            "Epoch 74/100\n",
            "9/9 - 2s - loss: 0.2732 - accuracy: 0.8842 - val_loss: 0.4086 - val_accuracy: 0.7500\n",
            "\n",
            " ROC-AUC - epoch: 74 - score: 0.881493 \n",
            "\n",
            "Epoch 75/100\n",
            "9/9 - 1s - loss: 0.2676 - accuracy: 0.9158 - val_loss: 0.4040 - val_accuracy: 0.7361\n",
            "\n",
            " ROC-AUC - epoch: 75 - score: 0.878119 \n",
            "\n",
            "Epoch 76/100\n",
            "9/9 - 1s - loss: 0.2668 - accuracy: 0.8842 - val_loss: 0.3999 - val_accuracy: 0.7639\n",
            "\n",
            " ROC-AUC - epoch: 76 - score: 0.883734 \n",
            "\n",
            "Epoch 77/100\n",
            "9/9 - 2s - loss: 0.2462 - accuracy: 0.9158 - val_loss: 0.3985 - val_accuracy: 0.7222\n",
            "\n",
            " ROC-AUC - epoch: 77 - score: 0.890401 \n",
            "\n",
            "Epoch 78/100\n",
            "9/9 - 1s - loss: 0.2651 - accuracy: 0.8737 - val_loss: 0.3934 - val_accuracy: 0.7639\n",
            "\n",
            " ROC-AUC - epoch: 78 - score: 0.891018 \n",
            "\n",
            "Epoch 79/100\n",
            "9/9 - 1s - loss: 0.2312 - accuracy: 0.9263 - val_loss: 0.3900 - val_accuracy: 0.7778\n",
            "\n",
            " ROC-AUC - epoch: 79 - score: 0.889341 \n",
            "\n",
            "Epoch 80/100\n",
            "9/9 - 1s - loss: 0.2371 - accuracy: 0.9263 - val_loss: 0.3872 - val_accuracy: 0.7778\n",
            "\n",
            " ROC-AUC - epoch: 80 - score: 0.892495 \n",
            "\n",
            "Epoch 81/100\n",
            "9/9 - 1s - loss: 0.2263 - accuracy: 0.9158 - val_loss: 0.3817 - val_accuracy: 0.7778\n",
            "\n",
            " ROC-AUC - epoch: 81 - score: 0.897382 \n",
            "\n",
            "Epoch 82/100\n",
            "9/9 - 1s - loss: 0.2231 - accuracy: 0.9158 - val_loss: 0.3810 - val_accuracy: 0.7500\n",
            "\n",
            " ROC-AUC - epoch: 82 - score: 0.893652 \n",
            "\n",
            "Epoch 83/100\n",
            "9/9 - 2s - loss: 0.2165 - accuracy: 0.9298 - val_loss: 0.3757 - val_accuracy: 0.7778\n",
            "\n",
            " ROC-AUC - epoch: 83 - score: 0.896863 \n",
            "\n",
            "Epoch 84/100\n",
            "9/9 - 1s - loss: 0.2170 - accuracy: 0.9088 - val_loss: 0.3775 - val_accuracy: 0.7500\n",
            "\n",
            " ROC-AUC - epoch: 84 - score: 0.898281 \n",
            "\n",
            "Epoch 85/100\n",
            "9/9 - 1s - loss: 0.2101 - accuracy: 0.9298 - val_loss: 0.3699 - val_accuracy: 0.7778\n",
            "\n",
            " ROC-AUC - epoch: 85 - score: 0.900933 \n",
            "\n",
            "Epoch 86/100\n",
            "9/9 - 2s - loss: 0.1889 - accuracy: 0.9544 - val_loss: 0.3717 - val_accuracy: 0.7639\n",
            "\n",
            " ROC-AUC - epoch: 86 - score: 0.900225 \n",
            "\n",
            "Epoch 87/100\n",
            "9/9 - 1s - loss: 0.1784 - accuracy: 0.9614 - val_loss: 0.3651 - val_accuracy: 0.7639\n",
            "\n",
            " ROC-AUC - epoch: 87 - score: 0.903257 \n",
            "\n",
            "Epoch 88/100\n",
            "9/9 - 1s - loss: 0.1939 - accuracy: 0.9298 - val_loss: 0.3625 - val_accuracy: 0.7778\n",
            "\n",
            " ROC-AUC - epoch: 88 - score: 0.904657 \n",
            "\n",
            "Epoch 89/100\n",
            "9/9 - 2s - loss: 0.2001 - accuracy: 0.9298 - val_loss: 0.3617 - val_accuracy: 0.7917\n",
            "\n",
            " ROC-AUC - epoch: 89 - score: 0.907550 \n",
            "\n",
            "Epoch 90/100\n",
            "9/9 - 1s - loss: 0.1692 - accuracy: 0.9649 - val_loss: 0.3590 - val_accuracy: 0.7778\n",
            "\n",
            " ROC-AUC - epoch: 90 - score: 0.907864 \n",
            "\n",
            "Epoch 91/100\n",
            "9/9 - 1s - loss: 0.1774 - accuracy: 0.9614 - val_loss: 0.3567 - val_accuracy: 0.7778\n",
            "\n",
            " ROC-AUC - epoch: 91 - score: 0.909300 \n",
            "\n",
            "Epoch 92/100\n",
            "9/9 - 2s - loss: 0.1583 - accuracy: 0.9719 - val_loss: 0.3556 - val_accuracy: 0.7917\n",
            "\n",
            " ROC-AUC - epoch: 92 - score: 0.910771 \n",
            "\n",
            "Epoch 93/100\n",
            "9/9 - 2s - loss: 0.1630 - accuracy: 0.9579 - val_loss: 0.3542 - val_accuracy: 0.7778\n",
            "\n",
            " ROC-AUC - epoch: 93 - score: 0.912684 \n",
            "\n",
            "Epoch 94/100\n",
            "9/9 - 1s - loss: 0.1585 - accuracy: 0.9579 - val_loss: 0.3490 - val_accuracy: 0.7778\n",
            "\n",
            " ROC-AUC - epoch: 94 - score: 0.913004 \n",
            "\n",
            "Epoch 95/100\n",
            "9/9 - 2s - loss: 0.1543 - accuracy: 0.9649 - val_loss: 0.3506 - val_accuracy: 0.7639\n",
            "\n",
            " ROC-AUC - epoch: 95 - score: 0.915322 \n",
            "\n",
            "Epoch 96/100\n",
            "9/9 - 1s - loss: 0.1733 - accuracy: 0.9474 - val_loss: 0.3443 - val_accuracy: 0.7639\n",
            "\n",
            " ROC-AUC - epoch: 96 - score: 0.913220 \n",
            "\n",
            "Epoch 97/100\n",
            "9/9 - 1s - loss: 0.1520 - accuracy: 0.9579 - val_loss: 0.3422 - val_accuracy: 0.7778\n",
            "\n",
            " ROC-AUC - epoch: 97 - score: 0.918388 \n",
            "\n",
            "Epoch 98/100\n",
            "9/9 - 2s - loss: 0.1427 - accuracy: 0.9684 - val_loss: 0.3402 - val_accuracy: 0.7917\n",
            "\n",
            " ROC-AUC - epoch: 98 - score: 0.917838 \n",
            "\n",
            "Epoch 99/100\n",
            "9/9 - 1s - loss: 0.1314 - accuracy: 0.9719 - val_loss: 0.3404 - val_accuracy: 0.8194\n",
            "\n",
            " ROC-AUC - epoch: 99 - score: 0.919243 \n",
            "\n",
            "Epoch 100/100\n",
            "9/9 - 2s - loss: 0.1268 - accuracy: 0.9719 - val_loss: 0.3479 - val_accuracy: 0.7778\n",
            "\n",
            " ROC-AUC - epoch: 100 - score: 0.914317 \n",
            "\n"
          ],
          "name": "stdout"
        },
        {
          "output_type": "execute_result",
          "data": {
            "text/plain": [
              "<keras.callbacks.History at 0x7fbce19eb8d0>"
            ]
          },
          "metadata": {
            "tags": []
          },
          "execution_count": 83
        }
      ]
    },
    {
      "cell_type": "code",
      "metadata": {
        "colab": {
          "base_uri": "https://localhost:8080/"
        },
        "id": "L90QdQQ_Em2h",
        "outputId": "5b6caabf-2ed1-4286-8cfb-919fd5c6455a"
      },
      "source": [
        "model.summary()"
      ],
      "execution_count": null,
      "outputs": [
        {
          "output_type": "stream",
          "text": [
            "Model: \"model_7\"\n",
            "_________________________________________________________________\n",
            "Layer (type)                 Output Shape              Param #   \n",
            "=================================================================\n",
            "input_1 (InputLayer)         [(None, 50)]              0         \n",
            "_________________________________________________________________\n",
            "embedding_7 (Embedding)      (None, 50, 300)           447300    \n",
            "_________________________________________________________________\n",
            "gru_2 (GRU)                  (None, 50, 200)           301200    \n",
            "_________________________________________________________________\n",
            "global_max_pooling1d_7 (Glob (None, 200)               0         \n",
            "_________________________________________________________________\n",
            "dropout_28 (Dropout)         (None, 200)               0         \n",
            "_________________________________________________________________\n",
            "dense_28 (Dense)             (None, 100)               20100     \n",
            "_________________________________________________________________\n",
            "dropout_29 (Dropout)         (None, 100)               0         \n",
            "_________________________________________________________________\n",
            "dense_29 (Dense)             (None, 50)                5050      \n",
            "_________________________________________________________________\n",
            "dropout_30 (Dropout)         (None, 50)                0         \n",
            "_________________________________________________________________\n",
            "dense_30 (Dense)             (None, 28)                1428      \n",
            "_________________________________________________________________\n",
            "dropout_31 (Dropout)         (None, 28)                0         \n",
            "_________________________________________________________________\n",
            "dense_31 (Dense)             (None, 3)                 87        \n",
            "=================================================================\n",
            "Total params: 775,165\n",
            "Trainable params: 775,165\n",
            "Non-trainable params: 0\n",
            "_________________________________________________________________\n"
          ],
          "name": "stdout"
        }
      ]
    },
    {
      "cell_type": "code",
      "metadata": {
        "id": "mpwOyJ-gFG4l"
      },
      "source": [
        "from keras.models import load_model\n",
        "c = model.predict(X_te)"
      ],
      "execution_count": null,
      "outputs": []
    },
    {
      "cell_type": "code",
      "metadata": {
        "colab": {
          "base_uri": "https://localhost:8080/"
        },
        "id": "P6BtDkNkFKvo",
        "outputId": "8b1e6750-f084-469a-b681-ec9dacad1c6d"
      },
      "source": [
        "\n",
        "score = model.evaluate(X_te, y_te,\n",
        "                       batch_size=batch_size, verbose=1)\n",
        "print('Test accuracy:', score[1])"
      ],
      "execution_count": null,
      "outputs": [
        {
          "output_type": "stream",
          "text": [
            "3/3 [==============================] - 0s 44ms/step - loss: 0.3479 - accuracy: 0.7778\n",
            "Test accuracy: 0.7777777910232544\n"
          ],
          "name": "stdout"
        }
      ]
    },
    {
      "cell_type": "code",
      "metadata": {
        "colab": {
          "base_uri": "https://localhost:8080/"
        },
        "id": "yE-o6kGVFPrx",
        "outputId": "9f123f2f-5e98-48a2-8a36-8e6cc8c9901a"
      },
      "source": [
        "y_pred = model.predict(X_te)\n",
        "roc_auc_score(y_te, c)"
      ],
      "execution_count": null,
      "outputs": [
        {
          "output_type": "execute_result",
          "data": {
            "text/plain": [
              "0.9200710033726338"
            ]
          },
          "metadata": {
            "tags": []
          },
          "execution_count": 41
        }
      ]
    },
    {
      "cell_type": "code",
      "metadata": {
        "id": "UMUodxtrFSoh"
      },
      "source": [
        "from sklearn.metrics import roc_curve, auc\n",
        "fpr = dict()\n",
        "tpr = dict()\n",
        "roc_auc = dict()\n",
        "for i in range(3):\n",
        "    fpr[i], tpr[i], _ = roc_curve(y_te[:, i], y_pred[:, i])\n",
        "    roc_auc[i] = auc(fpr[i], tpr[i])"
      ],
      "execution_count": null,
      "outputs": []
    },
    {
      "cell_type": "code",
      "metadata": {
        "colab": {
          "base_uri": "https://localhost:8080/",
          "height": 851
        },
        "id": "y7he7IFMFUsK",
        "outputId": "6637320d-d6da-499d-ad43-c804aa56b997"
      },
      "source": [
        "for i in range(3):\n",
        "    plt.figure()\n",
        "    plt.plot(fpr[i], tpr[i], label='ROC curve (area = %0.2f)' % roc_auc[i])\n",
        "    plt.plot([0, 1], [0, 1], 'k--')\n",
        "    plt.xlim([0.0, 1.0])\n",
        "    plt.ylim([0.0, 1.05])\n",
        "    plt.xlabel('False Positive Rate')\n",
        "    plt.ylabel('True Positive Rate')\n",
        "    plt.title('Receiver operating characteristic example')\n",
        "    plt.legend(loc=\"lower right\")\n",
        "    plt.show()"
      ],
      "execution_count": null,
      "outputs": [
        {
          "output_type": "display_data",
          "data": {
            "image/png": "[encoded data removed]",
            "text/plain": [
              "<Figure size 432x288 with 1 Axes>"
            ]
          },
          "metadata": {
            "tags": [],
            "needs_background": "light"
          }
        },
        {
          "output_type": "display_data",
          "data": {
            "image/png": "[encoded data removed]",
            "text/plain": [
              "<Figure size 432x288 with 1 Axes>"
            ]
          },
          "metadata": {
            "tags": [],
            "needs_background": "light"
          }
        },
        {
          "output_type": "display_data",
          "data": {
            "image/png": "[encoded data removed]",
            "text/plain": [
              "<Figure size 432x288 with 1 Axes>"
            ]
          },
          "metadata": {
            "tags": [],
            "needs_background": "light"
          }
        }
      ]
    },
    {
      "cell_type": "code",
      "metadata": {
        "colab": {
          "base_uri": "https://localhost:8080/"
        },
        "id": "LwcYRAHAFYG_",
        "outputId": "9eeac078-f4b7-4206-c34b-b7079d8a2d25"
      },
      "source": [
        "y_pred[y_pred>=0.23] = 1\n",
        "y_pred[y_pred<0.23] = 0\n",
        "roc_auc_score(y_te, y_pred)\n"
      ],
      "execution_count": null,
      "outputs": [
        {
          "output_type": "execute_result",
          "data": {
            "text/plain": [
              "0.8621460001351305"
            ]
          },
          "metadata": {
            "tags": []
          },
          "execution_count": 44
        }
      ]
    },
    {
      "cell_type": "code",
      "metadata": {
        "colab": {
          "base_uri": "https://localhost:8080/"
        },
        "id": "xY_c3Cf0FbLN",
        "outputId": "a9b52df9-1465-4cf4-c647-58d107b4824d"
      },
      "source": [
        "import sklearn.metrics as skm\n",
        "import numpy as np\n",
        "cm = skm.multilabel_confusion_matrix(y_te, y_pred)\n",
        "print(cm)\n",
        "print( skm.classification_report(y_te,y_pred))"
      ],
      "execution_count": null,
      "outputs": [
        {
          "output_type": "stream",
          "text": [
            "[[[38  8]\n",
            "  [ 2 24]]\n",
            "\n",
            " [[39  9]\n",
            "  [ 2 22]]\n",
            "\n",
            " [[37 13]\n",
            "  [ 1 21]]]\n",
            "              precision    recall  f1-score   support\n",
            "\n",
            "           0       0.75      0.92      0.83        26\n",
            "           1       0.71      0.92      0.80        24\n",
            "           2       0.62      0.95      0.75        22\n",
            "\n",
            "   micro avg       0.69      0.93      0.79        72\n",
            "   macro avg       0.69      0.93      0.79        72\n",
            "weighted avg       0.70      0.93      0.79        72\n",
            " samples avg       0.76      0.93      0.82        72\n",
            "\n"
          ],
          "name": "stdout"
        }
      ]
    },
    {
      "cell_type": "code",
      "metadata": {
        "colab": {
          "base_uri": "https://localhost:8080/"
        },
        "id": "-kDJ1BW8FeF4",
        "outputId": "cb4804f3-e414-4146-ff10-6bedd90272f4"
      },
      "source": [
        "from sklearn.metrics import accuracy_score\n",
        "from sklearn.metrics import hamming_loss\n",
        "def hamming_score(y_true, y_pred, normalize=True, sample_weight=None):\n",
        "    '''\n",
        "    Compute the Hamming score (a.k.a. label-based accuracy) for the multi-label case\n",
        "    http://stackoverflow.com/q/32239577/395857\n",
        "    '''\n",
        "    acc_list = []\n",
        "    for i in range(y_true.shape[0]):\n",
        "        set_true = set( np.where(y_true[i])[0] )\n",
        "        set_pred = set( np.where(y_pred[i])[0] )\n",
        "        #print('\\nset_true: {0}'.format(set_true))\n",
        "        #print('set_pred: {0}'.format(set_pred))\n",
        "        tmp_a = None\n",
        "        if len(set_true) == 0 and len(set_pred) == 0:\n",
        "            tmp_a = 1\n",
        "        else:\n",
        "            tmp_a = len(set_true.intersection(set_pred))/\\\n",
        "                    float( len(set_true.union(set_pred)) )\n",
        "        #print('tmp_a: {0}'.format(tmp_a))\n",
        "        acc_list.append(tmp_a)\n",
        "    return np.mean(acc_list)\n",
        "print('Hamming score: {0}'.format(hamming_score(y_te,y_pred)))\n"
      ],
      "execution_count": null,
      "outputs": [
        {
          "output_type": "stream",
          "text": [
            "Hamming score: 0.7638888888888888\n"
          ],
          "name": "stdout"
        }
      ]
    },
    {
      "cell_type": "code",
      "metadata": {
        "colab": {
          "base_uri": "https://localhost:8080/"
        },
        "id": "tAU74bADFi_6",
        "outputId": "afe6702b-3b2b-42ca-ded3-9a2ef37b0adc"
      },
      "source": [
        "import sklearn.metrics\n",
        "# Subset accuracy\n",
        "# 0.25 (= 0+1+0+0 / 4) --> 1 if the prediction for one sample fully matches the gold. 0 otherwise.\n",
        "print('Subset accuracy: {0}'.format(sklearn.metrics.accuracy_score(y_te, y_pred, normalize=True, sample_weight=None)))\n",
        "\n",
        "# Hamming loss (smaller is better)\n",
        "# $$ \\text{HammingLoss}(x_i, y_i) = \\frac{1}{|D|} \\sum_{i=1}^{|D|} \\frac{xor(x_i, y_i)}{|L|}, $$\n",
        "# where\n",
        "#  - \\\\(|D|\\\\) is the number of samples  \n",
        "#  - \\\\(|L|\\\\) is the number of labels  \n",
        "#  - \\\\(y_i\\\\) is the ground truth  \n",
        "#  - \\\\(x_i\\\\)  is the prediction.  \n",
        "# 0.416666666667 (= (1+0+3+1) / (3*4) )\n",
        "print('Hamming loss: {0}'.format(sklearn.metrics.hamming_loss(y_te, y_pred)))"
      ],
      "execution_count": null,
      "outputs": [
        {
          "output_type": "stream",
          "text": [
            "Subset accuracy: 0.5972222222222222\n",
            "Hamming loss: 0.16203703703703703\n"
          ],
          "name": "stdout"
        }
      ]
    },
    {
      "cell_type": "code",
      "metadata": {
        "colab": {
          "base_uri": "https://localhost:8080/"
        },
        "id": "lSkXR-5OFnWq",
        "outputId": "a6f79939-651b-43f4-e545-e474708f6fcc"
      },
      "source": [
        "from sklearn.metrics import confusion_matrix\n",
        "confusion_matrix(y_te.argmax(axis=1), y_pred.argmax(axis=1))"
      ],
      "execution_count": null,
      "outputs": [
        {
          "output_type": "execute_result",
          "data": {
            "text/plain": [
              "array([[24,  1,  1],\n",
              "       [ 7, 17,  0],\n",
              "       [ 1,  6, 15]])"
            ]
          },
          "metadata": {
            "tags": []
          },
          "execution_count": 48
        }
      ]
    },
    {
      "cell_type": "code",
      "metadata": {
        "colab": {
          "base_uri": "https://localhost:8080/",
          "height": 335
        },
        "id": "p6uszzLEFpBY",
        "outputId": "cae53929-8698-4b44-b9a6-19eeaabd38cc"
      },
      "source": [
        "import seaborn as sns\n",
        "import matplotlib.pyplot as plt\n",
        "f, ax = plt.subplots(figsize=(8,5))\n",
        "sns.heatmap(confusion_matrix(y_te.argmax(axis=1), y_pred.argmax(axis=1)), annot=True, fmt=\".0f\", ax=ax)\n",
        "plt.xlabel(\"y_head\")\n",
        "plt.ylabel(\"y_true\")\n",
        "plt.show()"
      ],
      "execution_count": null,
      "outputs": [
        {
          "output_type": "display_data",
          "data": {
            "image/png": "[encoded data removed]",
            "text/plain": [
              "<Figure size 576x360 with 2 Axes>"
            ]
          },
          "metadata": {
            "tags": [],
            "needs_background": "light"
          }
        }
      ]
    },
    {
      "cell_type": "markdown",
      "metadata": {
        "id": "O6RhqI_pGTZG"
      },
      "source": [
        "#Astrazeneca LSTM-ADAM"
      ]
    },
    {
      "cell_type": "code",
      "metadata": {
        "colab": {
          "base_uri": "https://localhost:8080/"
        },
        "id": "_tTr3gMlGyLi",
        "outputId": "8407bd30-5b22-415f-e212-37aa13f7f526"
      },
      "source": [
        "x = Embedding(len(tokenizer.word_index)+1, emb_init_values.shape[1],weights=[emb_init_values],trainable=True)(inp)\n",
        "# print(inp.shape)\n",
        "x = LSTM(200, activation='tanh', return_sequences = True, dropout=0.4)(x)\n",
        "#x = GRU(200, return_sequences=True)(x)\n",
        "\n",
        "x = GlobalMaxPool1D()(x)\n",
        "x = Dropout(0.1)(x)\n",
        "x = Dense(100)(x)\n",
        "x = Dropout(0.1)(x)\n",
        "x = Dense(50)(x)\n",
        "x = Dropout(0.1)(x)\n",
        "x = Dense(28, activation=\"relu\")(x)\n",
        "x = Dropout(0.1)(x)\n",
        "x = Dense(3, activation=\"softmax\")(x)\n",
        "\n",
        "\n",
        "model = Model(inputs=inp, outputs=x)\n",
        "opt = optimizers.Adam(lr=0.001)\n",
        "model.compile(loss='binary_crossentropy',\n",
        "                  optimizer=opt,\n",
        "                  metrics=['accuracy'])\n",
        "\n",
        "batch_size = 32\n",
        "epochs = 100\n",
        "\n",
        "# file_path=\"weights_base.best.hdf5\"\n",
        "RocAuc = RocAucEvaluation(validation_data=(X_te, y_te), interval=1)\n",
        "# checkpoint = ModelCheckpoint('modelEmb-{epoch:03d}-{acc:03f}-{val_acc:03f}.h5', verbose=1, monitor='val_loss',save_best_only=True, mode='auto')\n",
        "model.fit(X_t,y, batch_size=batch_size, epochs=epochs,  verbose=2,callbacks=[RocAuc], validation_data=(X_te, y_te))"
      ],
      "execution_count": 18,
      "outputs": [
        {
          "output_type": "stream",
          "text": [
            "/usr/local/lib/python3.7/dist-packages/tensorflow/python/keras/optimizer_v2/optimizer_v2.py:375: UserWarning: The `lr` argument is deprecated, use `learning_rate` instead.\n",
            "  \"The `lr` argument is deprecated, use `learning_rate` instead.\")\n"
          ],
          "name": "stderr"
        },
        {
          "output_type": "stream",
          "text": [
            "Epoch 1/100\n",
            "9/9 - 24s - loss: 0.6838 - accuracy: 0.3895 - val_loss: 0.6628 - val_accuracy: 0.4028\n",
            "\n",
            " ROC-AUC - epoch: 1 - score: 0.607231 \n",
            "\n",
            "Epoch 2/100\n",
            "9/9 - 2s - loss: 0.6537 - accuracy: 0.3789 - val_loss: 0.6148 - val_accuracy: 0.4167\n",
            "\n",
            " ROC-AUC - epoch: 2 - score: 0.642553 \n",
            "\n",
            "Epoch 3/100\n",
            "9/9 - 2s - loss: 0.6257 - accuracy: 0.4316 - val_loss: 0.6107 - val_accuracy: 0.4861\n",
            "\n",
            " ROC-AUC - epoch: 3 - score: 0.685944 \n",
            "\n",
            "Epoch 4/100\n",
            "9/9 - 2s - loss: 0.5917 - accuracy: 0.5228 - val_loss: 0.6028 - val_accuracy: 0.4722\n",
            "\n",
            " ROC-AUC - epoch: 4 - score: 0.705323 \n",
            "\n",
            "Epoch 5/100\n",
            "9/9 - 2s - loss: 0.5802 - accuracy: 0.5649 - val_loss: 0.5619 - val_accuracy: 0.5833\n",
            "\n",
            " ROC-AUC - epoch: 5 - score: 0.776066 \n",
            "\n",
            "Epoch 6/100\n",
            "9/9 - 2s - loss: 0.5412 - accuracy: 0.6035 - val_loss: 0.5510 - val_accuracy: 0.5833\n",
            "\n",
            " ROC-AUC - epoch: 6 - score: 0.795525 \n",
            "\n",
            "Epoch 7/100\n",
            "9/9 - 2s - loss: 0.4827 - accuracy: 0.6982 - val_loss: 0.5129 - val_accuracy: 0.5833\n",
            "\n",
            " ROC-AUC - epoch: 7 - score: 0.803142 \n",
            "\n",
            "Epoch 8/100\n",
            "9/9 - 2s - loss: 0.4102 - accuracy: 0.7684 - val_loss: 0.4631 - val_accuracy: 0.6389\n",
            "\n",
            " ROC-AUC - epoch: 8 - score: 0.837581 \n",
            "\n",
            "Epoch 9/100\n",
            "9/9 - 2s - loss: 0.3310 - accuracy: 0.8211 - val_loss: 0.4502 - val_accuracy: 0.6667\n",
            "\n",
            " ROC-AUC - epoch: 9 - score: 0.881426 \n",
            "\n",
            "Epoch 10/100\n",
            "9/9 - 2s - loss: 0.2602 - accuracy: 0.8561 - val_loss: 0.4333 - val_accuracy: 0.6944\n",
            "\n",
            " ROC-AUC - epoch: 10 - score: 0.889632 \n",
            "\n",
            "Epoch 11/100\n",
            "9/9 - 2s - loss: 0.2280 - accuracy: 0.8737 - val_loss: 0.4600 - val_accuracy: 0.6944\n",
            "\n",
            " ROC-AUC - epoch: 11 - score: 0.892764 \n",
            "\n",
            "Epoch 12/100\n",
            "9/9 - 2s - loss: 0.1808 - accuracy: 0.9263 - val_loss: 0.3617 - val_accuracy: 0.7917\n",
            "\n",
            " ROC-AUC - epoch: 12 - score: 0.921295 \n",
            "\n",
            "Epoch 13/100\n",
            "9/9 - 2s - loss: 0.1279 - accuracy: 0.9439 - val_loss: 0.4096 - val_accuracy: 0.7778\n",
            "\n",
            " ROC-AUC - epoch: 13 - score: 0.912216 \n",
            "\n",
            "Epoch 14/100\n",
            "9/9 - 2s - loss: 0.0957 - accuracy: 0.9649 - val_loss: 0.3744 - val_accuracy: 0.8056\n",
            "\n",
            " ROC-AUC - epoch: 14 - score: 0.926583 \n",
            "\n",
            "Epoch 15/100\n",
            "9/9 - 2s - loss: 0.0764 - accuracy: 0.9789 - val_loss: 0.4602 - val_accuracy: 0.8194\n",
            "\n",
            " ROC-AUC - epoch: 15 - score: 0.921582 \n",
            "\n",
            "Epoch 16/100\n",
            "9/9 - 2s - loss: 0.0768 - accuracy: 0.9684 - val_loss: 0.5008 - val_accuracy: 0.7917\n",
            "\n",
            " ROC-AUC - epoch: 16 - score: 0.920124 \n",
            "\n",
            "Epoch 17/100\n",
            "9/9 - 2s - loss: 0.0456 - accuracy: 0.9930 - val_loss: 0.4525 - val_accuracy: 0.8194\n",
            "\n",
            " ROC-AUC - epoch: 17 - score: 0.931491 \n",
            "\n",
            "Epoch 18/100\n",
            "9/9 - 2s - loss: 0.0377 - accuracy: 0.9825 - val_loss: 0.5007 - val_accuracy: 0.8194\n",
            "\n",
            " ROC-AUC - epoch: 18 - score: 0.930147 \n",
            "\n",
            "Epoch 19/100\n",
            "9/9 - 2s - loss: 0.0230 - accuracy: 0.9930 - val_loss: 0.4698 - val_accuracy: 0.8194\n",
            "\n",
            " ROC-AUC - epoch: 19 - score: 0.929243 \n",
            "\n",
            "Epoch 20/100\n",
            "9/9 - 2s - loss: 0.0299 - accuracy: 0.9895 - val_loss: 0.4485 - val_accuracy: 0.8194\n",
            "\n",
            " ROC-AUC - epoch: 20 - score: 0.935724 \n",
            "\n",
            "Epoch 21/100\n",
            "9/9 - 2s - loss: 0.0343 - accuracy: 0.9860 - val_loss: 0.6234 - val_accuracy: 0.8056\n",
            "\n",
            " ROC-AUC - epoch: 21 - score: 0.920360 \n",
            "\n",
            "Epoch 22/100\n",
            "9/9 - 2s - loss: 0.0340 - accuracy: 0.9930 - val_loss: 0.5325 - val_accuracy: 0.7917\n",
            "\n",
            " ROC-AUC - epoch: 22 - score: 0.939759 \n",
            "\n",
            "Epoch 23/100\n",
            "9/9 - 2s - loss: 0.0925 - accuracy: 0.9544 - val_loss: 0.5620 - val_accuracy: 0.8194\n",
            "\n",
            " ROC-AUC - epoch: 23 - score: 0.930366 \n",
            "\n",
            "Epoch 24/100\n",
            "9/9 - 2s - loss: 0.0355 - accuracy: 0.9860 - val_loss: 0.3933 - val_accuracy: 0.8194\n",
            "\n",
            " ROC-AUC - epoch: 24 - score: 0.946457 \n",
            "\n",
            "Epoch 25/100\n",
            "9/9 - 2s - loss: 0.0274 - accuracy: 0.9895 - val_loss: 0.4334 - val_accuracy: 0.7778\n",
            "\n",
            " ROC-AUC - epoch: 25 - score: 0.941410 \n",
            "\n",
            "Epoch 26/100\n",
            "9/9 - 2s - loss: 0.0299 - accuracy: 0.9895 - val_loss: 0.4106 - val_accuracy: 0.8194\n",
            "\n",
            " ROC-AUC - epoch: 26 - score: 0.938985 \n",
            "\n",
            "Epoch 27/100\n",
            "9/9 - 2s - loss: 0.0103 - accuracy: 1.0000 - val_loss: 0.5396 - val_accuracy: 0.7917\n",
            "\n",
            " ROC-AUC - epoch: 27 - score: 0.937255 \n",
            "\n",
            "Epoch 28/100\n",
            "9/9 - 2s - loss: 0.0110 - accuracy: 0.9965 - val_loss: 0.5282 - val_accuracy: 0.7778\n",
            "\n",
            " ROC-AUC - epoch: 28 - score: 0.938708 \n",
            "\n",
            "Epoch 29/100\n",
            "9/9 - 2s - loss: 0.0042 - accuracy: 1.0000 - val_loss: 0.5948 - val_accuracy: 0.8056\n",
            "\n",
            " ROC-AUC - epoch: 29 - score: 0.924588 \n",
            "\n",
            "Epoch 30/100\n",
            "9/9 - 2s - loss: 0.0202 - accuracy: 0.9965 - val_loss: 0.5919 - val_accuracy: 0.7917\n",
            "\n",
            " ROC-AUC - epoch: 30 - score: 0.932553 \n",
            "\n",
            "Epoch 31/100\n",
            "9/9 - 2s - loss: 0.0338 - accuracy: 0.9895 - val_loss: 0.5796 - val_accuracy: 0.8194\n",
            "\n",
            " ROC-AUC - epoch: 31 - score: 0.936170 \n",
            "\n",
            "Epoch 32/100\n",
            "9/9 - 2s - loss: 0.0093 - accuracy: 0.9965 - val_loss: 0.4616 - val_accuracy: 0.8472\n",
            "\n",
            " ROC-AUC - epoch: 32 - score: 0.939156 \n",
            "\n",
            "Epoch 33/100\n",
            "9/9 - 2s - loss: 0.0066 - accuracy: 1.0000 - val_loss: 0.4528 - val_accuracy: 0.8611\n",
            "\n",
            " ROC-AUC - epoch: 33 - score: 0.941382 \n",
            "\n",
            "Epoch 34/100\n",
            "9/9 - 2s - loss: 0.0060 - accuracy: 1.0000 - val_loss: 0.4731 - val_accuracy: 0.8056\n",
            "\n",
            " ROC-AUC - epoch: 34 - score: 0.944858 \n",
            "\n",
            "Epoch 35/100\n",
            "9/9 - 2s - loss: 0.0052 - accuracy: 1.0000 - val_loss: 0.5532 - val_accuracy: 0.8194\n",
            "\n",
            " ROC-AUC - epoch: 35 - score: 0.945027 \n",
            "\n",
            "Epoch 36/100\n",
            "9/9 - 2s - loss: 0.0041 - accuracy: 1.0000 - val_loss: 0.5643 - val_accuracy: 0.8333\n",
            "\n",
            " ROC-AUC - epoch: 36 - score: 0.938342 \n",
            "\n",
            "Epoch 37/100\n",
            "9/9 - 2s - loss: 0.0034 - accuracy: 1.0000 - val_loss: 0.5709 - val_accuracy: 0.8194\n",
            "\n",
            " ROC-AUC - epoch: 37 - score: 0.937598 \n",
            "\n",
            "Epoch 38/100\n",
            "9/9 - 2s - loss: 0.0045 - accuracy: 1.0000 - val_loss: 0.6201 - val_accuracy: 0.8194\n",
            "\n",
            " ROC-AUC - epoch: 38 - score: 0.938996 \n",
            "\n",
            "Epoch 39/100\n",
            "9/9 - 2s - loss: 0.0034 - accuracy: 1.0000 - val_loss: 0.6568 - val_accuracy: 0.8056\n",
            "\n",
            " ROC-AUC - epoch: 39 - score: 0.936153 \n",
            "\n",
            "Epoch 40/100\n",
            "9/9 - 2s - loss: 0.0036 - accuracy: 1.0000 - val_loss: 0.6511 - val_accuracy: 0.8194\n",
            "\n",
            " ROC-AUC - epoch: 40 - score: 0.936439 \n",
            "\n",
            "Epoch 41/100\n",
            "9/9 - 2s - loss: 0.0033 - accuracy: 1.0000 - val_loss: 0.7121 - val_accuracy: 0.8333\n",
            "\n",
            " ROC-AUC - epoch: 41 - score: 0.928113 \n",
            "\n",
            "Epoch 42/100\n",
            "9/9 - 2s - loss: 0.0020 - accuracy: 1.0000 - val_loss: 0.7632 - val_accuracy: 0.8333\n",
            "\n",
            " ROC-AUC - epoch: 42 - score: 0.925454 \n",
            "\n",
            "Epoch 43/100\n",
            "9/9 - 2s - loss: 0.0024 - accuracy: 1.0000 - val_loss: 0.7624 - val_accuracy: 0.8194\n",
            "\n",
            " ROC-AUC - epoch: 43 - score: 0.928121 \n",
            "\n",
            "Epoch 44/100\n",
            "9/9 - 2s - loss: 0.0013 - accuracy: 1.0000 - val_loss: 0.7571 - val_accuracy: 0.8056\n",
            "\n",
            " ROC-AUC - epoch: 44 - score: 0.931556 \n",
            "\n",
            "Epoch 45/100\n",
            "9/9 - 2s - loss: 0.0022 - accuracy: 1.0000 - val_loss: 0.8260 - val_accuracy: 0.7917\n",
            "\n",
            " ROC-AUC - epoch: 45 - score: 0.920413 \n",
            "\n",
            "Epoch 46/100\n",
            "9/9 - 2s - loss: 0.0022 - accuracy: 1.0000 - val_loss: 0.8354 - val_accuracy: 0.8056\n",
            "\n",
            " ROC-AUC - epoch: 46 - score: 0.923916 \n",
            "\n",
            "Epoch 47/100\n",
            "9/9 - 2s - loss: 0.0012 - accuracy: 1.0000 - val_loss: 0.7972 - val_accuracy: 0.8194\n",
            "\n",
            " ROC-AUC - epoch: 47 - score: 0.925887 \n",
            "\n",
            "Epoch 48/100\n",
            "9/9 - 2s - loss: 0.0076 - accuracy: 0.9965 - val_loss: 0.7195 - val_accuracy: 0.8611\n",
            "\n",
            " ROC-AUC - epoch: 48 - score: 0.934916 \n",
            "\n",
            "Epoch 49/100\n",
            "9/9 - 2s - loss: 0.0112 - accuracy: 0.9965 - val_loss: 0.5442 - val_accuracy: 0.8194\n",
            "\n",
            " ROC-AUC - epoch: 49 - score: 0.947398 \n",
            "\n",
            "Epoch 50/100\n",
            "9/9 - 2s - loss: 0.0056 - accuracy: 0.9965 - val_loss: 0.5406 - val_accuracy: 0.8056\n",
            "\n",
            " ROC-AUC - epoch: 50 - score: 0.949742 \n",
            "\n",
            "Epoch 51/100\n",
            "9/9 - 2s - loss: 0.0020 - accuracy: 1.0000 - val_loss: 0.5471 - val_accuracy: 0.8333\n",
            "\n",
            " ROC-AUC - epoch: 51 - score: 0.948678 \n",
            "\n",
            "Epoch 52/100\n",
            "9/9 - 2s - loss: 0.0041 - accuracy: 1.0000 - val_loss: 0.5642 - val_accuracy: 0.8194\n",
            "\n",
            " ROC-AUC - epoch: 52 - score: 0.944312 \n",
            "\n",
            "Epoch 53/100\n",
            "9/9 - 2s - loss: 0.0084 - accuracy: 0.9965 - val_loss: 0.7315 - val_accuracy: 0.7917\n",
            "\n",
            " ROC-AUC - epoch: 53 - score: 0.933608 \n",
            "\n",
            "Epoch 54/100\n",
            "9/9 - 2s - loss: 0.0060 - accuracy: 0.9965 - val_loss: 0.5679 - val_accuracy: 0.8194\n",
            "\n",
            " ROC-AUC - epoch: 54 - score: 0.943887 \n",
            "\n",
            "Epoch 55/100\n",
            "9/9 - 2s - loss: 0.0061 - accuracy: 0.9965 - val_loss: 0.6173 - val_accuracy: 0.8194\n",
            "\n",
            " ROC-AUC - epoch: 55 - score: 0.942726 \n",
            "\n",
            "Epoch 56/100\n",
            "9/9 - 2s - loss: 0.0017 - accuracy: 1.0000 - val_loss: 0.8019 - val_accuracy: 0.8333\n",
            "\n",
            " ROC-AUC - epoch: 56 - score: 0.923499 \n",
            "\n",
            "Epoch 57/100\n",
            "9/9 - 2s - loss: 0.0028 - accuracy: 1.0000 - val_loss: 0.8256 - val_accuracy: 0.8194\n",
            "\n",
            " ROC-AUC - epoch: 57 - score: 0.926138 \n",
            "\n",
            "Epoch 58/100\n",
            "9/9 - 2s - loss: 0.0130 - accuracy: 0.9930 - val_loss: 0.6334 - val_accuracy: 0.8333\n",
            "\n",
            " ROC-AUC - epoch: 58 - score: 0.942563 \n",
            "\n",
            "Epoch 59/100\n",
            "9/9 - 2s - loss: 0.0107 - accuracy: 0.9930 - val_loss: 0.7774 - val_accuracy: 0.8194\n",
            "\n",
            " ROC-AUC - epoch: 59 - score: 0.921760 \n",
            "\n",
            "Epoch 60/100\n",
            "9/9 - 2s - loss: 0.0016 - accuracy: 1.0000 - val_loss: 0.6944 - val_accuracy: 0.8194\n",
            "\n",
            " ROC-AUC - epoch: 60 - score: 0.940195 \n",
            "\n",
            "Epoch 61/100\n",
            "9/9 - 2s - loss: 0.0027 - accuracy: 1.0000 - val_loss: 0.6781 - val_accuracy: 0.8194\n",
            "\n",
            " ROC-AUC - epoch: 61 - score: 0.940811 \n",
            "\n",
            "Epoch 62/100\n",
            "9/9 - 2s - loss: 7.2193e-04 - accuracy: 1.0000 - val_loss: 0.7319 - val_accuracy: 0.8194\n",
            "\n",
            " ROC-AUC - epoch: 62 - score: 0.938775 \n",
            "\n",
            "Epoch 63/100\n",
            "9/9 - 2s - loss: 0.0014 - accuracy: 1.0000 - val_loss: 0.7497 - val_accuracy: 0.8194\n",
            "\n",
            " ROC-AUC - epoch: 63 - score: 0.938207 \n",
            "\n",
            "Epoch 64/100\n",
            "9/9 - 2s - loss: 0.0015 - accuracy: 1.0000 - val_loss: 0.7445 - val_accuracy: 0.8194\n",
            "\n",
            " ROC-AUC - epoch: 64 - score: 0.939064 \n",
            "\n",
            "Epoch 65/100\n",
            "9/9 - 2s - loss: 0.0011 - accuracy: 1.0000 - val_loss: 0.7348 - val_accuracy: 0.8194\n",
            "\n",
            " ROC-AUC - epoch: 65 - score: 0.940033 \n",
            "\n",
            "Epoch 66/100\n",
            "9/9 - 2s - loss: 8.6775e-04 - accuracy: 1.0000 - val_loss: 0.7380 - val_accuracy: 0.8194\n",
            "\n",
            " ROC-AUC - epoch: 66 - score: 0.940233 \n",
            "\n",
            "Epoch 67/100\n",
            "9/9 - 2s - loss: 0.0019 - accuracy: 1.0000 - val_loss: 0.7792 - val_accuracy: 0.8194\n",
            "\n",
            " ROC-AUC - epoch: 67 - score: 0.931698 \n",
            "\n",
            "Epoch 68/100\n",
            "9/9 - 2s - loss: 0.0014 - accuracy: 1.0000 - val_loss: 0.8063 - val_accuracy: 0.8333\n",
            "\n",
            " ROC-AUC - epoch: 68 - score: 0.925159 \n",
            "\n",
            "Epoch 69/100\n",
            "9/9 - 2s - loss: 0.0017 - accuracy: 1.0000 - val_loss: 0.8744 - val_accuracy: 0.8194\n",
            "\n",
            " ROC-AUC - epoch: 69 - score: 0.925905 \n",
            "\n",
            "Epoch 70/100\n",
            "9/9 - 2s - loss: 9.4752e-04 - accuracy: 1.0000 - val_loss: 0.8633 - val_accuracy: 0.8194\n",
            "\n",
            " ROC-AUC - epoch: 70 - score: 0.927604 \n",
            "\n",
            "Epoch 71/100\n",
            "9/9 - 2s - loss: 9.2073e-04 - accuracy: 1.0000 - val_loss: 0.8251 - val_accuracy: 0.8194\n",
            "\n",
            " ROC-AUC - epoch: 71 - score: 0.930892 \n",
            "\n",
            "Epoch 72/100\n",
            "9/9 - 2s - loss: 0.0013 - accuracy: 1.0000 - val_loss: 0.8252 - val_accuracy: 0.8194\n",
            "\n",
            " ROC-AUC - epoch: 72 - score: 0.932878 \n",
            "\n",
            "Epoch 73/100\n",
            "9/9 - 2s - loss: 4.0322e-04 - accuracy: 1.0000 - val_loss: 0.8359 - val_accuracy: 0.8194\n",
            "\n",
            " ROC-AUC - epoch: 73 - score: 0.930188 \n",
            "\n",
            "Epoch 74/100\n",
            "9/9 - 2s - loss: 0.0015 - accuracy: 1.0000 - val_loss: 0.8291 - val_accuracy: 0.8194\n",
            "\n",
            " ROC-AUC - epoch: 74 - score: 0.930455 \n",
            "\n",
            "Epoch 75/100\n",
            "9/9 - 2s - loss: 0.0083 - accuracy: 0.9965 - val_loss: 0.7466 - val_accuracy: 0.8194\n",
            "\n",
            " ROC-AUC - epoch: 75 - score: 0.937602 \n",
            "\n",
            "Epoch 76/100\n",
            "9/9 - 2s - loss: 7.0212e-04 - accuracy: 1.0000 - val_loss: 0.6989 - val_accuracy: 0.8194\n",
            "\n",
            " ROC-AUC - epoch: 76 - score: 0.940911 \n",
            "\n",
            "Epoch 77/100\n",
            "9/9 - 2s - loss: 6.2819e-04 - accuracy: 1.0000 - val_loss: 0.6814 - val_accuracy: 0.8194\n",
            "\n",
            " ROC-AUC - epoch: 77 - score: 0.942047 \n",
            "\n",
            "Epoch 78/100\n",
            "9/9 - 2s - loss: 0.0040 - accuracy: 0.9965 - val_loss: 0.7079 - val_accuracy: 0.8194\n",
            "\n",
            " ROC-AUC - epoch: 78 - score: 0.939026 \n",
            "\n",
            "Epoch 79/100\n",
            "9/9 - 2s - loss: 8.3457e-04 - accuracy: 1.0000 - val_loss: 0.8388 - val_accuracy: 0.8333\n",
            "\n",
            " ROC-AUC - epoch: 79 - score: 0.924539 \n",
            "\n",
            "Epoch 80/100\n",
            "9/9 - 2s - loss: 8.6815e-04 - accuracy: 1.0000 - val_loss: 0.9193 - val_accuracy: 0.8194\n",
            "\n",
            " ROC-AUC - epoch: 80 - score: 0.928187 \n",
            "\n",
            "Epoch 81/100\n",
            "9/9 - 2s - loss: 0.0026 - accuracy: 1.0000 - val_loss: 0.8435 - val_accuracy: 0.8194\n",
            "\n",
            " ROC-AUC - epoch: 81 - score: 0.924544 \n",
            "\n",
            "Epoch 82/100\n",
            "9/9 - 2s - loss: 0.0028 - accuracy: 1.0000 - val_loss: 0.8336 - val_accuracy: 0.8333\n",
            "\n",
            " ROC-AUC - epoch: 82 - score: 0.930157 \n",
            "\n",
            "Epoch 83/100\n",
            "9/9 - 2s - loss: 4.3921e-04 - accuracy: 1.0000 - val_loss: 0.8963 - val_accuracy: 0.8472\n",
            "\n",
            " ROC-AUC - epoch: 83 - score: 0.934709 \n",
            "\n",
            "Epoch 84/100\n",
            "9/9 - 2s - loss: 0.0049 - accuracy: 0.9965 - val_loss: 0.8092 - val_accuracy: 0.8194\n",
            "\n",
            " ROC-AUC - epoch: 84 - score: 0.942125 \n",
            "\n",
            "Epoch 85/100\n",
            "9/9 - 2s - loss: 0.0011 - accuracy: 1.0000 - val_loss: 0.7225 - val_accuracy: 0.8056\n",
            "\n",
            " ROC-AUC - epoch: 85 - score: 0.943901 \n",
            "\n",
            "Epoch 86/100\n",
            "9/9 - 2s - loss: 9.4878e-04 - accuracy: 1.0000 - val_loss: 0.8216 - val_accuracy: 0.8333\n",
            "\n",
            " ROC-AUC - epoch: 86 - score: 0.937352 \n",
            "\n",
            "Epoch 87/100\n",
            "9/9 - 2s - loss: 0.0011 - accuracy: 1.0000 - val_loss: 0.8360 - val_accuracy: 0.8333\n",
            "\n",
            " ROC-AUC - epoch: 87 - score: 0.937597 \n",
            "\n",
            "Epoch 88/100\n",
            "9/9 - 2s - loss: 3.7021e-04 - accuracy: 1.0000 - val_loss: 0.7749 - val_accuracy: 0.8333\n",
            "\n",
            " ROC-AUC - epoch: 88 - score: 0.943726 \n",
            "\n",
            "Epoch 89/100\n",
            "9/9 - 2s - loss: 4.2189e-04 - accuracy: 1.0000 - val_loss: 0.7623 - val_accuracy: 0.8194\n",
            "\n",
            " ROC-AUC - epoch: 89 - score: 0.945856 \n",
            "\n",
            "Epoch 90/100\n",
            "9/9 - 2s - loss: 0.0132 - accuracy: 0.9965 - val_loss: 0.9137 - val_accuracy: 0.8333\n",
            "\n",
            " ROC-AUC - epoch: 90 - score: 0.933759 \n",
            "\n",
            "Epoch 91/100\n",
            "9/9 - 2s - loss: 0.0052 - accuracy: 1.0000 - val_loss: 0.9374 - val_accuracy: 0.8194\n",
            "\n",
            " ROC-AUC - epoch: 91 - score: 0.929648 \n",
            "\n",
            "Epoch 92/100\n",
            "9/9 - 2s - loss: 6.7722e-04 - accuracy: 1.0000 - val_loss: 0.7920 - val_accuracy: 0.8056\n",
            "\n",
            " ROC-AUC - epoch: 92 - score: 0.939385 \n",
            "\n",
            "Epoch 93/100\n",
            "9/9 - 2s - loss: 0.0042 - accuracy: 1.0000 - val_loss: 0.8159 - val_accuracy: 0.7917\n",
            "\n",
            " ROC-AUC - epoch: 93 - score: 0.937083 \n",
            "\n",
            "Epoch 94/100\n",
            "9/9 - 2s - loss: 3.8810e-04 - accuracy: 1.0000 - val_loss: 0.9319 - val_accuracy: 0.8194\n",
            "\n",
            " ROC-AUC - epoch: 94 - score: 0.928789 \n",
            "\n",
            "Epoch 95/100\n",
            "9/9 - 2s - loss: 0.0014 - accuracy: 1.0000 - val_loss: 0.9585 - val_accuracy: 0.8194\n",
            "\n",
            " ROC-AUC - epoch: 95 - score: 0.927896 \n",
            "\n",
            "Epoch 96/100\n",
            "9/9 - 2s - loss: 0.0016 - accuracy: 1.0000 - val_loss: 0.9066 - val_accuracy: 0.8333\n",
            "\n",
            " ROC-AUC - epoch: 96 - score: 0.934827 \n",
            "\n",
            "Epoch 97/100\n",
            "9/9 - 2s - loss: 3.4231e-04 - accuracy: 1.0000 - val_loss: 0.8759 - val_accuracy: 0.8194\n",
            "\n",
            " ROC-AUC - epoch: 97 - score: 0.930913 \n",
            "\n",
            "Epoch 98/100\n",
            "9/9 - 2s - loss: 4.2889e-04 - accuracy: 1.0000 - val_loss: 0.8671 - val_accuracy: 0.8056\n",
            "\n",
            " ROC-AUC - epoch: 98 - score: 0.933442 \n",
            "\n",
            "Epoch 99/100\n",
            "9/9 - 2s - loss: 8.1022e-04 - accuracy: 1.0000 - val_loss: 0.8612 - val_accuracy: 0.7917\n",
            "\n",
            " ROC-AUC - epoch: 99 - score: 0.937387 \n",
            "\n",
            "Epoch 100/100\n",
            "9/9 - 2s - loss: 4.8256e-04 - accuracy: 1.0000 - val_loss: 0.8339 - val_accuracy: 0.8056\n",
            "\n",
            " ROC-AUC - epoch: 100 - score: 0.943631 \n",
            "\n"
          ],
          "name": "stdout"
        },
        {
          "output_type": "execute_result",
          "data": {
            "text/plain": [
              "<keras.callbacks.History at 0x7f1b257087d0>"
            ]
          },
          "metadata": {
            "tags": []
          },
          "execution_count": 18
        }
      ]
    },
    {
      "cell_type": "code",
      "metadata": {
        "colab": {
          "base_uri": "https://localhost:8080/"
        },
        "id": "lv5EN7EWH-1e",
        "outputId": "bb3c1d8b-4d76-43d5-c0fa-bc6057415ec6"
      },
      "source": [
        "model.summary()"
      ],
      "execution_count": 19,
      "outputs": [
        {
          "output_type": "stream",
          "text": [
            "Model: \"model\"\n",
            "_________________________________________________________________\n",
            "Layer (type)                 Output Shape              Param #   \n",
            "=================================================================\n",
            "input_1 (InputLayer)         [(None, 50)]              0         \n",
            "_________________________________________________________________\n",
            "embedding (Embedding)        (None, 50, 300)           447300    \n",
            "_________________________________________________________________\n",
            "lstm (LSTM)                  (None, 50, 200)           400800    \n",
            "_________________________________________________________________\n",
            "global_max_pooling1d (Global (None, 200)               0         \n",
            "_________________________________________________________________\n",
            "dropout (Dropout)            (None, 200)               0         \n",
            "_________________________________________________________________\n",
            "dense (Dense)                (None, 100)               20100     \n",
            "_________________________________________________________________\n",
            "dropout_1 (Dropout)          (None, 100)               0         \n",
            "_________________________________________________________________\n",
            "dense_1 (Dense)              (None, 50)                5050      \n",
            "_________________________________________________________________\n",
            "dropout_2 (Dropout)          (None, 50)                0         \n",
            "_________________________________________________________________\n",
            "dense_2 (Dense)              (None, 28)                1428      \n",
            "_________________________________________________________________\n",
            "dropout_3 (Dropout)          (None, 28)                0         \n",
            "_________________________________________________________________\n",
            "dense_3 (Dense)              (None, 3)                 87        \n",
            "=================================================================\n",
            "Total params: 874,765\n",
            "Trainable params: 874,765\n",
            "Non-trainable params: 0\n",
            "_________________________________________________________________\n"
          ],
          "name": "stdout"
        }
      ]
    },
    {
      "cell_type": "code",
      "metadata": {
        "id": "hGaU4TIaIAbx"
      },
      "source": [
        "from keras.models import load_model\n",
        "c = model.predict(X_te)"
      ],
      "execution_count": 20,
      "outputs": []
    },
    {
      "cell_type": "code",
      "metadata": {
        "colab": {
          "base_uri": "https://localhost:8080/"
        },
        "id": "KccBLHnNIAaa",
        "outputId": "86dfca6c-d55f-49d5-f6a8-db3f46954358"
      },
      "source": [
        "score = model.evaluate(X_te, y_te,\n",
        "                       batch_size=batch_size, verbose=1)\n",
        "print('Test accuracy:', score[1])"
      ],
      "execution_count": 21,
      "outputs": [
        {
          "output_type": "stream",
          "text": [
            "3/3 [==============================] - 0s 44ms/step - loss: 0.8339 - accuracy: 0.8056\n",
            "Test accuracy: 0.8055555820465088\n"
          ],
          "name": "stdout"
        }
      ]
    },
    {
      "cell_type": "code",
      "metadata": {
        "colab": {
          "base_uri": "https://localhost:8080/"
        },
        "id": "pIZVyuBPIRTW",
        "outputId": "b52f2a66-a805-4ce9-fe77-0d3e8339202e"
      },
      "source": [
        "y_pred = model.predict(X_te)\n",
        "roc_auc_score(y_te, c)"
      ],
      "execution_count": 22,
      "outputs": [
        {
          "output_type": "execute_result",
          "data": {
            "text/plain": [
              "0.9436309760086935"
            ]
          },
          "metadata": {
            "tags": []
          },
          "execution_count": 22
        }
      ]
    },
    {
      "cell_type": "code",
      "metadata": {
        "colab": {
          "base_uri": "https://localhost:8080/",
          "height": 851
        },
        "id": "odLAzikUIZ35",
        "outputId": "248353cb-c360-4bd8-b26b-ccf2120dd9dc"
      },
      "source": [
        "from sklearn.metrics import roc_curve, auc\n",
        "fpr = dict()\n",
        "tpr = dict()\n",
        "roc_auc = dict()\n",
        "for i in range(3):\n",
        "    fpr[i], tpr[i], _ = roc_curve(y_te[:, i], y_pred[:, i])\n",
        "    roc_auc[i] = auc(fpr[i], tpr[i])\n",
        "for i in range(3):\n",
        "    plt.figure()\n",
        "    plt.plot(fpr[i], tpr[i], label='ROC curve (area = %0.2f)' % roc_auc[i])\n",
        "    plt.plot([0, 1], [0, 1], 'k--')\n",
        "    plt.xlim([0.0, 1.0])\n",
        "    plt.ylim([0.0, 1.05])\n",
        "    plt.xlabel('False Positive Rate')\n",
        "    plt.ylabel('True Positive Rate')\n",
        "    plt.title('Receiver operating characteristic example')\n",
        "    plt.legend(loc=\"lower right\")\n",
        "    plt.show()"
      ],
      "execution_count": 23,
      "outputs": [
        {
          "output_type": "display_data",
          "data": {
            "image/png": "[encoded data removed]",
            "text/plain": [
              "<Figure size 432x288 with 1 Axes>"
            ]
          },
          "metadata": {
            "tags": [],
            "needs_background": "light"
          }
        },
        {
          "output_type": "display_data",
          "data": {
            "image/png": "[encoded data removed]",
            "text/plain": [
              "<Figure size 432x288 with 1 Axes>"
            ]
          },
          "metadata": {
            "tags": [],
            "needs_background": "light"
          }
        },
        {
          "output_type": "display_data",
          "data": {
            "image/png": "[encoded data removed]",
            "text/plain": [
              "<Figure size 432x288 with 1 Axes>"
            ]
          },
          "metadata": {
            "tags": [],
            "needs_background": "light"
          }
        }
      ]
    },
    {
      "cell_type": "code",
      "metadata": {
        "colab": {
          "base_uri": "https://localhost:8080/"
        },
        "id": "KcaHWa9gIeBz",
        "outputId": "b9f48042-8eba-4c7e-9d13-a2257752e96c"
      },
      "source": [
        "y_pred[y_pred>=0.23] = 1\n",
        "y_pred[y_pred<0.23] = 0\n",
        "roc_auc_score(y_te, y_pred)\n",
        "\n"
      ],
      "execution_count": 24,
      "outputs": [
        {
          "output_type": "execute_result",
          "data": {
            "text/plain": [
              "0.84895324482281"
            ]
          },
          "metadata": {
            "tags": []
          },
          "execution_count": 24
        }
      ]
    },
    {
      "cell_type": "code",
      "metadata": {
        "colab": {
          "base_uri": "https://localhost:8080/"
        },
        "id": "aQutYyh8Iolp",
        "outputId": "908a8f3d-5ebc-4f91-ef44-d79c9f72ec1c"
      },
      "source": [
        "import sklearn.metrics as skm\n",
        "import numpy as np\n",
        "cm = skm.multilabel_confusion_matrix(y_te, y_pred)\n",
        "print(cm)\n",
        "print( skm.classification_report(y_te,y_pred))"
      ],
      "execution_count": 25,
      "outputs": [
        {
          "output_type": "stream",
          "text": [
            "[[[42  4]\n",
            "  [ 3 23]]\n",
            "\n",
            " [[40  8]\n",
            "  [ 6 18]]\n",
            "\n",
            " [[47  3]\n",
            "  [ 5 17]]]\n",
            "              precision    recall  f1-score   support\n",
            "\n",
            "           0       0.85      0.88      0.87        26\n",
            "           1       0.69      0.75      0.72        24\n",
            "           2       0.85      0.77      0.81        22\n",
            "\n",
            "   micro avg       0.79      0.81      0.80        72\n",
            "   macro avg       0.80      0.80      0.80        72\n",
            "weighted avg       0.80      0.81      0.80        72\n",
            " samples avg       0.80      0.81      0.80        72\n",
            "\n"
          ],
          "name": "stdout"
        }
      ]
    },
    {
      "cell_type": "code",
      "metadata": {
        "colab": {
          "base_uri": "https://localhost:8080/"
        },
        "id": "WFQplzKZIzqU",
        "outputId": "66e86c8d-2620-4a0e-aadd-4163489f0f8f"
      },
      "source": [
        "from sklearn.metrics import accuracy_score\n",
        "from sklearn.metrics import hamming_loss\n",
        "def hamming_score(y_true, y_pred, normalize=True, sample_weight=None):\n",
        "    '''\n",
        "    Compute the Hamming score (a.k.a. label-based accuracy) for the multi-label case\n",
        "    http://stackoverflow.com/q/32239577/395857\n",
        "    '''\n",
        "    acc_list = []\n",
        "    for i in range(y_true.shape[0]):\n",
        "        set_true = set( np.where(y_true[i])[0] )\n",
        "        set_pred = set( np.where(y_pred[i])[0] )\n",
        "        #print('\\nset_true: {0}'.format(set_true))\n",
        "        #print('set_pred: {0}'.format(set_pred))\n",
        "        tmp_a = None\n",
        "        if len(set_true) == 0 and len(set_pred) == 0:\n",
        "            tmp_a = 1\n",
        "        else:\n",
        "            tmp_a = len(set_true.intersection(set_pred))/\\\n",
        "                    float( len(set_true.union(set_pred)) )\n",
        "        #print('tmp_a: {0}'.format(tmp_a))\n",
        "        acc_list.append(tmp_a)\n",
        "    return np.mean(acc_list)\n",
        "print('Hamming score: {0}'.format(hamming_score(y_te,y_pred)))\n"
      ],
      "execution_count": null,
      "outputs": [
        {
          "output_type": "stream",
          "text": [
            "Hamming score: 0.7916666666666666\n"
          ],
          "name": "stdout"
        }
      ]
    },
    {
      "cell_type": "code",
      "metadata": {
        "colab": {
          "base_uri": "https://localhost:8080/"
        },
        "id": "93rFi6aHIzqV",
        "outputId": "24b2289c-a5be-41e1-b5c6-c3fc5336a621"
      },
      "source": [
        "import sklearn.metrics\n",
        "# Subset accuracy\n",
        "# 0.25 (= 0+1+0+0 / 4) --> 1 if the prediction for one sample fully matches the gold. 0 otherwise.\n",
        "print('Subset accuracy: {0}'.format(sklearn.metrics.accuracy_score(y_te, y_pred, normalize=True, sample_weight=None)))\n",
        "\n",
        "# Hamming loss (smaller is better)\n",
        "# $$ \\text{HammingLoss}(x_i, y_i) = \\frac{1}{|D|} \\sum_{i=1}^{|D|} \\frac{xor(x_i, y_i)}{|L|}, $$\n",
        "# where\n",
        "#  - \\\\(|D|\\\\) is the number of samples  \n",
        "#  - \\\\(|L|\\\\) is the number of labels  \n",
        "#  - \\\\(y_i\\\\) is the ground truth  \n",
        "#  - \\\\(x_i\\\\)  is the prediction.  \n",
        "# 0.416666666667 (= (1+0+3+1) / (3*4) )\n",
        "print('Hamming loss: {0}'.format(sklearn.metrics.hamming_loss(y_te, y_pred)))"
      ],
      "execution_count": 26,
      "outputs": [
        {
          "output_type": "stream",
          "text": [
            "Subset accuracy: 0.7916666666666666\n",
            "Hamming loss: 0.13425925925925927\n"
          ],
          "name": "stdout"
        }
      ]
    },
    {
      "cell_type": "code",
      "metadata": {
        "colab": {
          "base_uri": "https://localhost:8080/"
        },
        "id": "zOnor3aDIzqV",
        "outputId": "c6da836d-240c-4291-d9ec-704652285148"
      },
      "source": [
        "from sklearn.metrics import confusion_matrix\n",
        "confusion_matrix(y_te.argmax(axis=1), y_pred.argmax(axis=1))"
      ],
      "execution_count": 27,
      "outputs": [
        {
          "output_type": "execute_result",
          "data": {
            "text/plain": [
              "array([[23,  3,  0],\n",
              "       [ 4, 18,  2],\n",
              "       [ 0,  5, 17]])"
            ]
          },
          "metadata": {
            "tags": []
          },
          "execution_count": 27
        }
      ]
    },
    {
      "cell_type": "code",
      "metadata": {
        "colab": {
          "base_uri": "https://localhost:8080/",
          "height": 335
        },
        "id": "f2Czaj5aIzqW",
        "outputId": "296c5013-7def-43f4-8418-864c476179d1"
      },
      "source": [
        "import seaborn as sns\n",
        "import matplotlib.pyplot as plt\n",
        "f, ax = plt.subplots(figsize=(8,5))\n",
        "sns.heatmap(confusion_matrix(y_te.argmax(axis=1), y_pred.argmax(axis=1)), annot=True, fmt=\".0f\", ax=ax)\n",
        "plt.xlabel(\"y_head\")\n",
        "plt.ylabel(\"y_true\")\n",
        "plt.show()"
      ],
      "execution_count": 28,
      "outputs": [
        {
          "output_type": "display_data",
          "data": {
            "image/png": "[encoded data removed]",
            "text/plain": [
              "<Figure size 576x360 with 2 Axes>"
            ]
          },
          "metadata": {
            "tags": [],
            "needs_background": "light"
          }
        }
      ]
    },
    {
      "cell_type": "code",
      "metadata": {
        "colab": {
          "base_uri": "https://localhost:8080/",
          "height": 419
        },
        "id": "DSAlthho4qQX",
        "outputId": "6d543005-12ac-4c1d-9569-8c801d8c27ac"
      },
      "source": [
        "df_untagged = df_untagged.drop(['tag'], axis =1)\n",
        "df_untagged"
      ],
      "execution_count": 30,
      "outputs": [
        {
          "output_type": "execute_result",
          "data": {
            "text/html": [
              "<div>\n",
              "<style scoped>\n",
              "    .dataframe tbody tr th:only-of-type {\n",
              "        vertical-align: middle;\n",
              "    }\n",
              "\n",
              "    .dataframe tbody tr th {\n",
              "        vertical-align: top;\n",
              "    }\n",
              "\n",
              "    .dataframe thead th {\n",
              "        text-align: right;\n",
              "    }\n",
              "</style>\n",
              "<table border=\"1\" class=\"dataframe\">\n",
              "  <thead>\n",
              "    <tr style=\"text-align: right;\">\n",
              "      <th></th>\n",
              "      <th>Name</th>\n",
              "      <th>Comments</th>\n",
              "    </tr>\n",
              "  </thead>\n",
              "  <tbody>\n",
              "    <tr>\n",
              "      <th>0</th>\n",
              "      <td>jhaunceryl27</td>\n",
              "      <td>Luar Biasa</td>\n",
              "    </tr>\n",
              "    <tr>\n",
              "      <th>1</th>\n",
              "      <td>jajat_7uansyah</td>\n",
              "      <td>Bangga dan saluutt @rudianindra , sukses dan b...</td>\n",
              "    </tr>\n",
              "    <tr>\n",
              "      <th>2</th>\n",
              "      <td>zulkiplimuhtar</td>\n",
              "      <td>Adiknya Mira ya @maulidalbia ?</td>\n",
              "    </tr>\n",
              "    <tr>\n",
              "      <th>3</th>\n",
              "      <td>yuhartini17</td>\n",
              "      <td>👏😍</td>\n",
              "    </tr>\n",
              "    <tr>\n",
              "      <th>4</th>\n",
              "      <td>aswadsabirin</td>\n",
              "      <td>❤️👍👍</td>\n",
              "    </tr>\n",
              "    <tr>\n",
              "      <th>...</th>\n",
              "      <td>...</td>\n",
              "      <td>...</td>\n",
              "    </tr>\n",
              "    <tr>\n",
              "      <th>196</th>\n",
              "      <td>stevy.agnes</td>\n",
              "      <td>@will_iam_sutanto @wawan_lo</td>\n",
              "    </tr>\n",
              "    <tr>\n",
              "      <th>197</th>\n",
              "      <td>agatha_kristiastutitananta</td>\n",
              "      <td>Untuk vaksin sinoparm bgmn kk?</td>\n",
              "    </tr>\n",
              "    <tr>\n",
              "      <th>198</th>\n",
              "      <td>ninda_kania</td>\n",
              "      <td>Min...ibu menyusui boleh vaksin ini gk y?</td>\n",
              "    </tr>\n",
              "    <tr>\n",
              "      <th>199</th>\n",
              "      <td>nanank3</td>\n",
              "      <td>brarti nunggu 12 minggu antibodinya aktif ?</td>\n",
              "    </tr>\n",
              "    <tr>\n",
              "      <th>200</th>\n",
              "      <td>rudispran</td>\n",
              "      <td>Yg kipi di publikasikan jg di list tiap update...</td>\n",
              "    </tr>\n",
              "  </tbody>\n",
              "</table>\n",
              "<p>201 rows × 2 columns</p>\n",
              "</div>"
            ],
            "text/plain": [
              "                           Name                                           Comments\n",
              "0                  jhaunceryl27                                         Luar Biasa\n",
              "1                jajat_7uansyah  Bangga dan saluutt @rudianindra , sukses dan b...\n",
              "2                zulkiplimuhtar                     Adiknya Mira ya @maulidalbia ?\n",
              "3                   yuhartini17                                                 👏😍\n",
              "4                  aswadsabirin                                               ❤️👍👍\n",
              "..                          ...                                                ...\n",
              "196                 stevy.agnes                        @will_iam_sutanto @wawan_lo\n",
              "197  agatha_kristiastutitananta                     Untuk vaksin sinoparm bgmn kk?\n",
              "198                 ninda_kania          Min...ibu menyusui boleh vaksin ini gk y?\n",
              "199                     nanank3        brarti nunggu 12 minggu antibodinya aktif ?\n",
              "200                   rudispran  Yg kipi di publikasikan jg di list tiap update...\n",
              "\n",
              "[201 rows x 2 columns]"
            ]
          },
          "metadata": {
            "tags": []
          },
          "execution_count": 30
        }
      ]
    },
    {
      "cell_type": "code",
      "metadata": {
        "colab": {
          "base_uri": "https://localhost:8080/",
          "height": 419
        },
        "id": "tg_PFRr45IKU",
        "outputId": "ea206a26-ee23-43ea-d45e-7af84d2cd41d"
      },
      "source": [
        "#ilangin link dan uname\n",
        "df_untagged[\"Comments\"]=df_untagged[\"Comments\"].str.replace('(?:\\@|https?\\://)\\S+', '')\n",
        "#ilangin lowercase\n",
        "df_untagged[\"Comments\"]=df_untagged[\"Comments\"].str.lower()\n",
        "#ilangin simbol\n",
        "df_untagged[\"Comments\"]=df_untagged[\"Comments\"].str.replace('[^\\w\\s]',' ')\n",
        "#ilangin angka\n",
        "df_untagged[\"Comments\"]=df_untagged[\"Comments\"].str.replace('\\d+',' ')\n",
        "#ilangin enter\n",
        "df_untagged[\"Comments\"]=df_untagged[\"Comments\"].str.replace('\\n',' ',regex=True)\n",
        "df_untagged[\"Comments\"] = df_untagged[\"Comments\"].replace('\\s+', ' ', regex=True)\n",
        "df_untagged"
      ],
      "execution_count": 31,
      "outputs": [
        {
          "output_type": "execute_result",
          "data": {
            "text/html": [
              "<div>\n",
              "<style scoped>\n",
              "    .dataframe tbody tr th:only-of-type {\n",
              "        vertical-align: middle;\n",
              "    }\n",
              "\n",
              "    .dataframe tbody tr th {\n",
              "        vertical-align: top;\n",
              "    }\n",
              "\n",
              "    .dataframe thead th {\n",
              "        text-align: right;\n",
              "    }\n",
              "</style>\n",
              "<table border=\"1\" class=\"dataframe\">\n",
              "  <thead>\n",
              "    <tr style=\"text-align: right;\">\n",
              "      <th></th>\n",
              "      <th>Name</th>\n",
              "      <th>Comments</th>\n",
              "    </tr>\n",
              "  </thead>\n",
              "  <tbody>\n",
              "    <tr>\n",
              "      <th>0</th>\n",
              "      <td>jhaunceryl27</td>\n",
              "      <td>luar biasa</td>\n",
              "    </tr>\n",
              "    <tr>\n",
              "      <th>1</th>\n",
              "      <td>jajat_7uansyah</td>\n",
              "      <td>bangga dan saluutt sukses dan berkah ilmu mu n...</td>\n",
              "    </tr>\n",
              "    <tr>\n",
              "      <th>2</th>\n",
              "      <td>zulkiplimuhtar</td>\n",
              "      <td>adiknya mira ya</td>\n",
              "    </tr>\n",
              "    <tr>\n",
              "      <th>3</th>\n",
              "      <td>yuhartini17</td>\n",
              "      <td></td>\n",
              "    </tr>\n",
              "    <tr>\n",
              "      <th>4</th>\n",
              "      <td>aswadsabirin</td>\n",
              "      <td></td>\n",
              "    </tr>\n",
              "    <tr>\n",
              "      <th>...</th>\n",
              "      <td>...</td>\n",
              "      <td>...</td>\n",
              "    </tr>\n",
              "    <tr>\n",
              "      <th>196</th>\n",
              "      <td>stevy.agnes</td>\n",
              "      <td></td>\n",
              "    </tr>\n",
              "    <tr>\n",
              "      <th>197</th>\n",
              "      <td>agatha_kristiastutitananta</td>\n",
              "      <td>untuk vaksin sinoparm bgmn kk</td>\n",
              "    </tr>\n",
              "    <tr>\n",
              "      <th>198</th>\n",
              "      <td>ninda_kania</td>\n",
              "      <td>min ibu menyusui boleh vaksin ini gk y</td>\n",
              "    </tr>\n",
              "    <tr>\n",
              "      <th>199</th>\n",
              "      <td>nanank3</td>\n",
              "      <td>brarti nunggu minggu antibodinya aktif</td>\n",
              "    </tr>\n",
              "    <tr>\n",
              "      <th>200</th>\n",
              "      <td>rudispran</td>\n",
              "      <td>yg kipi di publikasikan jg di list tiap update...</td>\n",
              "    </tr>\n",
              "  </tbody>\n",
              "</table>\n",
              "<p>201 rows × 2 columns</p>\n",
              "</div>"
            ],
            "text/plain": [
              "                           Name                                           Comments\n",
              "0                  jhaunceryl27                                         luar biasa\n",
              "1                jajat_7uansyah  bangga dan saluutt sukses dan berkah ilmu mu n...\n",
              "2                zulkiplimuhtar                                   adiknya mira ya \n",
              "3                   yuhartini17                                                   \n",
              "4                  aswadsabirin                                                   \n",
              "..                          ...                                                ...\n",
              "196                 stevy.agnes                                                   \n",
              "197  agatha_kristiastutitananta                     untuk vaksin sinoparm bgmn kk \n",
              "198                 ninda_kania            min ibu menyusui boleh vaksin ini gk y \n",
              "199                     nanank3            brarti nunggu minggu antibodinya aktif \n",
              "200                   rudispran  yg kipi di publikasikan jg di list tiap update...\n",
              "\n",
              "[201 rows x 2 columns]"
            ]
          },
          "metadata": {
            "tags": []
          },
          "execution_count": 31
        }
      ]
    },
    {
      "cell_type": "code",
      "metadata": {
        "colab": {
          "base_uri": "https://localhost:8080/"
        },
        "id": "QO2HMaw75sei",
        "outputId": "3cbe20e3-96c2-4f33-cbfc-714f5ed0811c"
      },
      "source": [
        "list_sentences_aplikasi = df_untagged[\"Comments\"]\n",
        "list_tokenized_aplikasi = tokenizer.texts_to_sequences(list_sentences_aplikasi)\n",
        "X_aplikasi = pad_sequences(list_tokenized_aplikasi, maxlen=maxlen)\n",
        "X_aplikasi"
      ],
      "execution_count": 33,
      "outputs": [
        {
          "output_type": "execute_result",
          "data": {
            "text/plain": [
              "array([[   0,    0,    0, ...,    0,  199,  242],\n",
              "       [   0,    0,    0, ...,    4,    4, 1121],\n",
              "       [   0,    0,    0, ...,    0,    0,   20],\n",
              "       ...,\n",
              "       [   0,    0,    0, ...,    1,   11,  247],\n",
              "       [   0,    0,    0, ...,    0,    0,  453],\n",
              "       [   0,    0,    0, ...,  812,  812,    1]], dtype=int32)"
            ]
          },
          "metadata": {
            "tags": []
          },
          "execution_count": 33
        }
      ]
    },
    {
      "cell_type": "code",
      "metadata": {
        "colab": {
          "base_uri": "https://localhost:8080/"
        },
        "id": "b81ByM015zYY",
        "outputId": "0ffc8fbf-13ec-469e-ddd5-d2480b214bc3"
      },
      "source": [
        "y_pred_aplikasi = model.predict(X_aplikasi)\n",
        "y_pred_aplikasi\n"
      ],
      "execution_count": 34,
      "outputs": [
        {
          "output_type": "execute_result",
          "data": {
            "text/plain": [
              "array([[9.57484687e-08, 9.99999762e-01, 1.42582920e-07],\n",
              "       [4.71402251e-10, 1.00000000e+00, 2.27714042e-10],\n",
              "       [1.11780849e-07, 9.99999762e-01, 1.11549973e-07],\n",
              "       [7.48271668e-06, 9.99980927e-01, 1.15700886e-05],\n",
              "       [7.48271668e-06, 9.99980927e-01, 1.15700886e-05],\n",
              "       [7.38325127e-07, 9.99998689e-01, 6.40800920e-07],\n",
              "       [1.93650976e-06, 9.58850503e-01, 4.11476195e-02],\n",
              "       [1.93832984e-05, 9.99973536e-01, 7.04437616e-06],\n",
              "       [7.48271668e-06, 9.99980927e-01, 1.15700886e-05],\n",
              "       [7.48271668e-06, 9.99980927e-01, 1.15700886e-05],\n",
              "       [3.60702374e-03, 9.93696988e-01, 2.69592647e-03],\n",
              "       [7.38325127e-07, 9.99998689e-01, 6.40800920e-07],\n",
              "       [7.48271668e-06, 9.99980927e-01, 1.15700886e-05],\n",
              "       [7.48271668e-06, 9.99980927e-01, 1.15700886e-05],\n",
              "       [1.25021601e-04, 9.99374926e-01, 5.00154914e-04],\n",
              "       [2.99218555e-05, 1.37612980e-04, 9.99832392e-01],\n",
              "       [1.01247142e-05, 9.99597609e-01, 3.92229034e-04],\n",
              "       [7.48271668e-06, 9.99980927e-01, 1.15700886e-05],\n",
              "       [7.48271668e-06, 9.99980927e-01, 1.15700886e-05],\n",
              "       [2.23505019e-08, 9.99999881e-01, 6.53922569e-08],\n",
              "       [3.04681649e-08, 9.99999881e-01, 1.72701846e-07],\n",
              "       [7.54237917e-09, 1.00000000e+00, 1.90010274e-09],\n",
              "       [2.29974706e-09, 1.00000000e+00, 3.79007314e-09],\n",
              "       [7.48271668e-06, 9.99980927e-01, 1.15700886e-05],\n",
              "       [4.07935795e-06, 9.99995828e-01, 1.63050316e-07],\n",
              "       [3.22579513e-06, 9.99839664e-01, 1.57138202e-04],\n",
              "       [5.43125179e-06, 7.31881615e-03, 9.92675722e-01],\n",
              "       [7.48271668e-06, 9.99980927e-01, 1.15700886e-05],\n",
              "       [7.48271668e-06, 9.99980927e-01, 1.15700886e-05],\n",
              "       [7.48271668e-06, 9.99980927e-01, 1.15700886e-05],\n",
              "       [2.61647115e-03, 9.83406305e-01, 1.39772212e-02],\n",
              "       [1.87097748e-06, 9.99996424e-01, 1.65462666e-06],\n",
              "       [3.21155653e-07, 9.99997854e-01, 1.73872252e-06],\n",
              "       [7.48271668e-06, 9.99980927e-01, 1.15700886e-05],\n",
              "       [2.90074286e-06, 9.99938846e-01, 5.82327048e-05],\n",
              "       [4.27611289e-04, 9.99568641e-01, 3.73455691e-06],\n",
              "       [1.43859252e-05, 9.99976397e-01, 9.13705026e-06],\n",
              "       [7.48271668e-06, 9.99980927e-01, 1.15700886e-05],\n",
              "       [3.20384969e-10, 1.00000000e+00, 4.09418444e-10],\n",
              "       [1.10193731e-07, 9.99781430e-01, 2.18486064e-04],\n",
              "       [2.55069244e-05, 9.99967933e-01, 6.52253084e-06],\n",
              "       [7.48271668e-06, 9.99980927e-01, 1.15700886e-05],\n",
              "       [2.01115341e-07, 9.99999642e-01, 1.27694264e-07],\n",
              "       [4.54120309e-05, 1.07698201e-04, 9.99846816e-01],\n",
              "       [7.48271668e-06, 9.99980927e-01, 1.15700886e-05],\n",
              "       [9.76818904e-11, 1.00000000e+00, 1.80790539e-11],\n",
              "       [9.21334689e-08, 7.49765974e-08, 9.99999881e-01],\n",
              "       [2.62434660e-05, 8.24495614e-01, 1.75478101e-01],\n",
              "       [2.90206262e-05, 9.48418736e-01, 5.15522398e-02],\n",
              "       [1.07491779e-10, 9.99997020e-01, 2.97596193e-06],\n",
              "       [9.64458048e-01, 1.20502762e-06, 3.55407931e-02],\n",
              "       [1.38964283e-03, 1.41111203e-03, 9.97199297e-01],\n",
              "       [7.07830404e-05, 9.82337356e-01, 1.75919086e-02],\n",
              "       [1.31658628e-10, 3.32136159e-11, 1.00000000e+00],\n",
              "       [7.48271668e-06, 9.99980927e-01, 1.15700886e-05],\n",
              "       [2.93116607e-02, 8.97611260e-01, 7.30770454e-02],\n",
              "       [1.97033100e-02, 2.22957786e-02, 9.58000839e-01],\n",
              "       [1.86862592e-09, 1.00000000e+00, 3.20268576e-08],\n",
              "       [1.00000000e+00, 1.81070664e-12, 7.81009534e-13],\n",
              "       [4.63817618e-04, 9.99534249e-01, 1.92704010e-06],\n",
              "       [3.55277666e-06, 9.99982715e-01, 1.36635599e-05],\n",
              "       [9.74699974e-01, 1.34772825e-04, 2.51652468e-02],\n",
              "       [1.48116655e-04, 9.99784648e-01, 6.72425522e-05],\n",
              "       [6.31447807e-02, 2.01856680e-02, 9.16669548e-01],\n",
              "       [1.29735672e-05, 9.99453008e-01, 5.33988932e-04],\n",
              "       [9.99973774e-01, 1.72313539e-05, 8.97387963e-06],\n",
              "       [1.98555961e-13, 1.00000000e+00, 1.04755860e-09],\n",
              "       [1.34126787e-09, 1.17238937e-06, 9.99998808e-01],\n",
              "       [1.61232951e-03, 9.85020876e-01, 1.33667774e-02],\n",
              "       [5.30779971e-06, 9.99904156e-01, 9.04954795e-05],\n",
              "       [9.95818317e-01, 2.97471671e-03, 1.20698952e-03],\n",
              "       [1.84505905e-06, 9.99997973e-01, 2.59706525e-07],\n",
              "       [1.17437388e-07, 1.03348009e-06, 9.99998808e-01],\n",
              "       [5.11701037e-05, 9.99467671e-01, 4.81270399e-04],\n",
              "       [4.31995273e-01, 6.51562550e-06, 5.67998230e-01],\n",
              "       [1.16420651e-09, 1.00000000e+00, 2.49747112e-09],\n",
              "       [6.66232663e-05, 8.73530149e-01, 1.26403153e-01],\n",
              "       [7.48271668e-06, 9.99980927e-01, 1.15700886e-05],\n",
              "       [3.27669410e-03, 9.96720254e-01, 3.07838468e-06],\n",
              "       [1.69671609e-14, 1.00000000e+00, 1.44465264e-14],\n",
              "       [7.48271668e-06, 9.99980927e-01, 1.15700886e-05],\n",
              "       [7.48271668e-06, 9.99980927e-01, 1.15700886e-05],\n",
              "       [1.45590695e-06, 9.99996901e-01, 1.64015171e-06],\n",
              "       [1.30302471e-03, 2.91690648e-01, 7.07006335e-01],\n",
              "       [7.30480778e-08, 2.97039393e-09, 9.99999881e-01],\n",
              "       [7.48271668e-06, 9.99980927e-01, 1.15700886e-05],\n",
              "       [7.48271668e-06, 9.99980927e-01, 1.15700886e-05],\n",
              "       [7.48271668e-06, 9.99980927e-01, 1.15700886e-05],\n",
              "       [7.48271668e-06, 9.99980927e-01, 1.15700886e-05],\n",
              "       [9.99315143e-01, 3.11965821e-04, 3.72915878e-04],\n",
              "       [8.85214149e-07, 9.99968410e-01, 3.07821792e-05],\n",
              "       [7.48271668e-06, 9.99980927e-01, 1.15700886e-05],\n",
              "       [7.48271668e-06, 9.99980927e-01, 1.15700886e-05],\n",
              "       [7.05381244e-05, 9.99825895e-01, 1.03602877e-04],\n",
              "       [6.63019080e-07, 9.99980211e-01, 1.90253850e-05],\n",
              "       [7.48272350e-06, 9.99980927e-01, 1.15701105e-05],\n",
              "       [7.48271668e-06, 9.99980927e-01, 1.15700886e-05],\n",
              "       [9.57484687e-08, 9.99999762e-01, 1.42582920e-07],\n",
              "       [7.48271668e-06, 9.99980927e-01, 1.15700886e-05],\n",
              "       [3.17133913e-06, 9.99994516e-01, 2.30288083e-06],\n",
              "       [3.92954971e-05, 9.98605788e-01, 1.35497225e-03],\n",
              "       [4.63203760e-03, 9.94012058e-01, 1.35592464e-03],\n",
              "       [1.11957817e-07, 9.99939442e-01, 6.04233101e-05],\n",
              "       [7.48271668e-06, 9.99980927e-01, 1.15700886e-05],\n",
              "       [1.85452620e-09, 1.00000000e+00, 3.61254386e-08],\n",
              "       [6.58362187e-05, 9.98254716e-01, 1.67951954e-03],\n",
              "       [7.48271668e-06, 9.99980927e-01, 1.15700886e-05],\n",
              "       [1.71406995e-04, 9.99613822e-01, 2.14836575e-04],\n",
              "       [1.70234431e-04, 5.40814071e-04, 9.99288917e-01],\n",
              "       [7.48271668e-06, 9.99980927e-01, 1.15700886e-05],\n",
              "       [8.08020286e-06, 9.99942541e-01, 4.93708067e-05],\n",
              "       [1.93832984e-05, 9.99973536e-01, 7.04437616e-06],\n",
              "       [9.99999762e-01, 1.61118166e-07, 1.57480599e-07],\n",
              "       [2.63765487e-05, 9.92571175e-01, 7.40247546e-03],\n",
              "       [5.49381137e-01, 4.50344801e-01, 2.74102145e-04],\n",
              "       [9.82449532e-01, 4.70147282e-03, 1.28490431e-02],\n",
              "       [1.42887990e-09, 1.00000000e+00, 2.65111044e-09],\n",
              "       [3.33353711e-07, 9.99998808e-01, 8.20801517e-07],\n",
              "       [2.25182202e-06, 2.62967311e-04, 9.99734819e-01],\n",
              "       [4.06498220e-05, 8.41540077e-06, 9.99950886e-01],\n",
              "       [9.92209448e-14, 1.00000000e+00, 6.04616184e-14],\n",
              "       [9.98496077e-08, 2.29783907e-07, 9.99999642e-01],\n",
              "       [5.07738669e-08, 9.99999166e-01, 8.46249748e-07],\n",
              "       [6.65219159e-06, 1.11586517e-02, 9.88834679e-01],\n",
              "       [5.54230610e-07, 9.63088610e-07, 9.99998450e-01],\n",
              "       [3.61841927e-07, 9.99986172e-01, 1.34392967e-05],\n",
              "       [2.91264823e-05, 9.99862790e-01, 1.08132794e-04],\n",
              "       [1.03211786e-14, 1.00000000e+00, 5.23762399e-16],\n",
              "       [7.81092865e-07, 9.99998808e-01, 2.99421060e-07],\n",
              "       [7.48271668e-06, 9.99980927e-01, 1.15700886e-05],\n",
              "       [1.20583298e-02, 3.23218927e-02, 9.55619752e-01],\n",
              "       [3.18438297e-11, 1.00000000e+00, 6.00619251e-12],\n",
              "       [7.48271668e-06, 9.99980927e-01, 1.15700886e-05],\n",
              "       [3.91929197e-12, 1.00000000e+00, 8.34196536e-13],\n",
              "       [4.63448464e-12, 1.00000000e+00, 4.01275584e-12],\n",
              "       [2.44848343e-06, 9.99994516e-01, 2.92177242e-06],\n",
              "       [6.19767437e-09, 1.00000000e+00, 2.41607220e-11],\n",
              "       [2.44848343e-06, 9.99994516e-01, 2.92177242e-06],\n",
              "       [7.76562914e-02, 2.00116338e-04, 9.22143579e-01],\n",
              "       [8.59235227e-01, 4.05442734e-06, 1.40760660e-01],\n",
              "       [7.48271668e-06, 9.99980927e-01, 1.15700886e-05],\n",
              "       [1.79986947e-03, 9.98199701e-01, 3.59400843e-07],\n",
              "       [9.99999642e-01, 6.18523399e-10, 3.79683314e-07],\n",
              "       [9.99976993e-01, 4.84625298e-06, 1.81746709e-05],\n",
              "       [3.10292211e-13, 1.00000000e+00, 4.36680884e-13],\n",
              "       [2.27863388e-11, 1.34383390e-11, 1.00000000e+00],\n",
              "       [1.62902081e-09, 1.47269730e-09, 1.00000000e+00],\n",
              "       [2.29127091e-20, 1.00000000e+00, 1.50530845e-20],\n",
              "       [3.61881553e-10, 1.00000000e+00, 5.81357629e-09],\n",
              "       [1.73612964e-08, 9.99999881e-01, 8.39195309e-08],\n",
              "       [9.24563038e-16, 1.00000000e+00, 7.21595061e-18],\n",
              "       [1.00000000e+00, 3.44276078e-17, 5.08853878e-16],\n",
              "       [5.84709632e-08, 1.00000000e+00, 4.33246078e-10],\n",
              "       [1.71821812e-05, 9.99979019e-01, 3.76958928e-06],\n",
              "       [9.97866213e-01, 1.99958822e-03, 1.34140748e-04],\n",
              "       [4.13098652e-03, 1.94960892e-01, 8.00908089e-01],\n",
              "       [7.48271668e-06, 9.99980927e-01, 1.15700886e-05],\n",
              "       [2.45114595e-10, 1.00000000e+00, 1.46309409e-09],\n",
              "       [2.25182407e-06, 2.62967078e-04, 9.99734819e-01],\n",
              "       [7.81609777e-10, 1.00000000e+00, 1.11776348e-08],\n",
              "       [6.74467301e-04, 9.99323726e-01, 1.84210671e-06],\n",
              "       [8.24321833e-05, 4.22649871e-04, 9.99494910e-01],\n",
              "       [1.06588834e-06, 3.40700603e-06, 9.99995470e-01],\n",
              "       [9.99991894e-01, 1.65499000e-06, 6.38106303e-06],\n",
              "       [7.48271668e-06, 9.99980927e-01, 1.15700886e-05],\n",
              "       [7.48271668e-06, 9.99980927e-01, 1.15700886e-05],\n",
              "       [7.48271668e-06, 9.99980927e-01, 1.15700886e-05],\n",
              "       [7.48271668e-06, 9.99980927e-01, 1.15700886e-05],\n",
              "       [6.41597264e-09, 1.00000000e+00, 3.47147133e-09],\n",
              "       [7.48271668e-06, 9.99980927e-01, 1.15700886e-05],\n",
              "       [7.48271668e-06, 9.99980927e-01, 1.15700886e-05],\n",
              "       [7.48271668e-06, 9.99980927e-01, 1.15700886e-05],\n",
              "       [7.48271668e-06, 9.99980927e-01, 1.15700886e-05],\n",
              "       [7.48271668e-06, 9.99980927e-01, 1.15700886e-05],\n",
              "       [8.10050291e-12, 1.00000000e+00, 1.40382497e-12],\n",
              "       [4.14518610e-04, 7.07856059e-01, 2.91729480e-01],\n",
              "       [8.88164155e-04, 6.21675095e-03, 9.92895067e-01],\n",
              "       [7.48271668e-06, 9.99980927e-01, 1.15700886e-05],\n",
              "       [5.57414426e-09, 9.99999881e-01, 1.75404935e-07],\n",
              "       [7.48271668e-06, 9.99980927e-01, 1.15700886e-05],\n",
              "       [1.86410792e-17, 1.00000000e+00, 5.18533718e-17],\n",
              "       [7.48271668e-06, 9.99980927e-01, 1.15700886e-05],\n",
              "       [2.43517917e-07, 9.99999642e-01, 9.88144038e-08],\n",
              "       [1.00000000e+00, 2.57364879e-10, 1.11398876e-10],\n",
              "       [7.48271668e-06, 9.99980927e-01, 1.15700886e-05],\n",
              "       [6.85539817e-07, 9.99998689e-01, 6.50012453e-07],\n",
              "       [1.85148034e-04, 4.27180409e-01, 5.72634399e-01],\n",
              "       [1.33595487e-11, 1.00000000e+00, 2.18970176e-12],\n",
              "       [1.56161625e-10, 1.00000000e+00, 2.94488739e-11],\n",
              "       [7.48271668e-06, 9.99980927e-01, 1.15700886e-05],\n",
              "       [9.49670970e-01, 3.32688726e-02, 1.70601532e-02],\n",
              "       [7.48272350e-06, 9.99980927e-01, 1.15701105e-05],\n",
              "       [2.03810562e-03, 9.51159358e-01, 4.68025245e-02],\n",
              "       [1.32672110e-04, 3.10937263e-04, 9.99556363e-01],\n",
              "       [7.09863298e-06, 2.38094035e-05, 9.99969125e-01],\n",
              "       [1.59671239e-04, 3.09897393e-01, 6.89942956e-01],\n",
              "       [7.48271668e-06, 9.99980927e-01, 1.15700886e-05],\n",
              "       [5.74309197e-05, 9.99762714e-01, 1.79894298e-04],\n",
              "       [2.98264469e-10, 1.00000000e+00, 9.35656240e-12],\n",
              "       [3.33246153e-10, 1.00000000e+00, 2.04867318e-10],\n",
              "       [1.77843515e-06, 9.99921679e-01, 7.65728255e-05]], dtype=float32)"
            ]
          },
          "metadata": {
            "tags": []
          },
          "execution_count": 34
        }
      ]
    },
    {
      "cell_type": "code",
      "metadata": {
        "colab": {
          "base_uri": "https://localhost:8080/",
          "height": 419
        },
        "id": "1rFFhrI852D6",
        "outputId": "66cf90b8-a95f-4039-cf95-65c869285a83"
      },
      "source": [
        "dfhasil = pd.DataFrame(y_pred_aplikasi, columns=['POS', 'NET', 'NEG'])\n",
        "dfhasil"
      ],
      "execution_count": 35,
      "outputs": [
        {
          "output_type": "execute_result",
          "data": {
            "text/html": [
              "<div>\n",
              "<style scoped>\n",
              "    .dataframe tbody tr th:only-of-type {\n",
              "        vertical-align: middle;\n",
              "    }\n",
              "\n",
              "    .dataframe tbody tr th {\n",
              "        vertical-align: top;\n",
              "    }\n",
              "\n",
              "    .dataframe thead th {\n",
              "        text-align: right;\n",
              "    }\n",
              "</style>\n",
              "<table border=\"1\" class=\"dataframe\">\n",
              "  <thead>\n",
              "    <tr style=\"text-align: right;\">\n",
              "      <th></th>\n",
              "      <th>POS</th>\n",
              "      <th>NET</th>\n",
              "      <th>NEG</th>\n",
              "    </tr>\n",
              "  </thead>\n",
              "  <tbody>\n",
              "    <tr>\n",
              "      <th>0</th>\n",
              "      <td>9.574847e-08</td>\n",
              "      <td>1.000000</td>\n",
              "      <td>1.425829e-07</td>\n",
              "    </tr>\n",
              "    <tr>\n",
              "      <th>1</th>\n",
              "      <td>4.714023e-10</td>\n",
              "      <td>1.000000</td>\n",
              "      <td>2.277140e-10</td>\n",
              "    </tr>\n",
              "    <tr>\n",
              "      <th>2</th>\n",
              "      <td>1.117808e-07</td>\n",
              "      <td>1.000000</td>\n",
              "      <td>1.115500e-07</td>\n",
              "    </tr>\n",
              "    <tr>\n",
              "      <th>3</th>\n",
              "      <td>7.482717e-06</td>\n",
              "      <td>0.999981</td>\n",
              "      <td>1.157009e-05</td>\n",
              "    </tr>\n",
              "    <tr>\n",
              "      <th>4</th>\n",
              "      <td>7.482717e-06</td>\n",
              "      <td>0.999981</td>\n",
              "      <td>1.157009e-05</td>\n",
              "    </tr>\n",
              "    <tr>\n",
              "      <th>...</th>\n",
              "      <td>...</td>\n",
              "      <td>...</td>\n",
              "      <td>...</td>\n",
              "    </tr>\n",
              "    <tr>\n",
              "      <th>196</th>\n",
              "      <td>7.482717e-06</td>\n",
              "      <td>0.999981</td>\n",
              "      <td>1.157009e-05</td>\n",
              "    </tr>\n",
              "    <tr>\n",
              "      <th>197</th>\n",
              "      <td>5.743092e-05</td>\n",
              "      <td>0.999763</td>\n",
              "      <td>1.798943e-04</td>\n",
              "    </tr>\n",
              "    <tr>\n",
              "      <th>198</th>\n",
              "      <td>2.982645e-10</td>\n",
              "      <td>1.000000</td>\n",
              "      <td>9.356562e-12</td>\n",
              "    </tr>\n",
              "    <tr>\n",
              "      <th>199</th>\n",
              "      <td>3.332462e-10</td>\n",
              "      <td>1.000000</td>\n",
              "      <td>2.048673e-10</td>\n",
              "    </tr>\n",
              "    <tr>\n",
              "      <th>200</th>\n",
              "      <td>1.778435e-06</td>\n",
              "      <td>0.999922</td>\n",
              "      <td>7.657283e-05</td>\n",
              "    </tr>\n",
              "  </tbody>\n",
              "</table>\n",
              "<p>201 rows × 3 columns</p>\n",
              "</div>"
            ],
            "text/plain": [
              "              POS       NET           NEG\n",
              "0    9.574847e-08  1.000000  1.425829e-07\n",
              "1    4.714023e-10  1.000000  2.277140e-10\n",
              "2    1.117808e-07  1.000000  1.115500e-07\n",
              "3    7.482717e-06  0.999981  1.157009e-05\n",
              "4    7.482717e-06  0.999981  1.157009e-05\n",
              "..            ...       ...           ...\n",
              "196  7.482717e-06  0.999981  1.157009e-05\n",
              "197  5.743092e-05  0.999763  1.798943e-04\n",
              "198  2.982645e-10  1.000000  9.356562e-12\n",
              "199  3.332462e-10  1.000000  2.048673e-10\n",
              "200  1.778435e-06  0.999922  7.657283e-05\n",
              "\n",
              "[201 rows x 3 columns]"
            ]
          },
          "metadata": {
            "tags": []
          },
          "execution_count": 35
        }
      ]
    },
    {
      "cell_type": "code",
      "metadata": {
        "colab": {
          "base_uri": "https://localhost:8080/",
          "height": 419
        },
        "id": "FTBYtkKg563T",
        "outputId": "66460fdf-8201-4703-a778-3fc6c88f99a5"
      },
      "source": [
        "dfhasilramal = dfhasil.eq(dfhasil.where(dfhasil != 0).max(1), axis=0).astype(int)\n",
        "dfhasilramal"
      ],
      "execution_count": 36,
      "outputs": [
        {
          "output_type": "execute_result",
          "data": {
            "text/html": [
              "<div>\n",
              "<style scoped>\n",
              "    .dataframe tbody tr th:only-of-type {\n",
              "        vertical-align: middle;\n",
              "    }\n",
              "\n",
              "    .dataframe tbody tr th {\n",
              "        vertical-align: top;\n",
              "    }\n",
              "\n",
              "    .dataframe thead th {\n",
              "        text-align: right;\n",
              "    }\n",
              "</style>\n",
              "<table border=\"1\" class=\"dataframe\">\n",
              "  <thead>\n",
              "    <tr style=\"text-align: right;\">\n",
              "      <th></th>\n",
              "      <th>POS</th>\n",
              "      <th>NET</th>\n",
              "      <th>NEG</th>\n",
              "    </tr>\n",
              "  </thead>\n",
              "  <tbody>\n",
              "    <tr>\n",
              "      <th>0</th>\n",
              "      <td>0</td>\n",
              "      <td>1</td>\n",
              "      <td>0</td>\n",
              "    </tr>\n",
              "    <tr>\n",
              "      <th>1</th>\n",
              "      <td>0</td>\n",
              "      <td>1</td>\n",
              "      <td>0</td>\n",
              "    </tr>\n",
              "    <tr>\n",
              "      <th>2</th>\n",
              "      <td>0</td>\n",
              "      <td>1</td>\n",
              "      <td>0</td>\n",
              "    </tr>\n",
              "    <tr>\n",
              "      <th>3</th>\n",
              "      <td>0</td>\n",
              "      <td>1</td>\n",
              "      <td>0</td>\n",
              "    </tr>\n",
              "    <tr>\n",
              "      <th>4</th>\n",
              "      <td>0</td>\n",
              "      <td>1</td>\n",
              "      <td>0</td>\n",
              "    </tr>\n",
              "    <tr>\n",
              "      <th>...</th>\n",
              "      <td>...</td>\n",
              "      <td>...</td>\n",
              "      <td>...</td>\n",
              "    </tr>\n",
              "    <tr>\n",
              "      <th>196</th>\n",
              "      <td>0</td>\n",
              "      <td>1</td>\n",
              "      <td>0</td>\n",
              "    </tr>\n",
              "    <tr>\n",
              "      <th>197</th>\n",
              "      <td>0</td>\n",
              "      <td>1</td>\n",
              "      <td>0</td>\n",
              "    </tr>\n",
              "    <tr>\n",
              "      <th>198</th>\n",
              "      <td>0</td>\n",
              "      <td>1</td>\n",
              "      <td>0</td>\n",
              "    </tr>\n",
              "    <tr>\n",
              "      <th>199</th>\n",
              "      <td>0</td>\n",
              "      <td>1</td>\n",
              "      <td>0</td>\n",
              "    </tr>\n",
              "    <tr>\n",
              "      <th>200</th>\n",
              "      <td>0</td>\n",
              "      <td>1</td>\n",
              "      <td>0</td>\n",
              "    </tr>\n",
              "  </tbody>\n",
              "</table>\n",
              "<p>201 rows × 3 columns</p>\n",
              "</div>"
            ],
            "text/plain": [
              "     POS  NET  NEG\n",
              "0      0    1    0\n",
              "1      0    1    0\n",
              "2      0    1    0\n",
              "3      0    1    0\n",
              "4      0    1    0\n",
              "..   ...  ...  ...\n",
              "196    0    1    0\n",
              "197    0    1    0\n",
              "198    0    1    0\n",
              "199    0    1    0\n",
              "200    0    1    0\n",
              "\n",
              "[201 rows x 3 columns]"
            ]
          },
          "metadata": {
            "tags": []
          },
          "execution_count": 36
        }
      ]
    },
    {
      "cell_type": "code",
      "metadata": {
        "colab": {
          "base_uri": "https://localhost:8080/",
          "height": 419
        },
        "id": "5FnRO-Tf59WR",
        "outputId": "f7ebff55-44eb-4324-fe30-949280f348bc"
      },
      "source": [
        "finalresult = pd.concat([df_untagged, dfhasilramal], axis=1, sort=False)\n",
        "finalresult"
      ],
      "execution_count": 37,
      "outputs": [
        {
          "output_type": "execute_result",
          "data": {
            "text/html": [
              "<div>\n",
              "<style scoped>\n",
              "    .dataframe tbody tr th:only-of-type {\n",
              "        vertical-align: middle;\n",
              "    }\n",
              "\n",
              "    .dataframe tbody tr th {\n",
              "        vertical-align: top;\n",
              "    }\n",
              "\n",
              "    .dataframe thead th {\n",
              "        text-align: right;\n",
              "    }\n",
              "</style>\n",
              "<table border=\"1\" class=\"dataframe\">\n",
              "  <thead>\n",
              "    <tr style=\"text-align: right;\">\n",
              "      <th></th>\n",
              "      <th>Name</th>\n",
              "      <th>Comments</th>\n",
              "      <th>POS</th>\n",
              "      <th>NET</th>\n",
              "      <th>NEG</th>\n",
              "    </tr>\n",
              "  </thead>\n",
              "  <tbody>\n",
              "    <tr>\n",
              "      <th>0</th>\n",
              "      <td>jhaunceryl27</td>\n",
              "      <td>luar biasa</td>\n",
              "      <td>0</td>\n",
              "      <td>1</td>\n",
              "      <td>0</td>\n",
              "    </tr>\n",
              "    <tr>\n",
              "      <th>1</th>\n",
              "      <td>jajat_7uansyah</td>\n",
              "      <td>bangga dan saluutt sukses dan berkah ilmu mu n...</td>\n",
              "      <td>0</td>\n",
              "      <td>1</td>\n",
              "      <td>0</td>\n",
              "    </tr>\n",
              "    <tr>\n",
              "      <th>2</th>\n",
              "      <td>zulkiplimuhtar</td>\n",
              "      <td>adiknya mira ya</td>\n",
              "      <td>0</td>\n",
              "      <td>1</td>\n",
              "      <td>0</td>\n",
              "    </tr>\n",
              "    <tr>\n",
              "      <th>3</th>\n",
              "      <td>yuhartini17</td>\n",
              "      <td></td>\n",
              "      <td>0</td>\n",
              "      <td>1</td>\n",
              "      <td>0</td>\n",
              "    </tr>\n",
              "    <tr>\n",
              "      <th>4</th>\n",
              "      <td>aswadsabirin</td>\n",
              "      <td></td>\n",
              "      <td>0</td>\n",
              "      <td>1</td>\n",
              "      <td>0</td>\n",
              "    </tr>\n",
              "    <tr>\n",
              "      <th>...</th>\n",
              "      <td>...</td>\n",
              "      <td>...</td>\n",
              "      <td>...</td>\n",
              "      <td>...</td>\n",
              "      <td>...</td>\n",
              "    </tr>\n",
              "    <tr>\n",
              "      <th>196</th>\n",
              "      <td>stevy.agnes</td>\n",
              "      <td></td>\n",
              "      <td>0</td>\n",
              "      <td>1</td>\n",
              "      <td>0</td>\n",
              "    </tr>\n",
              "    <tr>\n",
              "      <th>197</th>\n",
              "      <td>agatha_kristiastutitananta</td>\n",
              "      <td>untuk vaksin sinoparm bgmn kk</td>\n",
              "      <td>0</td>\n",
              "      <td>1</td>\n",
              "      <td>0</td>\n",
              "    </tr>\n",
              "    <tr>\n",
              "      <th>198</th>\n",
              "      <td>ninda_kania</td>\n",
              "      <td>min ibu menyusui boleh vaksin ini gk y</td>\n",
              "      <td>0</td>\n",
              "      <td>1</td>\n",
              "      <td>0</td>\n",
              "    </tr>\n",
              "    <tr>\n",
              "      <th>199</th>\n",
              "      <td>nanank3</td>\n",
              "      <td>brarti nunggu minggu antibodinya aktif</td>\n",
              "      <td>0</td>\n",
              "      <td>1</td>\n",
              "      <td>0</td>\n",
              "    </tr>\n",
              "    <tr>\n",
              "      <th>200</th>\n",
              "      <td>rudispran</td>\n",
              "      <td>yg kipi di publikasikan jg di list tiap update...</td>\n",
              "      <td>0</td>\n",
              "      <td>1</td>\n",
              "      <td>0</td>\n",
              "    </tr>\n",
              "  </tbody>\n",
              "</table>\n",
              "<p>201 rows × 5 columns</p>\n",
              "</div>"
            ],
            "text/plain": [
              "                           Name  ... NEG\n",
              "0                  jhaunceryl27  ...   0\n",
              "1                jajat_7uansyah  ...   0\n",
              "2                zulkiplimuhtar  ...   0\n",
              "3                   yuhartini17  ...   0\n",
              "4                  aswadsabirin  ...   0\n",
              "..                          ...  ...  ..\n",
              "196                 stevy.agnes  ...   0\n",
              "197  agatha_kristiastutitananta  ...   0\n",
              "198                 ninda_kania  ...   0\n",
              "199                     nanank3  ...   0\n",
              "200                   rudispran  ...   0\n",
              "\n",
              "[201 rows x 5 columns]"
            ]
          },
          "metadata": {
            "tags": []
          },
          "execution_count": 37
        }
      ]
    },
    {
      "cell_type": "code",
      "metadata": {
        "colab": {
          "base_uri": "https://localhost:8080/"
        },
        "id": "Mzh6Vysn6C67",
        "outputId": "639c41bc-e707-41ad-d9e1-ff9f858372b6"
      },
      "source": [
        "finalresult.POS.value_counts()"
      ],
      "execution_count": 38,
      "outputs": [
        {
          "output_type": "execute_result",
          "data": {
            "text/plain": [
              "0    184\n",
              "1     17\n",
              "Name: POS, dtype: int64"
            ]
          },
          "metadata": {
            "tags": []
          },
          "execution_count": 38
        }
      ]
    },
    {
      "cell_type": "code",
      "metadata": {
        "colab": {
          "base_uri": "https://localhost:8080/"
        },
        "id": "GL9Rk2ll6FM1",
        "outputId": "e904868c-1c15-4dc8-98dd-a83b97be1620"
      },
      "source": [
        "finalresult.NET.value_counts()"
      ],
      "execution_count": 39,
      "outputs": [
        {
          "output_type": "execute_result",
          "data": {
            "text/plain": [
              "1    152\n",
              "0     49\n",
              "Name: NET, dtype: int64"
            ]
          },
          "metadata": {
            "tags": []
          },
          "execution_count": 39
        }
      ]
    },
    {
      "cell_type": "code",
      "metadata": {
        "colab": {
          "base_uri": "https://localhost:8080/"
        },
        "id": "ZdJrvcGE6Hd0",
        "outputId": "6455d769-564f-4d5a-f436-7214789a147f"
      },
      "source": [
        "finalresult.NEG.value_counts()"
      ],
      "execution_count": 40,
      "outputs": [
        {
          "output_type": "execute_result",
          "data": {
            "text/plain": [
              "0    169\n",
              "1     32\n",
              "Name: NEG, dtype: int64"
            ]
          },
          "metadata": {
            "tags": []
          },
          "execution_count": 40
        }
      ]
    },
    {
      "cell_type": "markdown",
      "metadata": {
        "id": "DCcFW0TtGYP_"
      },
      "source": [
        "#Sinovac GRU-SGD"
      ]
    },
    {
      "cell_type": "code",
      "metadata": {
        "colab": {
          "base_uri": "https://localhost:8080/",
          "height": 0
        },
        "id": "svzVv03aGb0o",
        "outputId": "61cf1bcb-f461-4245-ac04-70e197a84345"
      },
      "source": [
        "df = pd.read_excel('/content/drive/MyDrive/Sinovac.xlsx')\n",
        "df = df[~df['Comments'].isnull()]\n",
        "df = df.reset_index()\n",
        "df = df.drop(['index'], axis=1)\n",
        "df['tag']= df['tag'].fillna(4)\n",
        "df_untagged = df[df['tag'] == 4]\n",
        "df = df[df['tag'] != 4]\n",
        "df = df.reset_index()\n",
        "df = df.drop(['index', 'Unnamed: 0'], axis=1)\n",
        "df"
      ],
      "execution_count": 41,
      "outputs": [
        {
          "output_type": "execute_result",
          "data": {
            "text/html": [
              "<div>\n",
              "<style scoped>\n",
              "    .dataframe tbody tr th:only-of-type {\n",
              "        vertical-align: middle;\n",
              "    }\n",
              "\n",
              "    .dataframe tbody tr th {\n",
              "        vertical-align: top;\n",
              "    }\n",
              "\n",
              "    .dataframe thead th {\n",
              "        text-align: right;\n",
              "    }\n",
              "</style>\n",
              "<table border=\"1\" class=\"dataframe\">\n",
              "  <thead>\n",
              "    <tr style=\"text-align: right;\">\n",
              "      <th></th>\n",
              "      <th>Name</th>\n",
              "      <th>Comments</th>\n",
              "      <th>tag</th>\n",
              "    </tr>\n",
              "  </thead>\n",
              "  <tbody>\n",
              "    <tr>\n",
              "      <th>0</th>\n",
              "      <td>andiewiduri</td>\n",
              "      <td>Hamil?? Usia dbwah 18 ??</td>\n",
              "      <td>netral</td>\n",
              "    </tr>\n",
              "    <tr>\n",
              "      <th>1</th>\n",
              "      <td>arisentotwibowo</td>\n",
              "      <td>buat anak koq coba coba</td>\n",
              "      <td>negatif</td>\n",
              "    </tr>\n",
              "    <tr>\n",
              "      <th>2</th>\n",
              "      <td>jove1605</td>\n",
              "      <td>Bisa minta info untuk di Bali bisa VAKSIN dima...</td>\n",
              "      <td>positif</td>\n",
              "    </tr>\n",
              "    <tr>\n",
              "      <th>3</th>\n",
              "      <td>laurentiawidiawati</td>\n",
              "      <td>Kagok siade di 11thn, cuma dia aja sendiri dr ...</td>\n",
              "      <td>netral</td>\n",
              "    </tr>\n",
              "    <tr>\n",
              "      <th>4</th>\n",
              "      <td>etre_sofia</td>\n",
              "      <td>Daerah lain door to door vaksinasi, ada vaksin...</td>\n",
              "      <td>positif</td>\n",
              "    </tr>\n",
              "    <tr>\n",
              "      <th>...</th>\n",
              "      <td>...</td>\n",
              "      <td>...</td>\n",
              "      <td>...</td>\n",
              "    </tr>\n",
              "    <tr>\n",
              "      <th>251</th>\n",
              "      <td>najam_jore</td>\n",
              "      <td>Pada takut amat si aneh, UEA &amp; NEGARA ARAB LAI...</td>\n",
              "      <td>positif</td>\n",
              "    </tr>\n",
              "    <tr>\n",
              "      <th>252</th>\n",
              "      <td>ekky_indra</td>\n",
              "      <td>Gk ada foto lain dan lebih kredibel selain itu...</td>\n",
              "      <td>netral</td>\n",
              "    </tr>\n",
              "    <tr>\n",
              "      <th>253</th>\n",
              "      <td>romasikumbang</td>\n",
              "      <td>Halal bukan berarti memaksa untuk di vaksin ya...</td>\n",
              "      <td>negatif</td>\n",
              "    </tr>\n",
              "    <tr>\n",
              "      <th>254</th>\n",
              "      <td>labib_zahranisme</td>\n",
              "      <td>Gampang nuntut di akhirat gue mah</td>\n",
              "      <td>negatif</td>\n",
              "    </tr>\n",
              "    <tr>\n",
              "      <th>255</th>\n",
              "      <td>bung_tomoyunior</td>\n",
              "      <td>Obat itu tergolong alternative terakhir, ya me...</td>\n",
              "      <td>positif</td>\n",
              "    </tr>\n",
              "  </tbody>\n",
              "</table>\n",
              "<p>256 rows × 3 columns</p>\n",
              "</div>"
            ],
            "text/plain": [
              "                   Name  ...      tag\n",
              "0           andiewiduri  ...   netral\n",
              "1       arisentotwibowo  ...  negatif\n",
              "2              jove1605  ...  positif\n",
              "3    laurentiawidiawati  ...   netral\n",
              "4            etre_sofia  ...  positif\n",
              "..                  ...  ...      ...\n",
              "251          najam_jore  ...  positif\n",
              "252          ekky_indra  ...   netral\n",
              "253       romasikumbang  ...  negatif\n",
              "254    labib_zahranisme  ...  negatif\n",
              "255     bung_tomoyunior  ...  positif\n",
              "\n",
              "[256 rows x 3 columns]"
            ]
          },
          "metadata": {
            "tags": []
          },
          "execution_count": 41
        }
      ]
    },
    {
      "cell_type": "code",
      "metadata": {
        "colab": {
          "base_uri": "https://localhost:8080/",
          "height": 0
        },
        "id": "cqVBYVa2LHsr",
        "outputId": "4a100862-f8de-4889-f3fc-439d972219db"
      },
      "source": [
        "df_untagged = df_untagged.reset_index()\n",
        "df_untagged = df_untagged.drop(['index', 'Unnamed: 0'], axis=1)\n",
        "df_untagged"
      ],
      "execution_count": 42,
      "outputs": [
        {
          "output_type": "execute_result",
          "data": {
            "text/html": [
              "<div>\n",
              "<style scoped>\n",
              "    .dataframe tbody tr th:only-of-type {\n",
              "        vertical-align: middle;\n",
              "    }\n",
              "\n",
              "    .dataframe tbody tr th {\n",
              "        vertical-align: top;\n",
              "    }\n",
              "\n",
              "    .dataframe thead th {\n",
              "        text-align: right;\n",
              "    }\n",
              "</style>\n",
              "<table border=\"1\" class=\"dataframe\">\n",
              "  <thead>\n",
              "    <tr style=\"text-align: right;\">\n",
              "      <th></th>\n",
              "      <th>Name</th>\n",
              "      <th>Comments</th>\n",
              "      <th>tag</th>\n",
              "    </tr>\n",
              "  </thead>\n",
              "  <tbody>\n",
              "    <tr>\n",
              "      <th>0</th>\n",
              "      <td>ica_risa18</td>\n",
              "      <td>@indriaelvandria bacee</td>\n",
              "      <td>4</td>\n",
              "    </tr>\n",
              "    <tr>\n",
              "      <th>1</th>\n",
              "      <td>djulkifli_</td>\n",
              "      <td>Aku tak ngguyu mbek turu😂😂😂😄😄</td>\n",
              "      <td>4</td>\n",
              "    </tr>\n",
              "    <tr>\n",
              "      <th>2</th>\n",
              "      <td>bagja.rki</td>\n",
              "      <td>@chaeny_shoftyani</td>\n",
              "      <td>4</td>\n",
              "    </tr>\n",
              "    <tr>\n",
              "      <th>3</th>\n",
              "      <td>pentolisme</td>\n",
              "      <td>@slebewwww @ripalbendot</td>\n",
              "      <td>4</td>\n",
              "    </tr>\n",
              "    <tr>\n",
              "      <th>4</th>\n",
              "      <td>ar_balance01</td>\n",
              "      <td>@randyahmd22</td>\n",
              "      <td>4</td>\n",
              "    </tr>\n",
              "    <tr>\n",
              "      <th>...</th>\n",
              "      <td>...</td>\n",
              "      <td>...</td>\n",
              "      <td>...</td>\n",
              "    </tr>\n",
              "    <tr>\n",
              "      <th>517</th>\n",
              "      <td>_balaa._syahiddtu</td>\n",
              "      <td>halal blm tentu baik ?</td>\n",
              "      <td>4</td>\n",
              "    </tr>\n",
              "    <tr>\n",
              "      <th>518</th>\n",
              "      <td>tomijumaesa</td>\n",
              "      <td>Masyarakat Cina di vaksin gk sih min???</td>\n",
              "      <td>4</td>\n",
              "    </tr>\n",
              "    <tr>\n",
              "      <th>519</th>\n",
              "      <td>07_arif</td>\n",
              "      <td>kita sinovac sendiri lohh? beranii? 🤣</td>\n",
              "      <td>4</td>\n",
              "    </tr>\n",
              "    <tr>\n",
              "      <th>520</th>\n",
              "      <td>arisadwicahyo</td>\n",
              "      <td>Emang udah tau bahan dalem nya apa aja😁,dibuat...</td>\n",
              "      <td>4</td>\n",
              "    </tr>\n",
              "    <tr>\n",
              "      <th>521</th>\n",
              "      <td>sr.pryg</td>\n",
              "      <td>Lha apa pentingnya sampe mengutip pendapat alu...</td>\n",
              "      <td>4</td>\n",
              "    </tr>\n",
              "  </tbody>\n",
              "</table>\n",
              "<p>522 rows × 3 columns</p>\n",
              "</div>"
            ],
            "text/plain": [
              "                  Name                                           Comments tag\n",
              "0           ica_risa18                             @indriaelvandria bacee   4\n",
              "1           djulkifli_                      Aku tak ngguyu mbek turu😂😂😂😄😄   4\n",
              "2            bagja.rki                                  @chaeny_shoftyani   4\n",
              "3           pentolisme                            @slebewwww @ripalbendot   4\n",
              "4         ar_balance01                                       @randyahmd22   4\n",
              "..                 ...                                                ...  ..\n",
              "517  _balaa._syahiddtu                             halal blm tentu baik ?   4\n",
              "518        tomijumaesa            Masyarakat Cina di vaksin gk sih min???   4\n",
              "519            07_arif              kita sinovac sendiri lohh? beranii? 🤣   4\n",
              "520      arisadwicahyo  Emang udah tau bahan dalem nya apa aja😁,dibuat...   4\n",
              "521            sr.pryg  Lha apa pentingnya sampe mengutip pendapat alu...   4\n",
              "\n",
              "[522 rows x 3 columns]"
            ]
          },
          "metadata": {
            "tags": []
          },
          "execution_count": 42
        }
      ]
    },
    {
      "cell_type": "code",
      "metadata": {
        "colab": {
          "base_uri": "https://localhost:8080/"
        },
        "id": "hBYz1pEYLLn8",
        "outputId": "1834c500-af9e-4825-c1d9-781c59d1a07a"
      },
      "source": [
        "print(df.tag.value_counts())"
      ],
      "execution_count": 43,
      "outputs": [
        {
          "output_type": "stream",
          "text": [
            "negatif    114\n",
            "netral      81\n",
            "positif     61\n",
            "Name: tag, dtype: int64\n"
          ],
          "name": "stdout"
        }
      ]
    },
    {
      "cell_type": "code",
      "metadata": {
        "colab": {
          "base_uri": "https://localhost:8080/",
          "height": 0
        },
        "id": "TviNlRhOLPt9",
        "outputId": "a42b7051-4b41-48af-cffc-f6e9a9c6e1a9"
      },
      "source": [
        "df['POS']= np.where(df['tag'] == 'positif', '1', '0')\n",
        "df['NET']= np.where(df['tag'] == 'netral', '1', '0')\n",
        "df['NEG']= np.where(df['tag'] == 'negatif', '1', '0')\n",
        "df = df.drop(['tag'], axis=1)\n",
        "df"
      ],
      "execution_count": 44,
      "outputs": [
        {
          "output_type": "execute_result",
          "data": {
            "text/html": [
              "<div>\n",
              "<style scoped>\n",
              "    .dataframe tbody tr th:only-of-type {\n",
              "        vertical-align: middle;\n",
              "    }\n",
              "\n",
              "    .dataframe tbody tr th {\n",
              "        vertical-align: top;\n",
              "    }\n",
              "\n",
              "    .dataframe thead th {\n",
              "        text-align: right;\n",
              "    }\n",
              "</style>\n",
              "<table border=\"1\" class=\"dataframe\">\n",
              "  <thead>\n",
              "    <tr style=\"text-align: right;\">\n",
              "      <th></th>\n",
              "      <th>Name</th>\n",
              "      <th>Comments</th>\n",
              "      <th>POS</th>\n",
              "      <th>NET</th>\n",
              "      <th>NEG</th>\n",
              "    </tr>\n",
              "  </thead>\n",
              "  <tbody>\n",
              "    <tr>\n",
              "      <th>0</th>\n",
              "      <td>andiewiduri</td>\n",
              "      <td>Hamil?? Usia dbwah 18 ??</td>\n",
              "      <td>0</td>\n",
              "      <td>1</td>\n",
              "      <td>0</td>\n",
              "    </tr>\n",
              "    <tr>\n",
              "      <th>1</th>\n",
              "      <td>arisentotwibowo</td>\n",
              "      <td>buat anak koq coba coba</td>\n",
              "      <td>0</td>\n",
              "      <td>0</td>\n",
              "      <td>1</td>\n",
              "    </tr>\n",
              "    <tr>\n",
              "      <th>2</th>\n",
              "      <td>jove1605</td>\n",
              "      <td>Bisa minta info untuk di Bali bisa VAKSIN dima...</td>\n",
              "      <td>1</td>\n",
              "      <td>0</td>\n",
              "      <td>0</td>\n",
              "    </tr>\n",
              "    <tr>\n",
              "      <th>3</th>\n",
              "      <td>laurentiawidiawati</td>\n",
              "      <td>Kagok siade di 11thn, cuma dia aja sendiri dr ...</td>\n",
              "      <td>0</td>\n",
              "      <td>1</td>\n",
              "      <td>0</td>\n",
              "    </tr>\n",
              "    <tr>\n",
              "      <th>4</th>\n",
              "      <td>etre_sofia</td>\n",
              "      <td>Daerah lain door to door vaksinasi, ada vaksin...</td>\n",
              "      <td>1</td>\n",
              "      <td>0</td>\n",
              "      <td>0</td>\n",
              "    </tr>\n",
              "    <tr>\n",
              "      <th>...</th>\n",
              "      <td>...</td>\n",
              "      <td>...</td>\n",
              "      <td>...</td>\n",
              "      <td>...</td>\n",
              "      <td>...</td>\n",
              "    </tr>\n",
              "    <tr>\n",
              "      <th>251</th>\n",
              "      <td>najam_jore</td>\n",
              "      <td>Pada takut amat si aneh, UEA &amp; NEGARA ARAB LAI...</td>\n",
              "      <td>1</td>\n",
              "      <td>0</td>\n",
              "      <td>0</td>\n",
              "    </tr>\n",
              "    <tr>\n",
              "      <th>252</th>\n",
              "      <td>ekky_indra</td>\n",
              "      <td>Gk ada foto lain dan lebih kredibel selain itu...</td>\n",
              "      <td>0</td>\n",
              "      <td>1</td>\n",
              "      <td>0</td>\n",
              "    </tr>\n",
              "    <tr>\n",
              "      <th>253</th>\n",
              "      <td>romasikumbang</td>\n",
              "      <td>Halal bukan berarti memaksa untuk di vaksin ya...</td>\n",
              "      <td>0</td>\n",
              "      <td>0</td>\n",
              "      <td>1</td>\n",
              "    </tr>\n",
              "    <tr>\n",
              "      <th>254</th>\n",
              "      <td>labib_zahranisme</td>\n",
              "      <td>Gampang nuntut di akhirat gue mah</td>\n",
              "      <td>0</td>\n",
              "      <td>0</td>\n",
              "      <td>1</td>\n",
              "    </tr>\n",
              "    <tr>\n",
              "      <th>255</th>\n",
              "      <td>bung_tomoyunior</td>\n",
              "      <td>Obat itu tergolong alternative terakhir, ya me...</td>\n",
              "      <td>1</td>\n",
              "      <td>0</td>\n",
              "      <td>0</td>\n",
              "    </tr>\n",
              "  </tbody>\n",
              "</table>\n",
              "<p>256 rows × 5 columns</p>\n",
              "</div>"
            ],
            "text/plain": [
              "                   Name  ... NEG\n",
              "0           andiewiduri  ...   0\n",
              "1       arisentotwibowo  ...   1\n",
              "2              jove1605  ...   0\n",
              "3    laurentiawidiawati  ...   0\n",
              "4            etre_sofia  ...   0\n",
              "..                  ...  ...  ..\n",
              "251          najam_jore  ...   0\n",
              "252          ekky_indra  ...   0\n",
              "253       romasikumbang  ...   1\n",
              "254    labib_zahranisme  ...   1\n",
              "255     bung_tomoyunior  ...   0\n",
              "\n",
              "[256 rows x 5 columns]"
            ]
          },
          "metadata": {
            "tags": []
          },
          "execution_count": 44
        }
      ]
    },
    {
      "cell_type": "code",
      "metadata": {
        "colab": {
          "base_uri": "https://localhost:8080/",
          "height": 0
        },
        "id": "0XSAInqBNltA",
        "outputId": "e224edd5-65ae-4b48-8813-c76b64e39186"
      },
      "source": [
        "#ilangin link dan uname\n",
        "df[\"Comments\"]=df[\"Comments\"].str.replace('(?:\\@|https?\\://)\\S+', '')\n",
        "#ilangin lowercase\n",
        "df[\"Comments\"]=df[\"Comments\"].str.lower()\n",
        "#ilangin simbol\n",
        "df[\"Comments\"]=df[\"Comments\"].str.replace('[^\\w\\s]',' ')\n",
        "#ilangin angka\n",
        "df[\"Comments\"]=df[\"Comments\"].str.replace('\\d+',' ')\n",
        "#ilangin enter\n",
        "df[\"Comments\"]=df[\"Comments\"].str.replace('\\n',' ',regex=True)\n",
        "df[\"Comments\"] = df[\"Comments\"].replace('\\s+', ' ', regex=True)\n",
        "df"
      ],
      "execution_count": 45,
      "outputs": [
        {
          "output_type": "execute_result",
          "data": {
            "text/html": [
              "<div>\n",
              "<style scoped>\n",
              "    .dataframe tbody tr th:only-of-type {\n",
              "        vertical-align: middle;\n",
              "    }\n",
              "\n",
              "    .dataframe tbody tr th {\n",
              "        vertical-align: top;\n",
              "    }\n",
              "\n",
              "    .dataframe thead th {\n",
              "        text-align: right;\n",
              "    }\n",
              "</style>\n",
              "<table border=\"1\" class=\"dataframe\">\n",
              "  <thead>\n",
              "    <tr style=\"text-align: right;\">\n",
              "      <th></th>\n",
              "      <th>Name</th>\n",
              "      <th>Comments</th>\n",
              "      <th>POS</th>\n",
              "      <th>NET</th>\n",
              "      <th>NEG</th>\n",
              "    </tr>\n",
              "  </thead>\n",
              "  <tbody>\n",
              "    <tr>\n",
              "      <th>0</th>\n",
              "      <td>andiewiduri</td>\n",
              "      <td>hamil usia dbwah</td>\n",
              "      <td>0</td>\n",
              "      <td>1</td>\n",
              "      <td>0</td>\n",
              "    </tr>\n",
              "    <tr>\n",
              "      <th>1</th>\n",
              "      <td>arisentotwibowo</td>\n",
              "      <td>buat anak koq coba coba</td>\n",
              "      <td>0</td>\n",
              "      <td>0</td>\n",
              "      <td>1</td>\n",
              "    </tr>\n",
              "    <tr>\n",
              "      <th>2</th>\n",
              "      <td>jove1605</td>\n",
              "      <td>bisa minta info untuk di bali bisa vaksin dima...</td>\n",
              "      <td>1</td>\n",
              "      <td>0</td>\n",
              "      <td>0</td>\n",
              "    </tr>\n",
              "    <tr>\n",
              "      <th>3</th>\n",
              "      <td>laurentiawidiawati</td>\n",
              "      <td>kagok siade di thn cuma dia aja sendiri dr org...</td>\n",
              "      <td>0</td>\n",
              "      <td>1</td>\n",
              "      <td>0</td>\n",
              "    </tr>\n",
              "    <tr>\n",
              "      <th>4</th>\n",
              "      <td>etre_sofia</td>\n",
              "      <td>daerah lain door to door vaksinasi ada vaksina...</td>\n",
              "      <td>1</td>\n",
              "      <td>0</td>\n",
              "      <td>0</td>\n",
              "    </tr>\n",
              "    <tr>\n",
              "      <th>...</th>\n",
              "      <td>...</td>\n",
              "      <td>...</td>\n",
              "      <td>...</td>\n",
              "      <td>...</td>\n",
              "      <td>...</td>\n",
              "    </tr>\n",
              "    <tr>\n",
              "      <th>251</th>\n",
              "      <td>najam_jore</td>\n",
              "      <td>pada takut amat si aneh uea negara arab lainny...</td>\n",
              "      <td>1</td>\n",
              "      <td>0</td>\n",
              "      <td>0</td>\n",
              "    </tr>\n",
              "    <tr>\n",
              "      <th>252</th>\n",
              "      <td>ekky_indra</td>\n",
              "      <td>gk ada foto lain dan lebih kredibel selain itu...</td>\n",
              "      <td>0</td>\n",
              "      <td>1</td>\n",
              "      <td>0</td>\n",
              "    </tr>\n",
              "    <tr>\n",
              "      <th>253</th>\n",
              "      <td>romasikumbang</td>\n",
              "      <td>halal bukan berarti memaksa untuk di vaksin ya...</td>\n",
              "      <td>0</td>\n",
              "      <td>0</td>\n",
              "      <td>1</td>\n",
              "    </tr>\n",
              "    <tr>\n",
              "      <th>254</th>\n",
              "      <td>labib_zahranisme</td>\n",
              "      <td>gampang nuntut di akhirat gue mah</td>\n",
              "      <td>0</td>\n",
              "      <td>0</td>\n",
              "      <td>1</td>\n",
              "    </tr>\n",
              "    <tr>\n",
              "      <th>255</th>\n",
              "      <td>bung_tomoyunior</td>\n",
              "      <td>obat itu tergolong alternative terakhir ya mem...</td>\n",
              "      <td>1</td>\n",
              "      <td>0</td>\n",
              "      <td>0</td>\n",
              "    </tr>\n",
              "  </tbody>\n",
              "</table>\n",
              "<p>256 rows × 5 columns</p>\n",
              "</div>"
            ],
            "text/plain": [
              "                   Name  ... NEG\n",
              "0           andiewiduri  ...   0\n",
              "1       arisentotwibowo  ...   1\n",
              "2              jove1605  ...   0\n",
              "3    laurentiawidiawati  ...   0\n",
              "4            etre_sofia  ...   0\n",
              "..                  ...  ...  ..\n",
              "251          najam_jore  ...   0\n",
              "252          ekky_indra  ...   0\n",
              "253       romasikumbang  ...   1\n",
              "254    labib_zahranisme  ...   1\n",
              "255     bung_tomoyunior  ...   0\n",
              "\n",
              "[256 rows x 5 columns]"
            ]
          },
          "metadata": {
            "tags": []
          },
          "execution_count": 45
        }
      ]
    },
    {
      "cell_type": "code",
      "metadata": {
        "colab": {
          "base_uri": "https://localhost:8080/"
        },
        "id": "MRoMzb_4NrhJ",
        "outputId": "e297ab9e-b56f-4c1e-9475-04b1d453e1a1"
      },
      "source": [
        "df_majority = df[df.POS== '0' ]\n",
        "\n",
        "df_minority = df[df.POS== '1']\n",
        "\n",
        "df_minority_upsampled = resample(df_minority, \n",
        "                                 replace=True,     # sample with replacement\n",
        "                                 n_samples=114,    # to match majority class\n",
        "                                 random_state=123)   # reproducible results\n",
        "df_upsampled = pd.concat([df_majority, df_minority_upsampled])\n",
        "df_majority_2 = df_upsampled[df_upsampled.NET== '0' ]\n",
        "\n",
        "df_minority_2 = df_upsampled[df_upsampled.NET== '1']\n",
        "\n",
        "df_minority_upsampled_2 = resample(df_minority_2, \n",
        "                                 replace=True,     # sample with replacement\n",
        "                                 n_samples=114,    # to match majority class\n",
        "                                 random_state=123)   # reproducible results\n",
        "df_upsampled_2 = pd.concat([df_majority_2, df_minority_upsampled_2])\n",
        "df = df_upsampled_2\n",
        "print(df.POS.value_counts())\n",
        "print(df.NET.value_counts())\n",
        "print(df.NEG.value_counts())"
      ],
      "execution_count": 46,
      "outputs": [
        {
          "output_type": "stream",
          "text": [
            "0    228\n",
            "1    114\n",
            "Name: POS, dtype: int64\n",
            "0    228\n",
            "1    114\n",
            "Name: NET, dtype: int64\n",
            "0    228\n",
            "1    114\n",
            "Name: NEG, dtype: int64\n"
          ],
          "name": "stdout"
        }
      ]
    },
    {
      "cell_type": "code",
      "metadata": {
        "id": "mau1vSV7OHf-"
      },
      "source": [
        "df['POS']=df['POS'].astype(int)\n",
        "df['NET']=df['NET'].astype(int)\n",
        "df['NEG']=df['NEG'].astype(int)\n",
        "train, test = train_test_split(df, test_size=0.2, random_state = 23)\n",
        "list_classes = ['POS','NET','NEG']\n",
        "y = train[list_classes].values\n",
        "y_te = test[list_classes].values\n",
        "list_sentences_train = train[\"Comments\"]\n",
        "list_sentences_test = test[\"Comments\"]\n",
        "max_features = 100000\n",
        "tokenizer = Tokenizer(num_words=max_features)\n",
        "tokenizer.fit_on_texts(list(list_sentences_train))\n",
        "list_tokenized_train = tokenizer.texts_to_sequences(list_sentences_train)\n",
        "list_tokenized_test = tokenizer.texts_to_sequences(list_sentences_test)\n",
        "maxlen = 50\n",
        "X_t = pad_sequences(list_tokenized_train, maxlen=maxlen)\n",
        "X_te = pad_sequences(list_tokenized_test, maxlen=maxlen)\n",
        "totalNumWords = [len(one_comment) for one_comment in list_tokenized_train]"
      ],
      "execution_count": 47,
      "outputs": []
    },
    {
      "cell_type": "code",
      "metadata": {
        "id": "NeaQ0sUaOVXY"
      },
      "source": [
        "def loadEmbeddingMatrix(typeToLoad):\n",
        "        #load different embedding file from Kaggle depending on which embedding \n",
        "        #matrix we are going to experiment with\n",
        "        if(typeToLoad==\"word2vec\"):\n",
        "            word2vecDict = KeyedVectors.load_word2vec_format(\"model300.bin\", binary=True)\n",
        "            embed_size = 300\n",
        "            embeddings_index = dict()\n",
        "            for word in word2vecDict.wv.vocab:\n",
        "                embeddings_index[word] = word2vecDict.word_vec(word)\n",
        "            print('Loaded %s word vectors.' % len(embeddings_index))\n",
        "            \n",
        "        gc.collect()\n",
        "        #We get the mean and standard deviation of the embedding weights so that we could maintain the \n",
        "        #same statistics for the rest of our own random generated weights. \n",
        "        all_embs = np.stack(list(embeddings_index.values()))\n",
        "        emb_mean,emb_std = all_embs.mean(), all_embs.std()\n",
        "        \n",
        "        nb_words = len(tokenizer.word_index)+1\n",
        "        #We are going to set the embedding size to the pretrained dimension as we are replicating it.\n",
        "        #the size will be Number of Words in Vocab X Embedding Size\n",
        "        embedding_matrix = np.random.normal(emb_mean, emb_std, (nb_words, embed_size))\n",
        "        gc.collect()\n",
        "\n",
        "        #With the newly created embedding matrix, we'll fill it up with the words that we have in both \n",
        "        #our own dictionary and loaded pretrained embedding. \n",
        "        embeddedCount = 0\n",
        "        for word, i in tokenizer.word_index.items():\n",
        "            i-=1\n",
        "            #then we see if this word is in glove's dictionary, if yes, get the corresponding weights\n",
        "            embedding_vector = embeddings_index.get(word)\n",
        "            #and store inside the embedding matrix that we will train later on.\n",
        "            if embedding_vector is not None: \n",
        "                embedding_matrix[i] = embedding_vector\n",
        "                embeddedCount+=1\n",
        "        print('total embedded:',embeddedCount,'common words')\n",
        "        \n",
        "        del(embeddings_index)\n",
        "        gc.collect()\n",
        "        \n",
        "        #finally, return the embedding matrix\n",
        "        return embedding_matrix"
      ],
      "execution_count": 48,
      "outputs": []
    },
    {
      "cell_type": "code",
      "metadata": {
        "id": "PkjmJICxOVXZ"
      },
      "source": [
        "def create_fold_embeddings(embeddings_dim, key_vector):\n",
        "    \n",
        "    emb_init_values = []\n",
        "    unk = []\n",
        "\n",
        "    a = 0\n",
        "    b = 0\n",
        "\n",
        "    for word, i in tokenizer.word_index.items():  # Untuk memastikan bahwa urut\n",
        "        if word == '<unk>':\n",
        "            emb_init_values.append(np.random.uniform(-0.25, 0.25, embeddings_dim).astype('float32'))\n",
        "\n",
        "        elif word == '<pad>':\n",
        "            emb_init_values.append(np.zeros(embeddings_dim).astype('float32'))\n",
        "                    \n",
        "        elif word in key_vector.wv.vocab:\n",
        "            emb_init_values.append(key_vector.wv.word_vec(word))\n",
        "            b = b+1\n",
        "        else:\n",
        "            emb_init_values.append(np.random.uniform(-0.25, 0.25, embeddings_dim).astype('float32'))\n",
        "            a = a+1\n",
        "            unk.append(word)\n",
        "            # print(word)\n",
        "    emb_init_values.append(np.random.uniform(-0.25, 0.25, embeddings_dim).astype('float32'))\n",
        "    known_word = b\n",
        "    unknown_word = a\n",
        "\n",
        "    print(known_word, unknown_word)\n",
        "\n",
        "    return known_word, unknown_word, emb_init_values"
      ],
      "execution_count": 49,
      "outputs": []
    },
    {
      "cell_type": "code",
      "metadata": {
        "id": "epL5PZ50OVXZ"
      },
      "source": [
        "word_vectors = KeyedVectors.load_word2vec_format(\"/content/drive/MyDrive/model300.bin\",binary=\"True\", unicode_errors='ignore')\n",
        "word2vec = word_vectors\n",
        "embed_dim = 300"
      ],
      "execution_count": 50,
      "outputs": []
    },
    {
      "cell_type": "code",
      "metadata": {
        "colab": {
          "base_uri": "https://localhost:8080/"
        },
        "id": "GS0b_S3UOVXZ",
        "outputId": "53d12498-292d-42d9-c968-cce911934369"
      },
      "source": [
        "known_word, unknown_word, emb_init_values = create_fold_embeddings(embed_dim, word_vectors)\n",
        "emb_init_values = np.array(emb_init_values)\n",
        "print(\"known words:\", known_word)\n",
        "print(\"unknown words:\", unknown_word)"
      ],
      "execution_count": 51,
      "outputs": [
        {
          "output_type": "stream",
          "text": [
            "970 158\n",
            "known words: 970\n",
            "unknown words: 158\n"
          ],
          "name": "stdout"
        },
        {
          "output_type": "stream",
          "text": [
            "/usr/local/lib/python3.7/dist-packages/ipykernel_launcher.py:16: DeprecationWarning: Call to deprecated `wv` (Attribute will be removed in 4.0.0, use self instead).\n",
            "  app.launch_new_instance()\n",
            "/usr/local/lib/python3.7/dist-packages/ipykernel_launcher.py:17: DeprecationWarning: Call to deprecated `wv` (Attribute will be removed in 4.0.0, use self instead).\n"
          ],
          "name": "stderr"
        }
      ]
    },
    {
      "cell_type": "code",
      "metadata": {
        "id": "eqRjgnhBOVXa"
      },
      "source": [
        "class RocAucEvaluation(Callback):\n",
        "    def __init__(self, validation_data=(), interval=1):\n",
        "        super(Callback, self).__init__()\n",
        "\n",
        "        self.interval = interval\n",
        "        self.X_val, self.y_val = validation_data\n",
        "\n",
        "    def on_epoch_end(self, epoch, logs={}):\n",
        "        if epoch % self.interval == 0:\n",
        "            y_pred = self.model.predict(self.X_val, verbose=0)\n",
        "            score = roc_auc_score(self.y_val, y_pred)\n",
        "            print(\"\\n ROC-AUC - epoch: %d - score: %.6f \\n\" % (epoch+1, score))\n",
        "inp = Input(shape=(maxlen,))\n"
      ],
      "execution_count": 52,
      "outputs": []
    },
    {
      "cell_type": "code",
      "metadata": {
        "colab": {
          "base_uri": "https://localhost:8080/"
        },
        "id": "xZnQpyiSOVXa",
        "outputId": "dd2c575f-fc4e-4390-a24c-f9597a798769"
      },
      "source": [
        "x = Embedding(len(tokenizer.word_index)+1, emb_init_values.shape[1],weights=[emb_init_values],trainable=True)(inp)\n",
        "# print(inp.shape)\n",
        "#x = Bidirectional(LSTM(200, activation='tanh', return_sequences = True, dropout=0.4))(x)\n",
        "x = GRU(200, return_sequences=True)(x)\n",
        "\n",
        "x = GlobalMaxPool1D()(x)\n",
        "x = Dropout(0.1)(x)\n",
        "x = Dense(100)(x)\n",
        "x = Dropout(0.1)(x)\n",
        "x = Dense(50)(x)\n",
        "x = Dropout(0.1)(x)\n",
        "x = Dense(28, activation=\"relu\")(x)\n",
        "x = Dropout(0.1)(x)\n",
        "x = Dense(3, activation=\"sigmoid\")(x)\n",
        "\n",
        "\n",
        "model = Model(inputs=inp, outputs=x)\n",
        "opt = optimizers.SGD(lr=0.01)\n",
        "model.compile(loss='binary_crossentropy',\n",
        "                  optimizer=opt,\n",
        "                  metrics=['accuracy'])\n",
        "\n",
        "batch_size = 32\n",
        "epochs = 100\n",
        "\n",
        "# file_path=\"weights_base.best.hdf5\"\n",
        "RocAuc = RocAucEvaluation(validation_data=(X_te, y_te), interval=1)\n",
        "# checkpoint = ModelCheckpoint('modelEmb-{epoch:03d}-{acc:03f}-{val_acc:03f}.h5', verbose=1, monitor='val_loss',save_best_only=True, mode='auto')\n",
        "model.fit(X_t,y, batch_size=batch_size, epochs=epochs,  verbose=2,callbacks=[RocAuc], validation_data=(X_te, y_te))"
      ],
      "execution_count": null,
      "outputs": [
        {
          "output_type": "stream",
          "text": [
            "/usr/local/lib/python3.7/dist-packages/tensorflow/python/keras/optimizer_v2/optimizer_v2.py:375: UserWarning: The `lr` argument is deprecated, use `learning_rate` instead.\n",
            "  \"The `lr` argument is deprecated, use `learning_rate` instead.\")\n"
          ],
          "name": "stderr"
        },
        {
          "output_type": "stream",
          "text": [
            "Epoch 1/100\n",
            "9/9 - 5s - loss: 0.7420 - accuracy: 0.3700 - val_loss: 0.6623 - val_accuracy: 0.4493\n",
            "\n",
            " ROC-AUC - epoch: 1 - score: 0.557420 \n",
            "\n",
            "Epoch 2/100\n",
            "9/9 - 1s - loss: 0.6778 - accuracy: 0.3516 - val_loss: 0.6325 - val_accuracy: 0.4493\n",
            "\n",
            " ROC-AUC - epoch: 2 - score: 0.604752 \n",
            "\n",
            "Epoch 3/100\n",
            "9/9 - 2s - loss: 0.6563 - accuracy: 0.3993 - val_loss: 0.6225 - val_accuracy: 0.5217\n",
            "\n",
            " ROC-AUC - epoch: 3 - score: 0.643097 \n",
            "\n",
            "Epoch 4/100\n",
            "9/9 - 2s - loss: 0.6543 - accuracy: 0.3590 - val_loss: 0.6120 - val_accuracy: 0.4638\n",
            "\n",
            " ROC-AUC - epoch: 4 - score: 0.671383 \n",
            "\n",
            "Epoch 5/100\n",
            "9/9 - 2s - loss: 0.6446 - accuracy: 0.3773 - val_loss: 0.6075 - val_accuracy: 0.4638\n",
            "\n",
            " ROC-AUC - epoch: 5 - score: 0.692254 \n",
            "\n",
            "Epoch 6/100\n",
            "9/9 - 2s - loss: 0.6399 - accuracy: 0.4176 - val_loss: 0.6050 - val_accuracy: 0.5072\n",
            "\n",
            " ROC-AUC - epoch: 6 - score: 0.711033 \n",
            "\n",
            "Epoch 7/100\n",
            "9/9 - 2s - loss: 0.6314 - accuracy: 0.4212 - val_loss: 0.5993 - val_accuracy: 0.5362\n",
            "\n",
            " ROC-AUC - epoch: 7 - score: 0.710963 \n",
            "\n",
            "Epoch 8/100\n",
            "9/9 - 2s - loss: 0.6269 - accuracy: 0.4725 - val_loss: 0.5972 - val_accuracy: 0.5507\n",
            "\n",
            " ROC-AUC - epoch: 8 - score: 0.714294 \n",
            "\n",
            "Epoch 9/100\n",
            "9/9 - 1s - loss: 0.6277 - accuracy: 0.4066 - val_loss: 0.5925 - val_accuracy: 0.5942\n",
            "\n",
            " ROC-AUC - epoch: 9 - score: 0.717824 \n",
            "\n",
            "Epoch 10/100\n",
            "9/9 - 2s - loss: 0.6184 - accuracy: 0.4615 - val_loss: 0.5913 - val_accuracy: 0.6087\n",
            "\n",
            " ROC-AUC - epoch: 10 - score: 0.725985 \n",
            "\n",
            "Epoch 11/100\n",
            "9/9 - 2s - loss: 0.6268 - accuracy: 0.4359 - val_loss: 0.5849 - val_accuracy: 0.6087\n",
            "\n",
            " ROC-AUC - epoch: 11 - score: 0.734902 \n",
            "\n",
            "Epoch 12/100\n",
            "9/9 - 1s - loss: 0.6316 - accuracy: 0.4176 - val_loss: 0.5836 - val_accuracy: 0.6232\n",
            "\n",
            " ROC-AUC - epoch: 12 - score: 0.741727 \n",
            "\n",
            "Epoch 13/100\n",
            "9/9 - 2s - loss: 0.6337 - accuracy: 0.3919 - val_loss: 0.5825 - val_accuracy: 0.6377\n",
            "\n",
            " ROC-AUC - epoch: 13 - score: 0.744235 \n",
            "\n",
            "Epoch 14/100\n",
            "9/9 - 2s - loss: 0.6109 - accuracy: 0.4505 - val_loss: 0.5826 - val_accuracy: 0.6232\n",
            "\n",
            " ROC-AUC - epoch: 14 - score: 0.747837 \n",
            "\n",
            "Epoch 15/100\n",
            "9/9 - 1s - loss: 0.6145 - accuracy: 0.4689 - val_loss: 0.5758 - val_accuracy: 0.6522\n",
            "\n",
            " ROC-AUC - epoch: 15 - score: 0.752787 \n",
            "\n",
            "Epoch 16/100\n",
            "9/9 - 2s - loss: 0.6137 - accuracy: 0.4103 - val_loss: 0.5735 - val_accuracy: 0.6377\n",
            "\n",
            " ROC-AUC - epoch: 16 - score: 0.751260 \n",
            "\n",
            "Epoch 17/100\n",
            "9/9 - 1s - loss: 0.6089 - accuracy: 0.4286 - val_loss: 0.5719 - val_accuracy: 0.6377\n",
            "\n",
            " ROC-AUC - epoch: 17 - score: 0.753794 \n",
            "\n",
            "Epoch 18/100\n",
            "9/9 - 1s - loss: 0.6114 - accuracy: 0.4579 - val_loss: 0.5719 - val_accuracy: 0.6377\n",
            "\n",
            " ROC-AUC - epoch: 18 - score: 0.753687 \n",
            "\n",
            "Epoch 19/100\n",
            "9/9 - 2s - loss: 0.6110 - accuracy: 0.4799 - val_loss: 0.5662 - val_accuracy: 0.6232\n",
            "\n",
            " ROC-AUC - epoch: 19 - score: 0.757463 \n",
            "\n",
            "Epoch 20/100\n",
            "9/9 - 2s - loss: 0.5943 - accuracy: 0.4799 - val_loss: 0.5701 - val_accuracy: 0.6377\n",
            "\n",
            " ROC-AUC - epoch: 20 - score: 0.758093 \n",
            "\n",
            "Epoch 21/100\n",
            "9/9 - 1s - loss: 0.5917 - accuracy: 0.4872 - val_loss: 0.5647 - val_accuracy: 0.6377\n",
            "\n",
            " ROC-AUC - epoch: 21 - score: 0.758615 \n",
            "\n",
            "Epoch 22/100\n",
            "9/9 - 2s - loss: 0.5960 - accuracy: 0.4908 - val_loss: 0.5623 - val_accuracy: 0.6377\n",
            "\n",
            " ROC-AUC - epoch: 22 - score: 0.760915 \n",
            "\n",
            "Epoch 23/100\n",
            "9/9 - 2s - loss: 0.6025 - accuracy: 0.4799 - val_loss: 0.5609 - val_accuracy: 0.6377\n",
            "\n",
            " ROC-AUC - epoch: 23 - score: 0.766200 \n",
            "\n",
            "Epoch 24/100\n",
            "9/9 - 1s - loss: 0.5974 - accuracy: 0.4982 - val_loss: 0.5611 - val_accuracy: 0.6667\n",
            "\n",
            " ROC-AUC - epoch: 24 - score: 0.764137 \n",
            "\n",
            "Epoch 25/100\n",
            "9/9 - 1s - loss: 0.5971 - accuracy: 0.4762 - val_loss: 0.5625 - val_accuracy: 0.7101\n",
            "\n",
            " ROC-AUC - epoch: 25 - score: 0.769379 \n",
            "\n",
            "Epoch 26/100\n",
            "9/9 - 2s - loss: 0.5891 - accuracy: 0.5055 - val_loss: 0.5560 - val_accuracy: 0.6377\n",
            "\n",
            " ROC-AUC - epoch: 26 - score: 0.769208 \n",
            "\n",
            "Epoch 27/100\n",
            "9/9 - 2s - loss: 0.5892 - accuracy: 0.5092 - val_loss: 0.5569 - val_accuracy: 0.6667\n",
            "\n",
            " ROC-AUC - epoch: 27 - score: 0.769554 \n",
            "\n",
            "Epoch 28/100\n",
            "9/9 - 2s - loss: 0.5885 - accuracy: 0.5385 - val_loss: 0.5509 - val_accuracy: 0.6232\n",
            "\n",
            " ROC-AUC - epoch: 28 - score: 0.773291 \n",
            "\n",
            "Epoch 29/100\n",
            "9/9 - 2s - loss: 0.5814 - accuracy: 0.5238 - val_loss: 0.5521 - val_accuracy: 0.6522\n",
            "\n",
            " ROC-AUC - epoch: 29 - score: 0.770843 \n",
            "\n",
            "Epoch 30/100\n",
            "9/9 - 2s - loss: 0.5658 - accuracy: 0.5934 - val_loss: 0.5469 - val_accuracy: 0.6087\n",
            "\n",
            " ROC-AUC - epoch: 30 - score: 0.770907 \n",
            "\n",
            "Epoch 31/100\n",
            "9/9 - 2s - loss: 0.5711 - accuracy: 0.5055 - val_loss: 0.5474 - val_accuracy: 0.6232\n",
            "\n",
            " ROC-AUC - epoch: 31 - score: 0.769410 \n",
            "\n",
            "Epoch 32/100\n",
            "9/9 - 1s - loss: 0.5570 - accuracy: 0.5897 - val_loss: 0.5446 - val_accuracy: 0.6232\n",
            "\n",
            " ROC-AUC - epoch: 32 - score: 0.770175 \n",
            "\n",
            "Epoch 33/100\n",
            "9/9 - 1s - loss: 0.5529 - accuracy: 0.5458 - val_loss: 0.5432 - val_accuracy: 0.6232\n",
            "\n",
            " ROC-AUC - epoch: 33 - score: 0.774179 \n",
            "\n",
            "Epoch 34/100\n",
            "9/9 - 2s - loss: 0.5703 - accuracy: 0.5568 - val_loss: 0.5412 - val_accuracy: 0.6232\n",
            "\n",
            " ROC-AUC - epoch: 34 - score: 0.773786 \n",
            "\n",
            "Epoch 35/100\n",
            "9/9 - 2s - loss: 0.5525 - accuracy: 0.5714 - val_loss: 0.5436 - val_accuracy: 0.6957\n",
            "\n",
            " ROC-AUC - epoch: 35 - score: 0.773486 \n",
            "\n",
            "Epoch 36/100\n",
            "9/9 - 2s - loss: 0.5678 - accuracy: 0.5458 - val_loss: 0.5418 - val_accuracy: 0.6377\n",
            "\n",
            " ROC-AUC - epoch: 36 - score: 0.772620 \n",
            "\n",
            "Epoch 37/100\n",
            "9/9 - 2s - loss: 0.5670 - accuracy: 0.5128 - val_loss: 0.5420 - val_accuracy: 0.6667\n",
            "\n",
            " ROC-AUC - epoch: 37 - score: 0.772779 \n",
            "\n",
            "Epoch 38/100\n",
            "9/9 - 2s - loss: 0.5555 - accuracy: 0.5604 - val_loss: 0.5375 - val_accuracy: 0.6377\n",
            "\n",
            " ROC-AUC - epoch: 38 - score: 0.773328 \n",
            "\n",
            "Epoch 39/100\n",
            "9/9 - 2s - loss: 0.5476 - accuracy: 0.5934 - val_loss: 0.5368 - val_accuracy: 0.6522\n",
            "\n",
            " ROC-AUC - epoch: 39 - score: 0.774804 \n",
            "\n",
            "Epoch 40/100\n",
            "9/9 - 1s - loss: 0.5497 - accuracy: 0.5678 - val_loss: 0.5350 - val_accuracy: 0.6522\n",
            "\n",
            " ROC-AUC - epoch: 40 - score: 0.773344 \n",
            "\n",
            "Epoch 41/100\n",
            "9/9 - 2s - loss: 0.5502 - accuracy: 0.5824 - val_loss: 0.5335 - val_accuracy: 0.6377\n",
            "\n",
            " ROC-AUC - epoch: 41 - score: 0.775614 \n",
            "\n",
            "Epoch 42/100\n",
            "9/9 - 2s - loss: 0.5363 - accuracy: 0.6337 - val_loss: 0.5341 - val_accuracy: 0.6377\n",
            "\n",
            " ROC-AUC - epoch: 42 - score: 0.777771 \n",
            "\n",
            "Epoch 43/100\n",
            "9/9 - 2s - loss: 0.5313 - accuracy: 0.6300 - val_loss: 0.5321 - val_accuracy: 0.6377\n",
            "\n",
            " ROC-AUC - epoch: 43 - score: 0.772953 \n",
            "\n",
            "Epoch 44/100\n",
            "9/9 - 2s - loss: 0.5329 - accuracy: 0.6044 - val_loss: 0.5241 - val_accuracy: 0.5797\n",
            "\n",
            " ROC-AUC - epoch: 44 - score: 0.778183 \n",
            "\n",
            "Epoch 45/100\n",
            "9/9 - 2s - loss: 0.5321 - accuracy: 0.5971 - val_loss: 0.5245 - val_accuracy: 0.6232\n",
            "\n",
            " ROC-AUC - epoch: 45 - score: 0.774767 \n",
            "\n",
            "Epoch 46/100\n",
            "9/9 - 1s - loss: 0.5225 - accuracy: 0.6264 - val_loss: 0.5222 - val_accuracy: 0.6377\n",
            "\n",
            " ROC-AUC - epoch: 46 - score: 0.776794 \n",
            "\n",
            "Epoch 47/100\n",
            "9/9 - 2s - loss: 0.5177 - accuracy: 0.6154 - val_loss: 0.5236 - val_accuracy: 0.6522\n",
            "\n",
            " ROC-AUC - epoch: 47 - score: 0.776995 \n",
            "\n",
            "Epoch 48/100\n",
            "9/9 - 2s - loss: 0.5084 - accuracy: 0.6703 - val_loss: 0.5216 - val_accuracy: 0.6377\n",
            "\n",
            " ROC-AUC - epoch: 48 - score: 0.781671 \n",
            "\n",
            "Epoch 49/100\n",
            "9/9 - 1s - loss: 0.5173 - accuracy: 0.6520 - val_loss: 0.5174 - val_accuracy: 0.6377\n",
            "\n",
            " ROC-AUC - epoch: 49 - score: 0.781837 \n",
            "\n",
            "Epoch 50/100\n",
            "9/9 - 2s - loss: 0.5134 - accuracy: 0.6337 - val_loss: 0.5148 - val_accuracy: 0.6377\n",
            "\n",
            " ROC-AUC - epoch: 50 - score: 0.785010 \n",
            "\n",
            "Epoch 51/100\n",
            "9/9 - 1s - loss: 0.5022 - accuracy: 0.6337 - val_loss: 0.5144 - val_accuracy: 0.6377\n",
            "\n",
            " ROC-AUC - epoch: 51 - score: 0.788550 \n",
            "\n",
            "Epoch 52/100\n",
            "9/9 - 2s - loss: 0.5070 - accuracy: 0.6300 - val_loss: 0.5176 - val_accuracy: 0.6522\n",
            "\n",
            " ROC-AUC - epoch: 52 - score: 0.792755 \n",
            "\n",
            "Epoch 53/100\n",
            "9/9 - 2s - loss: 0.4992 - accuracy: 0.6447 - val_loss: 0.5075 - val_accuracy: 0.6377\n",
            "\n",
            " ROC-AUC - epoch: 53 - score: 0.792699 \n",
            "\n",
            "Epoch 54/100\n",
            "9/9 - 2s - loss: 0.5052 - accuracy: 0.6081 - val_loss: 0.5057 - val_accuracy: 0.6232\n",
            "\n",
            " ROC-AUC - epoch: 54 - score: 0.791688 \n",
            "\n",
            "Epoch 55/100\n",
            "9/9 - 2s - loss: 0.4955 - accuracy: 0.6484 - val_loss: 0.5055 - val_accuracy: 0.6522\n",
            "\n",
            " ROC-AUC - epoch: 55 - score: 0.795470 \n",
            "\n",
            "Epoch 56/100\n",
            "9/9 - 2s - loss: 0.4874 - accuracy: 0.6557 - val_loss: 0.5065 - val_accuracy: 0.6522\n",
            "\n",
            " ROC-AUC - epoch: 56 - score: 0.795585 \n",
            "\n",
            "Epoch 57/100\n",
            "9/9 - 1s - loss: 0.4707 - accuracy: 0.6960 - val_loss: 0.5002 - val_accuracy: 0.6377\n",
            "\n",
            " ROC-AUC - epoch: 57 - score: 0.795399 \n",
            "\n",
            "Epoch 58/100\n",
            "9/9 - 2s - loss: 0.4844 - accuracy: 0.6813 - val_loss: 0.5073 - val_accuracy: 0.6667\n",
            "\n",
            " ROC-AUC - epoch: 58 - score: 0.798045 \n",
            "\n",
            "Epoch 59/100\n",
            "9/9 - 2s - loss: 0.4605 - accuracy: 0.7070 - val_loss: 0.4973 - val_accuracy: 0.6377\n",
            "\n",
            " ROC-AUC - epoch: 59 - score: 0.798654 \n",
            "\n",
            "Epoch 60/100\n",
            "9/9 - 2s - loss: 0.4667 - accuracy: 0.7070 - val_loss: 0.4958 - val_accuracy: 0.6232\n",
            "\n",
            " ROC-AUC - epoch: 60 - score: 0.801353 \n",
            "\n",
            "Epoch 61/100\n",
            "9/9 - 1s - loss: 0.4602 - accuracy: 0.6996 - val_loss: 0.5013 - val_accuracy: 0.6812\n",
            "\n",
            " ROC-AUC - epoch: 61 - score: 0.801455 \n",
            "\n",
            "Epoch 62/100\n",
            "9/9 - 2s - loss: 0.4499 - accuracy: 0.7106 - val_loss: 0.4911 - val_accuracy: 0.6522\n",
            "\n",
            " ROC-AUC - epoch: 62 - score: 0.801782 \n",
            "\n",
            "Epoch 63/100\n",
            "9/9 - 1s - loss: 0.4556 - accuracy: 0.6960 - val_loss: 0.4910 - val_accuracy: 0.6667\n",
            "\n",
            " ROC-AUC - epoch: 63 - score: 0.803273 \n",
            "\n",
            "Epoch 64/100\n",
            "9/9 - 1s - loss: 0.4404 - accuracy: 0.6960 - val_loss: 0.4906 - val_accuracy: 0.6522\n",
            "\n",
            " ROC-AUC - epoch: 64 - score: 0.805795 \n",
            "\n",
            "Epoch 65/100\n",
            "9/9 - 2s - loss: 0.4411 - accuracy: 0.7070 - val_loss: 0.4856 - val_accuracy: 0.6522\n",
            "\n",
            " ROC-AUC - epoch: 65 - score: 0.805186 \n",
            "\n",
            "Epoch 66/100\n",
            "9/9 - 2s - loss: 0.4359 - accuracy: 0.7106 - val_loss: 0.4902 - val_accuracy: 0.6812\n",
            "\n",
            " ROC-AUC - epoch: 66 - score: 0.808897 \n",
            "\n",
            "Epoch 67/100\n",
            "9/9 - 2s - loss: 0.4331 - accuracy: 0.7106 - val_loss: 0.4863 - val_accuracy: 0.6522\n",
            "\n",
            " ROC-AUC - epoch: 67 - score: 0.807809 \n",
            "\n",
            "Epoch 68/100\n",
            "9/9 - 2s - loss: 0.4196 - accuracy: 0.7473 - val_loss: 0.4824 - val_accuracy: 0.6667\n",
            "\n",
            " ROC-AUC - epoch: 68 - score: 0.809162 \n",
            "\n",
            "Epoch 69/100\n",
            "9/9 - 2s - loss: 0.4150 - accuracy: 0.7582 - val_loss: 0.4854 - val_accuracy: 0.6667\n",
            "\n",
            " ROC-AUC - epoch: 69 - score: 0.804884 \n",
            "\n",
            "Epoch 70/100\n",
            "9/9 - 2s - loss: 0.4180 - accuracy: 0.7619 - val_loss: 0.4807 - val_accuracy: 0.6667\n",
            "\n",
            " ROC-AUC - epoch: 70 - score: 0.809734 \n",
            "\n",
            "Epoch 71/100\n",
            "9/9 - 2s - loss: 0.4232 - accuracy: 0.7473 - val_loss: 0.4794 - val_accuracy: 0.6667\n",
            "\n",
            " ROC-AUC - epoch: 71 - score: 0.809705 \n",
            "\n",
            "Epoch 72/100\n",
            "9/9 - 2s - loss: 0.4098 - accuracy: 0.7399 - val_loss: 0.4789 - val_accuracy: 0.6667\n",
            "\n",
            " ROC-AUC - epoch: 72 - score: 0.809804 \n",
            "\n",
            "Epoch 73/100\n",
            "9/9 - 2s - loss: 0.3915 - accuracy: 0.7912 - val_loss: 0.4798 - val_accuracy: 0.6667\n",
            "\n",
            " ROC-AUC - epoch: 73 - score: 0.814933 \n",
            "\n",
            "Epoch 74/100\n",
            "9/9 - 2s - loss: 0.4098 - accuracy: 0.7729 - val_loss: 0.4801 - val_accuracy: 0.6667\n",
            "\n",
            " ROC-AUC - epoch: 74 - score: 0.814030 \n",
            "\n",
            "Epoch 75/100\n",
            "9/9 - 2s - loss: 0.3887 - accuracy: 0.7912 - val_loss: 0.4778 - val_accuracy: 0.6667\n",
            "\n",
            " ROC-AUC - epoch: 75 - score: 0.814603 \n",
            "\n",
            "Epoch 76/100\n",
            "9/9 - 2s - loss: 0.3924 - accuracy: 0.7363 - val_loss: 0.4771 - val_accuracy: 0.6812\n",
            "\n",
            " ROC-AUC - epoch: 76 - score: 0.814969 \n",
            "\n",
            "Epoch 77/100\n",
            "9/9 - 2s - loss: 0.3790 - accuracy: 0.7766 - val_loss: 0.4711 - val_accuracy: 0.6667\n",
            "\n",
            " ROC-AUC - epoch: 77 - score: 0.813236 \n",
            "\n",
            "Epoch 78/100\n",
            "9/9 - 2s - loss: 0.3798 - accuracy: 0.7729 - val_loss: 0.4706 - val_accuracy: 0.6667\n",
            "\n",
            " ROC-AUC - epoch: 78 - score: 0.813923 \n",
            "\n",
            "Epoch 79/100\n",
            "9/9 - 2s - loss: 0.3739 - accuracy: 0.8022 - val_loss: 0.4750 - val_accuracy: 0.6812\n",
            "\n",
            " ROC-AUC - epoch: 79 - score: 0.815906 \n",
            "\n",
            "Epoch 80/100\n",
            "9/9 - 2s - loss: 0.3624 - accuracy: 0.8132 - val_loss: 0.4750 - val_accuracy: 0.6812\n",
            "\n",
            " ROC-AUC - epoch: 80 - score: 0.817480 \n",
            "\n",
            "Epoch 81/100\n",
            "9/9 - 1s - loss: 0.3465 - accuracy: 0.8132 - val_loss: 0.4684 - val_accuracy: 0.6667\n",
            "\n",
            " ROC-AUC - epoch: 81 - score: 0.815240 \n",
            "\n",
            "Epoch 82/100\n",
            "9/9 - 1s - loss: 0.3418 - accuracy: 0.8315 - val_loss: 0.4663 - val_accuracy: 0.6667\n",
            "\n",
            " ROC-AUC - epoch: 82 - score: 0.816629 \n",
            "\n",
            "Epoch 83/100\n",
            "9/9 - 1s - loss: 0.3409 - accuracy: 0.8059 - val_loss: 0.4654 - val_accuracy: 0.6667\n",
            "\n",
            " ROC-AUC - epoch: 83 - score: 0.816164 \n",
            "\n",
            "Epoch 84/100\n",
            "9/9 - 2s - loss: 0.3480 - accuracy: 0.8205 - val_loss: 0.4663 - val_accuracy: 0.6667\n",
            "\n",
            " ROC-AUC - epoch: 84 - score: 0.816149 \n",
            "\n",
            "Epoch 85/100\n",
            "9/9 - 2s - loss: 0.3268 - accuracy: 0.8242 - val_loss: 0.4653 - val_accuracy: 0.6667\n",
            "\n",
            " ROC-AUC - epoch: 85 - score: 0.817826 \n",
            "\n",
            "Epoch 86/100\n",
            "9/9 - 2s - loss: 0.3365 - accuracy: 0.8095 - val_loss: 0.4609 - val_accuracy: 0.6667\n",
            "\n",
            " ROC-AUC - epoch: 86 - score: 0.818033 \n",
            "\n",
            "Epoch 87/100\n",
            "9/9 - 2s - loss: 0.3385 - accuracy: 0.8095 - val_loss: 0.4609 - val_accuracy: 0.6812\n",
            "\n",
            " ROC-AUC - epoch: 87 - score: 0.822667 \n",
            "\n",
            "Epoch 88/100\n",
            "9/9 - 2s - loss: 0.3185 - accuracy: 0.8425 - val_loss: 0.4589 - val_accuracy: 0.6667\n",
            "\n",
            " ROC-AUC - epoch: 88 - score: 0.819731 \n",
            "\n",
            "Epoch 89/100\n",
            "9/9 - 2s - loss: 0.3208 - accuracy: 0.8388 - val_loss: 0.4593 - val_accuracy: 0.6667\n",
            "\n",
            " ROC-AUC - epoch: 89 - score: 0.817739 \n",
            "\n",
            "Epoch 90/100\n",
            "9/9 - 2s - loss: 0.3058 - accuracy: 0.8645 - val_loss: 0.4656 - val_accuracy: 0.6812\n",
            "\n",
            " ROC-AUC - epoch: 90 - score: 0.813780 \n",
            "\n",
            "Epoch 91/100\n",
            "9/9 - 2s - loss: 0.3137 - accuracy: 0.8608 - val_loss: 0.4605 - val_accuracy: 0.6667\n",
            "\n",
            " ROC-AUC - epoch: 91 - score: 0.815421 \n",
            "\n",
            "Epoch 92/100\n",
            "9/9 - 1s - loss: 0.3016 - accuracy: 0.8571 - val_loss: 0.4566 - val_accuracy: 0.6667\n",
            "\n",
            " ROC-AUC - epoch: 92 - score: 0.817898 \n",
            "\n",
            "Epoch 93/100\n",
            "9/9 - 2s - loss: 0.2952 - accuracy: 0.8681 - val_loss: 0.4574 - val_accuracy: 0.6957\n",
            "\n",
            " ROC-AUC - epoch: 93 - score: 0.818327 \n",
            "\n",
            "Epoch 94/100\n",
            "9/9 - 2s - loss: 0.3044 - accuracy: 0.8571 - val_loss: 0.4616 - val_accuracy: 0.6667\n",
            "\n",
            " ROC-AUC - epoch: 94 - score: 0.814861 \n",
            "\n",
            "Epoch 95/100\n",
            "9/9 - 2s - loss: 0.2766 - accuracy: 0.8498 - val_loss: 0.4632 - val_accuracy: 0.6957\n",
            "\n",
            " ROC-AUC - epoch: 95 - score: 0.812354 \n",
            "\n",
            "Epoch 96/100\n",
            "9/9 - 1s - loss: 0.2769 - accuracy: 0.8681 - val_loss: 0.4590 - val_accuracy: 0.6812\n",
            "\n",
            " ROC-AUC - epoch: 96 - score: 0.814933 \n",
            "\n",
            "Epoch 97/100\n",
            "9/9 - 2s - loss: 0.2713 - accuracy: 0.8938 - val_loss: 0.4610 - val_accuracy: 0.6957\n",
            "\n",
            " ROC-AUC - epoch: 97 - score: 0.814703 \n",
            "\n",
            "Epoch 98/100\n",
            "9/9 - 1s - loss: 0.2593 - accuracy: 0.8791 - val_loss: 0.4626 - val_accuracy: 0.6957\n",
            "\n",
            " ROC-AUC - epoch: 98 - score: 0.814688 \n",
            "\n",
            "Epoch 99/100\n",
            "9/9 - 2s - loss: 0.2609 - accuracy: 0.8828 - val_loss: 0.4527 - val_accuracy: 0.7101\n",
            "\n",
            " ROC-AUC - epoch: 99 - score: 0.826174 \n",
            "\n",
            "Epoch 100/100\n",
            "9/9 - 1s - loss: 0.2581 - accuracy: 0.8864 - val_loss: 0.4546 - val_accuracy: 0.6957\n",
            "\n",
            " ROC-AUC - epoch: 100 - score: 0.821705 \n",
            "\n"
          ],
          "name": "stdout"
        },
        {
          "output_type": "execute_result",
          "data": {
            "text/plain": [
              "<keras.callbacks.History at 0x7fbd04cd52d0>"
            ]
          },
          "metadata": {
            "tags": []
          },
          "execution_count": 115
        }
      ]
    },
    {
      "cell_type": "code",
      "metadata": {
        "colab": {
          "base_uri": "https://localhost:8080/"
        },
        "id": "IjHxzAf7OVXa",
        "outputId": "adfb61df-4f5b-4245-f375-b977a2b8e8e0"
      },
      "source": [
        "model.summary()"
      ],
      "execution_count": null,
      "outputs": [
        {
          "output_type": "stream",
          "text": [
            "Model: \"model_8\"\n",
            "_________________________________________________________________\n",
            "Layer (type)                 Output Shape              Param #   \n",
            "=================================================================\n",
            "input_2 (InputLayer)         [(None, 50)]              0         \n",
            "_________________________________________________________________\n",
            "embedding_8 (Embedding)      (None, 50, 300)           338700    \n",
            "_________________________________________________________________\n",
            "gru_3 (GRU)                  (None, 50, 200)           301200    \n",
            "_________________________________________________________________\n",
            "global_max_pooling1d_8 (Glob (None, 200)               0         \n",
            "_________________________________________________________________\n",
            "dropout_32 (Dropout)         (None, 200)               0         \n",
            "_________________________________________________________________\n",
            "dense_32 (Dense)             (None, 100)               20100     \n",
            "_________________________________________________________________\n",
            "dropout_33 (Dropout)         (None, 100)               0         \n",
            "_________________________________________________________________\n",
            "dense_33 (Dense)             (None, 50)                5050      \n",
            "_________________________________________________________________\n",
            "dropout_34 (Dropout)         (None, 50)                0         \n",
            "_________________________________________________________________\n",
            "dense_34 (Dense)             (None, 28)                1428      \n",
            "_________________________________________________________________\n",
            "dropout_35 (Dropout)         (None, 28)                0         \n",
            "_________________________________________________________________\n",
            "dense_35 (Dense)             (None, 3)                 87        \n",
            "=================================================================\n",
            "Total params: 666,565\n",
            "Trainable params: 666,565\n",
            "Non-trainable params: 0\n",
            "_________________________________________________________________\n"
          ],
          "name": "stdout"
        }
      ]
    },
    {
      "cell_type": "code",
      "metadata": {
        "id": "nzL8384oOVXa"
      },
      "source": [
        "from keras.models import load_model\n",
        "c = model.predict(X_te)"
      ],
      "execution_count": null,
      "outputs": []
    },
    {
      "cell_type": "code",
      "metadata": {
        "colab": {
          "base_uri": "https://localhost:8080/"
        },
        "id": "geqRbJfmOVXb",
        "outputId": "6bd61713-a440-4b50-86a4-5c379422ae1b"
      },
      "source": [
        "\n",
        "score = model.evaluate(X_te, y_te,\n",
        "                       batch_size=batch_size, verbose=1)\n",
        "print('Test accuracy:', score[1])"
      ],
      "execution_count": null,
      "outputs": [
        {
          "output_type": "stream",
          "text": [
            "3/3 [==============================] - 0s 32ms/step - loss: 0.4546 - accuracy: 0.6957\n",
            "Test accuracy: 0.695652186870575\n"
          ],
          "name": "stdout"
        }
      ]
    },
    {
      "cell_type": "code",
      "metadata": {
        "colab": {
          "base_uri": "https://localhost:8080/"
        },
        "id": "76uIsw9fOVXb",
        "outputId": "6aaa0624-df57-49b1-ac6e-9eb283e2cae6"
      },
      "source": [
        "y_pred = model.predict(X_te)\n",
        "roc_auc_score(y_te, c)"
      ],
      "execution_count": null,
      "outputs": [
        {
          "output_type": "execute_result",
          "data": {
            "text/plain": [
              "0.8217053977097754"
            ]
          },
          "metadata": {
            "tags": []
          },
          "execution_count": 119
        }
      ]
    },
    {
      "cell_type": "code",
      "metadata": {
        "id": "F6vAPijpOVXb"
      },
      "source": [
        "from sklearn.metrics import roc_curve, auc\n",
        "fpr = dict()\n",
        "tpr = dict()\n",
        "roc_auc = dict()\n",
        "for i in range(3):\n",
        "    fpr[i], tpr[i], _ = roc_curve(y_te[:, i], y_pred[:, i])\n",
        "    roc_auc[i] = auc(fpr[i], tpr[i])"
      ],
      "execution_count": null,
      "outputs": []
    },
    {
      "cell_type": "code",
      "metadata": {
        "colab": {
          "base_uri": "https://localhost:8080/",
          "height": 851
        },
        "id": "Bv1szV0XOVXb",
        "outputId": "a3dc8348-d614-4dd7-ad64-fd9b7ca30af5"
      },
      "source": [
        "for i in range(3):\n",
        "    plt.figure()\n",
        "    plt.plot(fpr[i], tpr[i], label='ROC curve (area = %0.2f)' % roc_auc[i])\n",
        "    plt.plot([0, 1], [0, 1], 'k--')\n",
        "    plt.xlim([0.0, 1.0])\n",
        "    plt.ylim([0.0, 1.05])\n",
        "    plt.xlabel('False Positive Rate')\n",
        "    plt.ylabel('True Positive Rate')\n",
        "    plt.title('Receiver operating characteristic example')\n",
        "    plt.legend(loc=\"lower right\")\n",
        "    plt.show()"
      ],
      "execution_count": null,
      "outputs": [
        {
          "output_type": "display_data",
          "data": {
            "image/png": "[encoded data removed]",
            "text/plain": [
              "<Figure size 432x288 with 1 Axes>"
            ]
          },
          "metadata": {
            "tags": [],
            "needs_background": "light"
          }
        },
        {
          "output_type": "display_data",
          "data": {
            "image/png": "[encoded data removed]",
            "text/plain": [
              "<Figure size 432x288 with 1 Axes>"
            ]
          },
          "metadata": {
            "tags": [],
            "needs_background": "light"
          }
        },
        {
          "output_type": "display_data",
          "data": {
            "image/png": "[encoded data removed]",
            "text/plain": [
              "<Figure size 432x288 with 1 Axes>"
            ]
          },
          "metadata": {
            "tags": [],
            "needs_background": "light"
          }
        }
      ]
    },
    {
      "cell_type": "code",
      "metadata": {
        "colab": {
          "base_uri": "https://localhost:8080/"
        },
        "id": "OWq3zCFEOVXc",
        "outputId": "634dd934-0eb8-4b1e-d8dd-2b48ecbe9125"
      },
      "source": [
        "y_pred[y_pred>=0.23] = 1\n",
        "y_pred[y_pred<0.23] = 0\n",
        "roc_auc_score(y_te, y_pred)\n"
      ],
      "execution_count": null,
      "outputs": [
        {
          "output_type": "execute_result",
          "data": {
            "text/plain": [
              "0.7441539436352556"
            ]
          },
          "metadata": {
            "tags": []
          },
          "execution_count": 122
        }
      ]
    },
    {
      "cell_type": "code",
      "metadata": {
        "colab": {
          "base_uri": "https://localhost:8080/"
        },
        "id": "46CAuOkIOVXc",
        "outputId": "218e94b2-4dfc-4f2b-ca9e-f69027f990ef"
      },
      "source": [
        "import sklearn.metrics as skm\n",
        "import numpy as np\n",
        "cm = skm.multilabel_confusion_matrix(y_te, y_pred)\n",
        "print(cm)\n",
        "print( skm.classification_report(y_te,y_pred))"
      ],
      "execution_count": null,
      "outputs": [
        {
          "output_type": "stream",
          "text": [
            "[[[32 10]\n",
            "  [ 4 23]]\n",
            "\n",
            " [[27 19]\n",
            "  [ 0 23]]\n",
            "\n",
            " [[29 21]\n",
            "  [ 6 13]]]\n",
            "              precision    recall  f1-score   support\n",
            "\n",
            "           0       0.70      0.85      0.77        27\n",
            "           1       0.55      1.00      0.71        23\n",
            "           2       0.38      0.68      0.49        19\n",
            "\n",
            "   micro avg       0.54      0.86      0.66        69\n",
            "   macro avg       0.54      0.85      0.65        69\n",
            "weighted avg       0.56      0.86      0.67        69\n",
            " samples avg       0.62      0.86      0.70        69\n",
            "\n"
          ],
          "name": "stdout"
        }
      ]
    },
    {
      "cell_type": "code",
      "metadata": {
        "colab": {
          "base_uri": "https://localhost:8080/"
        },
        "id": "JyTkGcrEOVXd",
        "outputId": "5c096874-a066-49cc-d96d-93bd82542aa2"
      },
      "source": [
        "from sklearn.metrics import accuracy_score\n",
        "from sklearn.metrics import hamming_loss\n",
        "def hamming_score(y_true, y_pred, normalize=True, sample_weight=None):\n",
        "    '''\n",
        "    Compute the Hamming score (a.k.a. label-based accuracy) for the multi-label case\n",
        "    http://stackoverflow.com/q/32239577/395857\n",
        "    '''\n",
        "    acc_list = []\n",
        "    for i in range(y_true.shape[0]):\n",
        "        set_true = set( np.where(y_true[i])[0] )\n",
        "        set_pred = set( np.where(y_pred[i])[0] )\n",
        "        #print('\\nset_true: {0}'.format(set_true))\n",
        "        #print('set_pred: {0}'.format(set_pred))\n",
        "        tmp_a = None\n",
        "        if len(set_true) == 0 and len(set_pred) == 0:\n",
        "            tmp_a = 1\n",
        "        else:\n",
        "            tmp_a = len(set_true.intersection(set_pred))/\\\n",
        "                    float( len(set_true.union(set_pred)) )\n",
        "        #print('tmp_a: {0}'.format(tmp_a))\n",
        "        acc_list.append(tmp_a)\n",
        "    return np.mean(acc_list)\n",
        "print('Hamming score: {0}'.format(hamming_score(y_te,y_pred)))\n"
      ],
      "execution_count": null,
      "outputs": [
        {
          "output_type": "stream",
          "text": [
            "Hamming score: 0.6183574879227054\n"
          ],
          "name": "stdout"
        }
      ]
    },
    {
      "cell_type": "code",
      "metadata": {
        "colab": {
          "base_uri": "https://localhost:8080/"
        },
        "id": "Ch9PgfVLOVXd",
        "outputId": "c7b64418-271c-4b9b-cf4c-3b8b541ebda5"
      },
      "source": [
        "import sklearn.metrics\n",
        "# Subset accuracy\n",
        "# 0.25 (= 0+1+0+0 / 4) --> 1 if the prediction for one sample fully matches the gold. 0 otherwise.\n",
        "print('Subset accuracy: {0}'.format(sklearn.metrics.accuracy_score(y_te, y_pred, normalize=True, sample_weight=None)))\n",
        "\n",
        "# Hamming loss (smaller is better)\n",
        "# $$ \\text{HammingLoss}(x_i, y_i) = \\frac{1}{|D|} \\sum_{i=1}^{|D|} \\frac{xor(x_i, y_i)}{|L|}, $$\n",
        "# where\n",
        "#  - \\\\(|D|\\\\) is the number of samples  \n",
        "#  - \\\\(|L|\\\\) is the number of labels  \n",
        "#  - \\\\(y_i\\\\) is the ground truth  \n",
        "#  - \\\\(x_i\\\\)  is the prediction.  \n",
        "# 0.416666666667 (= (1+0+3+1) / (3*4) )\n",
        "print('Hamming loss: {0}'.format(sklearn.metrics.hamming_loss(y_te, y_pred)))"
      ],
      "execution_count": null,
      "outputs": [
        {
          "output_type": "stream",
          "text": [
            "Subset accuracy: 0.391304347826087\n",
            "Hamming loss: 0.2898550724637681\n"
          ],
          "name": "stdout"
        }
      ]
    },
    {
      "cell_type": "code",
      "metadata": {
        "colab": {
          "base_uri": "https://localhost:8080/"
        },
        "id": "odoDZjYIOVXf",
        "outputId": "a53ced22-8724-4b6e-eccd-9d54f7d30e4f"
      },
      "source": [
        "from sklearn.metrics import confusion_matrix\n",
        "confusion_matrix(y_te.argmax(axis=1), y_pred.argmax(axis=1))"
      ],
      "execution_count": null,
      "outputs": [
        {
          "output_type": "execute_result",
          "data": {
            "text/plain": [
              "array([[23,  3,  1],\n",
              "       [ 2, 21,  0],\n",
              "       [ 8,  9,  2]])"
            ]
          },
          "metadata": {
            "tags": []
          },
          "execution_count": 126
        }
      ]
    },
    {
      "cell_type": "code",
      "metadata": {
        "colab": {
          "base_uri": "https://localhost:8080/",
          "height": 335
        },
        "id": "b3kzDN6QOVXg",
        "outputId": "6627c28f-3010-439d-9c37-01d9241ce8c0"
      },
      "source": [
        "import seaborn as sns\n",
        "import matplotlib.pyplot as plt\n",
        "f, ax = plt.subplots(figsize=(8,5))\n",
        "sns.heatmap(confusion_matrix(y_te.argmax(axis=1), y_pred.argmax(axis=1)), annot=True, fmt=\".0f\", ax=ax)\n",
        "plt.xlabel(\"y_head\")\n",
        "plt.ylabel(\"y_true\")\n",
        "plt.show()"
      ],
      "execution_count": null,
      "outputs": [
        {
          "output_type": "display_data",
          "data": {
            "image/png": "[encoded data removed]",
            "text/plain": [
              "<Figure size 576x360 with 2 Axes>"
            ]
          },
          "metadata": {
            "tags": [],
            "needs_background": "light"
          }
        }
      ]
    },
    {
      "cell_type": "markdown",
      "metadata": {
        "id": "ZXKKGTsXGcLk"
      },
      "source": [
        "#Sinovac LSTM-ADAM"
      ]
    },
    {
      "cell_type": "code",
      "metadata": {
        "colab": {
          "base_uri": "https://localhost:8080/"
        },
        "id": "a-fpbzUTPiKr",
        "outputId": "35140212-987e-49fa-ae87-4a36c71483c7"
      },
      "source": [
        "x = Embedding(len(tokenizer.word_index)+1, emb_init_values.shape[1],weights=[emb_init_values],trainable=True)(inp)\n",
        "# print(inp.shape)\n",
        "x = LSTM(200, activation='tanh', return_sequences = True, dropout=0.4)(x)\n",
        "#x = GRU(200, return_sequences=True)(x)\n",
        "\n",
        "x = GlobalMaxPool1D()(x)\n",
        "x = Dropout(0.1)(x)\n",
        "x = Dense(100)(x)\n",
        "x = Dropout(0.1)(x)\n",
        "x = Dense(50)(x)\n",
        "x = Dropout(0.1)(x)\n",
        "x = Dense(28, activation=\"relu\")(x)\n",
        "x = Dropout(0.1)(x)\n",
        "x = Dense(3, activation=\"softmax\")(x)\n",
        "\n",
        "\n",
        "model = Model(inputs=inp, outputs=x)\n",
        "opt = optimizers.Adam(lr=0.001)\n",
        "model.compile(loss='binary_crossentropy',\n",
        "                  optimizer=opt,\n",
        "                  metrics=['accuracy'])\n",
        "\n",
        "batch_size = 32\n",
        "epochs = 100\n",
        "\n",
        "# file_path=\"weights_base.best.hdf5\"\n",
        "RocAuc = RocAucEvaluation(validation_data=(X_te, y_te), interval=1)\n",
        "# checkpoint = ModelCheckpoint('modelEmb-{epoch:03d}-{acc:03f}-{val_acc:03f}.h5', verbose=1, monitor='val_loss',save_best_only=True, mode='auto')\n",
        "model.fit(X_t,y, batch_size=batch_size, epochs=epochs,  verbose=2,callbacks=[RocAuc], validation_data=(X_te, y_te))"
      ],
      "execution_count": 53,
      "outputs": [
        {
          "output_type": "stream",
          "text": [
            "/usr/local/lib/python3.7/dist-packages/tensorflow/python/keras/optimizer_v2/optimizer_v2.py:375: UserWarning: The `lr` argument is deprecated, use `learning_rate` instead.\n",
            "  \"The `lr` argument is deprecated, use `learning_rate` instead.\")\n"
          ],
          "name": "stderr"
        },
        {
          "output_type": "stream",
          "text": [
            "Epoch 1/100\n",
            "9/9 - 6s - loss: 0.7031 - accuracy: 0.3187 - val_loss: 0.6626 - val_accuracy: 0.3768\n",
            "\n",
            " ROC-AUC - epoch: 1 - score: 0.555211 \n",
            "\n",
            "Epoch 2/100\n",
            "9/9 - 3s - loss: 0.6537 - accuracy: 0.3553 - val_loss: 0.6369 - val_accuracy: 0.3913\n",
            "\n",
            " ROC-AUC - epoch: 2 - score: 0.566383 \n",
            "\n",
            "Epoch 3/100\n",
            "9/9 - 2s - loss: 0.6408 - accuracy: 0.4029 - val_loss: 0.6281 - val_accuracy: 0.3913\n",
            "\n",
            " ROC-AUC - epoch: 3 - score: 0.632061 \n",
            "\n",
            "Epoch 4/100\n",
            "9/9 - 3s - loss: 0.6206 - accuracy: 0.4799 - val_loss: 0.5800 - val_accuracy: 0.5942\n",
            "\n",
            " ROC-AUC - epoch: 4 - score: 0.735414 \n",
            "\n",
            "Epoch 5/100\n",
            "9/9 - 2s - loss: 0.6041 - accuracy: 0.4725 - val_loss: 0.5628 - val_accuracy: 0.5217\n",
            "\n",
            " ROC-AUC - epoch: 5 - score: 0.751836 \n",
            "\n",
            "Epoch 6/100\n",
            "9/9 - 3s - loss: 0.5872 - accuracy: 0.5165 - val_loss: 0.5430 - val_accuracy: 0.6087\n",
            "\n",
            " ROC-AUC - epoch: 6 - score: 0.782786 \n",
            "\n",
            "Epoch 7/100\n",
            "9/9 - 3s - loss: 0.5672 - accuracy: 0.5385 - val_loss: 0.5413 - val_accuracy: 0.5797\n",
            "\n",
            " ROC-AUC - epoch: 7 - score: 0.796894 \n",
            "\n",
            "Epoch 8/100\n",
            "9/9 - 2s - loss: 0.5449 - accuracy: 0.5348 - val_loss: 0.5000 - val_accuracy: 0.6377\n",
            "\n",
            " ROC-AUC - epoch: 8 - score: 0.834295 \n",
            "\n",
            "Epoch 9/100\n",
            "9/9 - 3s - loss: 0.5000 - accuracy: 0.6264 - val_loss: 0.5055 - val_accuracy: 0.5942\n",
            "\n",
            " ROC-AUC - epoch: 9 - score: 0.820155 \n",
            "\n",
            "Epoch 10/100\n",
            "9/9 - 3s - loss: 0.4573 - accuracy: 0.6813 - val_loss: 0.4450 - val_accuracy: 0.6812\n",
            "\n",
            " ROC-AUC - epoch: 10 - score: 0.845346 \n",
            "\n",
            "Epoch 11/100\n",
            "9/9 - 3s - loss: 0.3849 - accuracy: 0.7399 - val_loss: 0.4696 - val_accuracy: 0.6377\n",
            "\n",
            " ROC-AUC - epoch: 11 - score: 0.832851 \n",
            "\n",
            "Epoch 12/100\n",
            "9/9 - 3s - loss: 0.3121 - accuracy: 0.8242 - val_loss: 0.6765 - val_accuracy: 0.5797\n",
            "\n",
            " ROC-AUC - epoch: 12 - score: 0.817989 \n",
            "\n",
            "Epoch 13/100\n",
            "9/9 - 3s - loss: 0.3206 - accuracy: 0.7802 - val_loss: 0.5472 - val_accuracy: 0.6957\n",
            "\n",
            " ROC-AUC - epoch: 13 - score: 0.845262 \n",
            "\n",
            "Epoch 14/100\n",
            "9/9 - 3s - loss: 0.2267 - accuracy: 0.8535 - val_loss: 0.4860 - val_accuracy: 0.7536\n",
            "\n",
            " ROC-AUC - epoch: 14 - score: 0.870948 \n",
            "\n",
            "Epoch 15/100\n",
            "9/9 - 3s - loss: 0.1702 - accuracy: 0.9231 - val_loss: 0.4832 - val_accuracy: 0.7101\n",
            "\n",
            " ROC-AUC - epoch: 15 - score: 0.865623 \n",
            "\n",
            "Epoch 16/100\n",
            "9/9 - 3s - loss: 0.1039 - accuracy: 0.9597 - val_loss: 0.5159 - val_accuracy: 0.7246\n",
            "\n",
            " ROC-AUC - epoch: 16 - score: 0.868329 \n",
            "\n",
            "Epoch 17/100\n",
            "9/9 - 3s - loss: 0.0723 - accuracy: 0.9707 - val_loss: 0.6090 - val_accuracy: 0.6957\n",
            "\n",
            " ROC-AUC - epoch: 17 - score: 0.864254 \n",
            "\n",
            "Epoch 18/100\n",
            "9/9 - 3s - loss: 0.0559 - accuracy: 0.9853 - val_loss: 0.6438 - val_accuracy: 0.7246\n",
            "\n",
            " ROC-AUC - epoch: 18 - score: 0.863829 \n",
            "\n",
            "Epoch 19/100\n",
            "9/9 - 3s - loss: 0.0592 - accuracy: 0.9780 - val_loss: 0.7081 - val_accuracy: 0.7101\n",
            "\n",
            " ROC-AUC - epoch: 19 - score: 0.864662 \n",
            "\n",
            "Epoch 20/100\n",
            "9/9 - 3s - loss: 0.0306 - accuracy: 0.9963 - val_loss: 0.7503 - val_accuracy: 0.7101\n",
            "\n",
            " ROC-AUC - epoch: 20 - score: 0.864285 \n",
            "\n",
            "Epoch 21/100\n",
            "9/9 - 3s - loss: 0.0318 - accuracy: 0.9853 - val_loss: 0.7969 - val_accuracy: 0.6667\n",
            "\n",
            " ROC-AUC - epoch: 21 - score: 0.862666 \n",
            "\n",
            "Epoch 22/100\n",
            "9/9 - 3s - loss: 0.0224 - accuracy: 1.0000 - val_loss: 0.8607 - val_accuracy: 0.7246\n",
            "\n",
            " ROC-AUC - epoch: 22 - score: 0.861898 \n",
            "\n",
            "Epoch 23/100\n",
            "9/9 - 2s - loss: 0.0132 - accuracy: 1.0000 - val_loss: 0.8616 - val_accuracy: 0.6812\n",
            "\n",
            " ROC-AUC - epoch: 23 - score: 0.857351 \n",
            "\n",
            "Epoch 24/100\n",
            "9/9 - 2s - loss: 0.0222 - accuracy: 0.9927 - val_loss: 0.8333 - val_accuracy: 0.6957\n",
            "\n",
            " ROC-AUC - epoch: 24 - score: 0.874536 \n",
            "\n",
            "Epoch 25/100\n",
            "9/9 - 3s - loss: 0.0186 - accuracy: 0.9890 - val_loss: 0.8842 - val_accuracy: 0.7101\n",
            "\n",
            " ROC-AUC - epoch: 25 - score: 0.866040 \n",
            "\n",
            "Epoch 26/100\n",
            "9/9 - 3s - loss: 0.0398 - accuracy: 0.9780 - val_loss: 0.8532 - val_accuracy: 0.6957\n",
            "\n",
            " ROC-AUC - epoch: 26 - score: 0.876700 \n",
            "\n",
            "Epoch 27/100\n",
            "9/9 - 2s - loss: 0.0824 - accuracy: 0.9744 - val_loss: 1.1514 - val_accuracy: 0.6377\n",
            "\n",
            " ROC-AUC - epoch: 27 - score: 0.855001 \n",
            "\n",
            "Epoch 28/100\n",
            "9/9 - 3s - loss: 0.0842 - accuracy: 0.9560 - val_loss: 0.6869 - val_accuracy: 0.7681\n",
            "\n",
            " ROC-AUC - epoch: 28 - score: 0.879199 \n",
            "\n",
            "Epoch 29/100\n",
            "9/9 - 3s - loss: 0.0426 - accuracy: 0.9853 - val_loss: 0.8187 - val_accuracy: 0.7101\n",
            "\n",
            " ROC-AUC - epoch: 29 - score: 0.881944 \n",
            "\n",
            "Epoch 30/100\n",
            "9/9 - 3s - loss: 0.0469 - accuracy: 0.9707 - val_loss: 0.7104 - val_accuracy: 0.7391\n",
            "\n",
            " ROC-AUC - epoch: 30 - score: 0.876443 \n",
            "\n",
            "Epoch 31/100\n",
            "9/9 - 2s - loss: 0.0258 - accuracy: 0.9927 - val_loss: 0.7464 - val_accuracy: 0.7101\n",
            "\n",
            " ROC-AUC - epoch: 31 - score: 0.878573 \n",
            "\n",
            "Epoch 32/100\n",
            "9/9 - 2s - loss: 0.0197 - accuracy: 0.9890 - val_loss: 0.7559 - val_accuracy: 0.7536\n",
            "\n",
            " ROC-AUC - epoch: 32 - score: 0.885689 \n",
            "\n",
            "Epoch 33/100\n",
            "9/9 - 2s - loss: 0.0169 - accuracy: 0.9963 - val_loss: 0.7722 - val_accuracy: 0.6812\n",
            "\n",
            " ROC-AUC - epoch: 33 - score: 0.884496 \n",
            "\n",
            "Epoch 34/100\n",
            "9/9 - 3s - loss: 0.0087 - accuracy: 1.0000 - val_loss: 0.8196 - val_accuracy: 0.7101\n",
            "\n",
            " ROC-AUC - epoch: 34 - score: 0.877886 \n",
            "\n",
            "Epoch 35/100\n",
            "9/9 - 3s - loss: 0.0078 - accuracy: 1.0000 - val_loss: 0.8778 - val_accuracy: 0.6957\n",
            "\n",
            " ROC-AUC - epoch: 35 - score: 0.877873 \n",
            "\n",
            "Epoch 36/100\n",
            "9/9 - 3s - loss: 0.0105 - accuracy: 0.9963 - val_loss: 0.8990 - val_accuracy: 0.6812\n",
            "\n",
            " ROC-AUC - epoch: 36 - score: 0.877290 \n",
            "\n",
            "Epoch 37/100\n",
            "9/9 - 3s - loss: 0.0085 - accuracy: 1.0000 - val_loss: 0.9384 - val_accuracy: 0.7101\n",
            "\n",
            " ROC-AUC - epoch: 37 - score: 0.873208 \n",
            "\n",
            "Epoch 38/100\n",
            "9/9 - 3s - loss: 0.0076 - accuracy: 0.9963 - val_loss: 0.9901 - val_accuracy: 0.6812\n",
            "\n",
            " ROC-AUC - epoch: 38 - score: 0.866038 \n",
            "\n",
            "Epoch 39/100\n",
            "9/9 - 3s - loss: 0.0055 - accuracy: 1.0000 - val_loss: 0.9685 - val_accuracy: 0.7101\n",
            "\n",
            " ROC-AUC - epoch: 39 - score: 0.872219 \n",
            "\n",
            "Epoch 40/100\n",
            "9/9 - 2s - loss: 0.0035 - accuracy: 1.0000 - val_loss: 0.9755 - val_accuracy: 0.7246\n",
            "\n",
            " ROC-AUC - epoch: 40 - score: 0.870392 \n",
            "\n",
            "Epoch 41/100\n",
            "9/9 - 2s - loss: 0.0049 - accuracy: 1.0000 - val_loss: 1.0196 - val_accuracy: 0.6812\n",
            "\n",
            " ROC-AUC - epoch: 41 - score: 0.868137 \n",
            "\n",
            "Epoch 42/100\n",
            "9/9 - 2s - loss: 0.0022 - accuracy: 1.0000 - val_loss: 1.0687 - val_accuracy: 0.6667\n",
            "\n",
            " ROC-AUC - epoch: 42 - score: 0.868179 \n",
            "\n",
            "Epoch 43/100\n",
            "9/9 - 2s - loss: 0.0080 - accuracy: 0.9963 - val_loss: 1.0418 - val_accuracy: 0.7101\n",
            "\n",
            " ROC-AUC - epoch: 43 - score: 0.869033 \n",
            "\n",
            "Epoch 44/100\n",
            "9/9 - 3s - loss: 0.0072 - accuracy: 0.9963 - val_loss: 1.0744 - val_accuracy: 0.6957\n",
            "\n",
            " ROC-AUC - epoch: 44 - score: 0.868275 \n",
            "\n",
            "Epoch 45/100\n",
            "9/9 - 3s - loss: 0.0024 - accuracy: 1.0000 - val_loss: 1.1215 - val_accuracy: 0.6812\n",
            "\n",
            " ROC-AUC - epoch: 45 - score: 0.870374 \n",
            "\n",
            "Epoch 46/100\n",
            "9/9 - 2s - loss: 0.0035 - accuracy: 1.0000 - val_loss: 1.1197 - val_accuracy: 0.6812\n",
            "\n",
            " ROC-AUC - epoch: 46 - score: 0.871125 \n",
            "\n",
            "Epoch 47/100\n",
            "9/9 - 3s - loss: 0.0065 - accuracy: 0.9963 - val_loss: 1.1022 - val_accuracy: 0.7246\n",
            "\n",
            " ROC-AUC - epoch: 47 - score: 0.868829 \n",
            "\n",
            "Epoch 48/100\n",
            "9/9 - 3s - loss: 0.0090 - accuracy: 1.0000 - val_loss: 1.0623 - val_accuracy: 0.7101\n",
            "\n",
            " ROC-AUC - epoch: 48 - score: 0.866171 \n",
            "\n",
            "Epoch 49/100\n",
            "9/9 - 3s - loss: 0.0040 - accuracy: 1.0000 - val_loss: 1.0602 - val_accuracy: 0.6957\n",
            "\n",
            " ROC-AUC - epoch: 49 - score: 0.875133 \n",
            "\n",
            "Epoch 50/100\n",
            "9/9 - 3s - loss: 0.0051 - accuracy: 1.0000 - val_loss: 1.0541 - val_accuracy: 0.7101\n",
            "\n",
            " ROC-AUC - epoch: 50 - score: 0.873604 \n",
            "\n",
            "Epoch 51/100\n",
            "9/9 - 3s - loss: 0.0036 - accuracy: 0.9963 - val_loss: 1.0608 - val_accuracy: 0.6957\n",
            "\n",
            " ROC-AUC - epoch: 51 - score: 0.871284 \n",
            "\n",
            "Epoch 52/100\n",
            "9/9 - 3s - loss: 0.0018 - accuracy: 1.0000 - val_loss: 1.0639 - val_accuracy: 0.6957\n",
            "\n",
            " ROC-AUC - epoch: 52 - score: 0.869530 \n",
            "\n",
            "Epoch 53/100\n",
            "9/9 - 3s - loss: 0.0021 - accuracy: 1.0000 - val_loss: 1.0896 - val_accuracy: 0.6667\n",
            "\n",
            " ROC-AUC - epoch: 53 - score: 0.868332 \n",
            "\n",
            "Epoch 54/100\n",
            "9/9 - 3s - loss: 0.0017 - accuracy: 1.0000 - val_loss: 1.1779 - val_accuracy: 0.6812\n",
            "\n",
            " ROC-AUC - epoch: 54 - score: 0.873027 \n",
            "\n",
            "Epoch 55/100\n",
            "9/9 - 2s - loss: 0.0026 - accuracy: 1.0000 - val_loss: 1.1959 - val_accuracy: 0.6812\n",
            "\n",
            " ROC-AUC - epoch: 55 - score: 0.872532 \n",
            "\n",
            "Epoch 56/100\n",
            "9/9 - 3s - loss: 0.0022 - accuracy: 1.0000 - val_loss: 1.2059 - val_accuracy: 0.6812\n",
            "\n",
            " ROC-AUC - epoch: 56 - score: 0.870474 \n",
            "\n",
            "Epoch 57/100\n",
            "9/9 - 3s - loss: 8.3188e-04 - accuracy: 1.0000 - val_loss: 1.1986 - val_accuracy: 0.6667\n",
            "\n",
            " ROC-AUC - epoch: 57 - score: 0.868560 \n",
            "\n",
            "Epoch 58/100\n",
            "9/9 - 3s - loss: 0.0013 - accuracy: 1.0000 - val_loss: 1.1952 - val_accuracy: 0.6667\n",
            "\n",
            " ROC-AUC - epoch: 58 - score: 0.866577 \n",
            "\n",
            "Epoch 59/100\n",
            "9/9 - 3s - loss: 0.0025 - accuracy: 1.0000 - val_loss: 1.2143 - val_accuracy: 0.6667\n",
            "\n",
            " ROC-AUC - epoch: 59 - score: 0.864560 \n",
            "\n",
            "Epoch 60/100\n",
            "9/9 - 3s - loss: 0.0013 - accuracy: 1.0000 - val_loss: 1.2308 - val_accuracy: 0.6812\n",
            "\n",
            " ROC-AUC - epoch: 60 - score: 0.864218 \n",
            "\n",
            "Epoch 61/100\n",
            "9/9 - 2s - loss: 7.3614e-04 - accuracy: 1.0000 - val_loss: 1.2512 - val_accuracy: 0.6667\n",
            "\n",
            " ROC-AUC - epoch: 61 - score: 0.865556 \n",
            "\n",
            "Epoch 62/100\n",
            "9/9 - 2s - loss: 5.5612e-04 - accuracy: 1.0000 - val_loss: 1.2663 - val_accuracy: 0.6667\n",
            "\n",
            " ROC-AUC - epoch: 62 - score: 0.868550 \n",
            "\n",
            "Epoch 63/100\n",
            "9/9 - 2s - loss: 0.0067 - accuracy: 0.9963 - val_loss: 1.2307 - val_accuracy: 0.7101\n",
            "\n",
            " ROC-AUC - epoch: 63 - score: 0.861634 \n",
            "\n",
            "Epoch 64/100\n",
            "9/9 - 3s - loss: 0.0019 - accuracy: 1.0000 - val_loss: 1.2672 - val_accuracy: 0.7101\n",
            "\n",
            " ROC-AUC - epoch: 64 - score: 0.873884 \n",
            "\n",
            "Epoch 65/100\n",
            "9/9 - 3s - loss: 0.0087 - accuracy: 0.9963 - val_loss: 1.2484 - val_accuracy: 0.7101\n",
            "\n",
            " ROC-AUC - epoch: 65 - score: 0.873183 \n",
            "\n",
            "Epoch 66/100\n",
            "9/9 - 3s - loss: 0.0019 - accuracy: 1.0000 - val_loss: 1.2648 - val_accuracy: 0.6812\n",
            "\n",
            " ROC-AUC - epoch: 66 - score: 0.872864 \n",
            "\n",
            "Epoch 67/100\n",
            "9/9 - 3s - loss: 0.0019 - accuracy: 1.0000 - val_loss: 1.2560 - val_accuracy: 0.6812\n",
            "\n",
            " ROC-AUC - epoch: 67 - score: 0.870025 \n",
            "\n",
            "Epoch 68/100\n",
            "9/9 - 3s - loss: 4.2746e-04 - accuracy: 1.0000 - val_loss: 1.2670 - val_accuracy: 0.7101\n",
            "\n",
            " ROC-AUC - epoch: 68 - score: 0.873189 \n",
            "\n",
            "Epoch 69/100\n",
            "9/9 - 3s - loss: 0.0142 - accuracy: 0.9963 - val_loss: 1.2604 - val_accuracy: 0.7101\n",
            "\n",
            " ROC-AUC - epoch: 69 - score: 0.870813 \n",
            "\n",
            "Epoch 70/100\n",
            "9/9 - 3s - loss: 0.0054 - accuracy: 0.9963 - val_loss: 1.1881 - val_accuracy: 0.7101\n",
            "\n",
            " ROC-AUC - epoch: 70 - score: 0.881179 \n",
            "\n",
            "Epoch 71/100\n",
            "9/9 - 3s - loss: 0.0013 - accuracy: 1.0000 - val_loss: 1.0964 - val_accuracy: 0.6957\n",
            "\n",
            " ROC-AUC - epoch: 71 - score: 0.888704 \n",
            "\n",
            "Epoch 72/100\n",
            "9/9 - 3s - loss: 0.0011 - accuracy: 1.0000 - val_loss: 1.0700 - val_accuracy: 0.7101\n",
            "\n",
            " ROC-AUC - epoch: 72 - score: 0.891932 \n",
            "\n",
            "Epoch 73/100\n",
            "9/9 - 3s - loss: 0.0026 - accuracy: 1.0000 - val_loss: 1.0671 - val_accuracy: 0.7101\n",
            "\n",
            " ROC-AUC - epoch: 73 - score: 0.893448 \n",
            "\n",
            "Epoch 74/100\n",
            "9/9 - 3s - loss: 0.0074 - accuracy: 0.9963 - val_loss: 1.0666 - val_accuracy: 0.6957\n",
            "\n",
            " ROC-AUC - epoch: 74 - score: 0.896438 \n",
            "\n",
            "Epoch 75/100\n",
            "9/9 - 3s - loss: 0.0102 - accuracy: 0.9927 - val_loss: 1.0892 - val_accuracy: 0.7101\n",
            "\n",
            " ROC-AUC - epoch: 75 - score: 0.895120 \n",
            "\n",
            "Epoch 76/100\n",
            "9/9 - 3s - loss: 0.0013 - accuracy: 1.0000 - val_loss: 1.2267 - val_accuracy: 0.6957\n",
            "\n",
            " ROC-AUC - epoch: 76 - score: 0.888489 \n",
            "\n",
            "Epoch 77/100\n",
            "9/9 - 3s - loss: 0.0063 - accuracy: 0.9963 - val_loss: 1.0637 - val_accuracy: 0.7246\n",
            "\n",
            " ROC-AUC - epoch: 77 - score: 0.895615 \n",
            "\n",
            "Epoch 78/100\n",
            "9/9 - 3s - loss: 0.0036 - accuracy: 1.0000 - val_loss: 1.0458 - val_accuracy: 0.7101\n",
            "\n",
            " ROC-AUC - epoch: 78 - score: 0.887871 \n",
            "\n",
            "Epoch 79/100\n",
            "9/9 - 3s - loss: 0.0019 - accuracy: 1.0000 - val_loss: 1.0722 - val_accuracy: 0.7391\n",
            "\n",
            " ROC-AUC - epoch: 79 - score: 0.890281 \n",
            "\n",
            "Epoch 80/100\n",
            "9/9 - 2s - loss: 0.0086 - accuracy: 0.9927 - val_loss: 1.1445 - val_accuracy: 0.7101\n",
            "\n",
            " ROC-AUC - epoch: 80 - score: 0.887406 \n",
            "\n",
            "Epoch 81/100\n",
            "9/9 - 3s - loss: 0.0039 - accuracy: 0.9963 - val_loss: 1.0823 - val_accuracy: 0.7101\n",
            "\n",
            " ROC-AUC - epoch: 81 - score: 0.885971 \n",
            "\n",
            "Epoch 82/100\n",
            "9/9 - 3s - loss: 0.0202 - accuracy: 0.9853 - val_loss: 1.1931 - val_accuracy: 0.7101\n",
            "\n",
            " ROC-AUC - epoch: 82 - score: 0.869415 \n",
            "\n",
            "Epoch 83/100\n",
            "9/9 - 3s - loss: 0.0175 - accuracy: 0.9927 - val_loss: 1.2438 - val_accuracy: 0.7101\n",
            "\n",
            " ROC-AUC - epoch: 83 - score: 0.868711 \n",
            "\n",
            "Epoch 84/100\n",
            "9/9 - 3s - loss: 0.0041 - accuracy: 1.0000 - val_loss: 1.2815 - val_accuracy: 0.6812\n",
            "\n",
            " ROC-AUC - epoch: 84 - score: 0.877789 \n",
            "\n",
            "Epoch 85/100\n",
            "9/9 - 3s - loss: 0.0293 - accuracy: 0.9853 - val_loss: 1.2686 - val_accuracy: 0.6957\n",
            "\n",
            " ROC-AUC - epoch: 85 - score: 0.859987 \n",
            "\n",
            "Epoch 86/100\n",
            "9/9 - 3s - loss: 0.0565 - accuracy: 0.9744 - val_loss: 1.0793 - val_accuracy: 0.6957\n",
            "\n",
            " ROC-AUC - epoch: 86 - score: 0.889972 \n",
            "\n",
            "Epoch 87/100\n",
            "9/9 - 3s - loss: 0.0043 - accuracy: 1.0000 - val_loss: 1.0582 - val_accuracy: 0.7391\n",
            "\n",
            " ROC-AUC - epoch: 87 - score: 0.876572 \n",
            "\n",
            "Epoch 88/100\n",
            "9/9 - 3s - loss: 0.0170 - accuracy: 0.9927 - val_loss: 1.0214 - val_accuracy: 0.7101\n",
            "\n",
            " ROC-AUC - epoch: 88 - score: 0.890137 \n",
            "\n",
            "Epoch 89/100\n",
            "9/9 - 3s - loss: 0.0154 - accuracy: 0.9927 - val_loss: 1.0135 - val_accuracy: 0.7246\n",
            "\n",
            " ROC-AUC - epoch: 89 - score: 0.884217 \n",
            "\n",
            "Epoch 90/100\n",
            "9/9 - 3s - loss: 0.0103 - accuracy: 0.9927 - val_loss: 1.0229 - val_accuracy: 0.7101\n",
            "\n",
            " ROC-AUC - epoch: 90 - score: 0.881271 \n",
            "\n",
            "Epoch 91/100\n",
            "9/9 - 3s - loss: 0.0149 - accuracy: 0.9927 - val_loss: 1.0343 - val_accuracy: 0.6957\n",
            "\n",
            " ROC-AUC - epoch: 91 - score: 0.878876 \n",
            "\n",
            "Epoch 92/100\n",
            "9/9 - 3s - loss: 0.0070 - accuracy: 0.9963 - val_loss: 1.0697 - val_accuracy: 0.7246\n",
            "\n",
            " ROC-AUC - epoch: 92 - score: 0.880535 \n",
            "\n",
            "Epoch 93/100\n",
            "9/9 - 3s - loss: 0.0046 - accuracy: 0.9963 - val_loss: 1.1213 - val_accuracy: 0.7101\n",
            "\n",
            " ROC-AUC - epoch: 93 - score: 0.882650 \n",
            "\n",
            "Epoch 94/100\n",
            "9/9 - 3s - loss: 0.0018 - accuracy: 1.0000 - val_loss: 1.1052 - val_accuracy: 0.7246\n",
            "9/9 - 3s - loss: 0.0038 - accuracy: 1.0000 - val_loss: 1.0725 - val_accuracy: 0.7101\n",
            "\n",
            " ROC-AUC - epoch: 95 - score: 0.884020 \n",
            "\n",
            "Epoch 96/100\n",
            "9/9 - 3s - loss: 0.0019 - accuracy: 1.0000 - val_loss: 1.0623 - val_accuracy: 0.6957\n",
            "\n",
            " ROC-AUC - epoch: 96 - score: 0.884999 \n",
            "\n",
            "Epoch 97/100\n",
            "9/9 - 2s - loss: 0.0011 - accuracy: 1.0000 - val_loss: 1.0770 - val_accuracy: 0.6957\n",
            "\n",
            " ROC-AUC - epoch: 97 - score: 0.887249 \n",
            "\n",
            "Epoch 98/100\n",
            "9/9 - 3s - loss: 0.0030 - accuracy: 1.0000 - val_loss: 1.0723 - val_accuracy: 0.6957\n",
            "\n",
            " ROC-AUC - epoch: 98 - score: 0.884288 \n",
            "\n",
            "Epoch 99/100\n",
            "9/9 - 3s - loss: 5.4946e-04 - accuracy: 1.0000 - val_loss: 1.1006 - val_accuracy: 0.7246\n",
            "\n",
            " ROC-AUC - epoch: 99 - score: 0.883244 \n",
            "\n",
            "Epoch 100/100\n",
            "9/9 - 3s - loss: 5.6736e-04 - accuracy: 1.0000 - val_loss: 1.1266 - val_accuracy: 0.7246\n",
            "\n",
            " ROC-AUC - epoch: 100 - score: 0.883767 \n",
            "\n"
          ],
          "name": "stdout"
        },
        {
          "output_type": "execute_result",
          "data": {
            "text/plain": [
              "<keras.callbacks.History at 0x7f1b29b25d50>"
            ]
          },
          "metadata": {
            "tags": []
          },
          "execution_count": 53
        }
      ]
    },
    {
      "cell_type": "code",
      "metadata": {
        "colab": {
          "base_uri": "https://localhost:8080/"
        },
        "id": "CNb7NvtxPiKr",
        "outputId": "496c1c2c-6999-4dc7-c431-d576aa45e7e6"
      },
      "source": [
        "model.summary()"
      ],
      "execution_count": 54,
      "outputs": [
        {
          "output_type": "stream",
          "text": [
            "Model: \"model_1\"\n",
            "_________________________________________________________________\n",
            "Layer (type)                 Output Shape              Param #   \n",
            "=================================================================\n",
            "input_2 (InputLayer)         [(None, 50)]              0         \n",
            "_________________________________________________________________\n",
            "embedding_1 (Embedding)      (None, 50, 300)           338700    \n",
            "_________________________________________________________________\n",
            "lstm_1 (LSTM)                (None, 50, 200)           400800    \n",
            "_________________________________________________________________\n",
            "global_max_pooling1d_1 (Glob (None, 200)               0         \n",
            "_________________________________________________________________\n",
            "dropout_4 (Dropout)          (None, 200)               0         \n",
            "_________________________________________________________________\n",
            "dense_4 (Dense)              (None, 100)               20100     \n",
            "_________________________________________________________________\n",
            "dropout_5 (Dropout)          (None, 100)               0         \n",
            "_________________________________________________________________\n",
            "dense_5 (Dense)              (None, 50)                5050      \n",
            "_________________________________________________________________\n",
            "dropout_6 (Dropout)          (None, 50)                0         \n",
            "_________________________________________________________________\n",
            "dense_6 (Dense)              (None, 28)                1428      \n",
            "_________________________________________________________________\n",
            "dropout_7 (Dropout)          (None, 28)                0         \n",
            "_________________________________________________________________\n",
            "dense_7 (Dense)              (None, 3)                 87        \n",
            "=================================================================\n",
            "Total params: 766,165\n",
            "Trainable params: 766,165\n",
            "Non-trainable params: 0\n",
            "_________________________________________________________________\n"
          ],
          "name": "stdout"
        }
      ]
    },
    {
      "cell_type": "code",
      "metadata": {
        "id": "ydHKf36BPiKs"
      },
      "source": [
        "from keras.models import load_model\n",
        "c = model.predict(X_te)"
      ],
      "execution_count": 55,
      "outputs": []
    },
    {
      "cell_type": "code",
      "metadata": {
        "colab": {
          "base_uri": "https://localhost:8080/"
        },
        "id": "QgGNlvEaPiKs",
        "outputId": "d6a67bb3-cb7b-4fa3-dfcf-8f0e0539311d"
      },
      "source": [
        "\n",
        "score = model.evaluate(X_te, y_te,\n",
        "                       batch_size=batch_size, verbose=1)\n",
        "print('Test accuracy:', score[1])"
      ],
      "execution_count": 56,
      "outputs": [
        {
          "output_type": "stream",
          "text": [
            "3/3 [==============================] - 0s 41ms/step - loss: 1.1266 - accuracy: 0.7246\n",
            "Test accuracy: 0.7246376872062683\n"
          ],
          "name": "stdout"
        }
      ]
    },
    {
      "cell_type": "code",
      "metadata": {
        "colab": {
          "base_uri": "https://localhost:8080/"
        },
        "id": "jgpOQGtEPiKs",
        "outputId": "e5289cc3-c2c7-415b-c21c-d06d9dce67e3"
      },
      "source": [
        "y_pred = model.predict(X_te)\n",
        "roc_auc_score(y_te, c)"
      ],
      "execution_count": 57,
      "outputs": [
        {
          "output_type": "execute_result",
          "data": {
            "text/plain": [
              "0.8837673029220582"
            ]
          },
          "metadata": {
            "tags": []
          },
          "execution_count": 57
        }
      ]
    },
    {
      "cell_type": "code",
      "metadata": {
        "id": "KEyaVDMwPiKs"
      },
      "source": [
        "from sklearn.metrics import roc_curve, auc\n",
        "fpr = dict()\n",
        "tpr = dict()\n",
        "roc_auc = dict()\n",
        "for i in range(3):\n",
        "    fpr[i], tpr[i], _ = roc_curve(y_te[:, i], y_pred[:, i])\n",
        "    roc_auc[i] = auc(fpr[i], tpr[i])"
      ],
      "execution_count": 58,
      "outputs": []
    },
    {
      "cell_type": "code",
      "metadata": {
        "colab": {
          "base_uri": "https://localhost:8080/",
          "height": 0
        },
        "id": "IbUgWAgSPiKs",
        "outputId": "4277d8fb-94f1-4397-8064-0606d4b51fe3"
      },
      "source": [
        "for i in range(3):\n",
        "    plt.figure()\n",
        "    plt.plot(fpr[i], tpr[i], label='ROC curve (area = %0.2f)' % roc_auc[i])\n",
        "    plt.plot([0, 1], [0, 1], 'k--')\n",
        "    plt.xlim([0.0, 1.0])\n",
        "    plt.ylim([0.0, 1.05])\n",
        "    plt.xlabel('False Positive Rate')\n",
        "    plt.ylabel('True Positive Rate')\n",
        "    plt.title('Receiver operating characteristic example')\n",
        "    plt.legend(loc=\"lower right\")\n",
        "    plt.show()"
      ],
      "execution_count": 59,
      "outputs": [
        {
          "output_type": "display_data",
          "data": {
            "image/png": "[encoded data removed]",
            "text/plain": [
              "<Figure size 432x288 with 1 Axes>"
            ]
          },
          "metadata": {
            "tags": [],
            "needs_background": "light"
          }
        },
        {
          "output_type": "display_data",
          "data": {
            "image/png": "[encoded data removed]",
            "text/plain": [
              "<Figure size 432x288 with 1 Axes>"
            ]
          },
          "metadata": {
            "tags": [],
            "needs_background": "light"
          }
        },
        {
          "output_type": "display_data",
          "data": {
            "image/png": "[encoded data removed]",
            "text/plain": [
              "<Figure size 432x288 with 1 Axes>"
            ]
          },
          "metadata": {
            "tags": [],
            "needs_background": "light"
          }
        }
      ]
    },
    {
      "cell_type": "code",
      "metadata": {
        "colab": {
          "base_uri": "https://localhost:8080/"
        },
        "id": "JOh60g37PiKs",
        "outputId": "bd974a5f-b410-44d5-d9cb-63169337720a"
      },
      "source": [
        "y_pred[y_pred>=0.23] = 1\n",
        "y_pred[y_pred<0.23] = 0\n",
        "roc_auc_score(y_te, y_pred)\n"
      ],
      "execution_count": 60,
      "outputs": [
        {
          "output_type": "execute_result",
          "data": {
            "text/plain": [
              "0.79198164493359"
            ]
          },
          "metadata": {
            "tags": []
          },
          "execution_count": 60
        }
      ]
    },
    {
      "cell_type": "code",
      "metadata": {
        "colab": {
          "base_uri": "https://localhost:8080/"
        },
        "id": "QOHIuV9rPiKt",
        "outputId": "6c20af27-89ad-4300-f976-2b18011a6d7a"
      },
      "source": [
        "import sklearn.metrics as skm\n",
        "import numpy as np\n",
        "cm = skm.multilabel_confusion_matrix(y_te, y_pred)\n",
        "print(cm)\n",
        "print( skm.classification_report(y_te,y_pred))"
      ],
      "execution_count": 61,
      "outputs": [
        {
          "output_type": "stream",
          "text": [
            "[[[36  6]\n",
            "  [ 3 24]]\n",
            "\n",
            " [[38  8]\n",
            "  [ 4 19]]\n",
            "\n",
            " [[44  6]\n",
            "  [10  9]]]\n",
            "              precision    recall  f1-score   support\n",
            "\n",
            "           0       0.80      0.89      0.84        27\n",
            "           1       0.70      0.83      0.76        23\n",
            "           2       0.60      0.47      0.53        19\n",
            "\n",
            "   micro avg       0.72      0.75      0.74        69\n",
            "   macro avg       0.70      0.73      0.71        69\n",
            "weighted avg       0.71      0.75      0.73        69\n",
            " samples avg       0.74      0.75      0.74        69\n",
            "\n"
          ],
          "name": "stdout"
        }
      ]
    },
    {
      "cell_type": "code",
      "metadata": {
        "colab": {
          "base_uri": "https://localhost:8080/"
        },
        "id": "7TpfQTerPiKt",
        "outputId": "2ce353f9-9c3d-4ae8-db0f-afb5967ed48b"
      },
      "source": [
        "from sklearn.metrics import accuracy_score\n",
        "from sklearn.metrics import hamming_loss\n",
        "def hamming_score(y_true, y_pred, normalize=True, sample_weight=None):\n",
        "    '''\n",
        "    Compute the Hamming score (a.k.a. label-based accuracy) for the multi-label case\n",
        "    http://stackoverflow.com/q/32239577/395857\n",
        "    '''\n",
        "    acc_list = []\n",
        "    for i in range(y_true.shape[0]):\n",
        "        set_true = set( np.where(y_true[i])[0] )\n",
        "        set_pred = set( np.where(y_pred[i])[0] )\n",
        "        #print('\\nset_true: {0}'.format(set_true))\n",
        "        #print('set_pred: {0}'.format(set_pred))\n",
        "        tmp_a = None\n",
        "        if len(set_true) == 0 and len(set_pred) == 0:\n",
        "            tmp_a = 1\n",
        "        else:\n",
        "            tmp_a = len(set_true.intersection(set_pred))/\\\n",
        "                    float( len(set_true.union(set_pred)) )\n",
        "        #print('tmp_a: {0}'.format(tmp_a))\n",
        "        acc_list.append(tmp_a)\n",
        "    return np.mean(acc_list)\n",
        "print('Hamming score: {0}'.format(hamming_score(y_te,y_pred)))\n"
      ],
      "execution_count": 62,
      "outputs": [
        {
          "output_type": "stream",
          "text": [
            "Hamming score: 0.7391304347826086\n"
          ],
          "name": "stdout"
        }
      ]
    },
    {
      "cell_type": "code",
      "metadata": {
        "colab": {
          "base_uri": "https://localhost:8080/"
        },
        "id": "ZiLv52C3PiKt",
        "outputId": "a5569d02-b7cd-4781-ca3a-137da189e1f1"
      },
      "source": [
        "import sklearn.metrics\n",
        "# Subset accuracy\n",
        "# 0.25 (= 0+1+0+0 / 4) --> 1 if the prediction for one sample fully matches the gold. 0 otherwise.\n",
        "print('Subset accuracy: {0}'.format(sklearn.metrics.accuracy_score(y_te, y_pred, normalize=True, sample_weight=None)))\n",
        "\n",
        "# Hamming loss (smaller is better)\n",
        "# $$ \\text{HammingLoss}(x_i, y_i) = \\frac{1}{|D|} \\sum_{i=1}^{|D|} \\frac{xor(x_i, y_i)}{|L|}, $$\n",
        "# where\n",
        "#  - \\\\(|D|\\\\) is the number of samples  \n",
        "#  - \\\\(|L|\\\\) is the number of labels  \n",
        "#  - \\\\(y_i\\\\) is the ground truth  \n",
        "#  - \\\\(x_i\\\\)  is the prediction.  \n",
        "# 0.416666666667 (= (1+0+3+1) / (3*4) )\n",
        "print('Hamming loss: {0}'.format(sklearn.metrics.hamming_loss(y_te, y_pred)))"
      ],
      "execution_count": 63,
      "outputs": [
        {
          "output_type": "stream",
          "text": [
            "Subset accuracy: 0.7246376811594203\n",
            "Hamming loss: 0.178743961352657\n"
          ],
          "name": "stdout"
        }
      ]
    },
    {
      "cell_type": "code",
      "metadata": {
        "colab": {
          "base_uri": "https://localhost:8080/"
        },
        "id": "3rdDLeyePiKt",
        "outputId": "1b7f1b64-e864-4d35-9088-5859fc28d1cc"
      },
      "source": [
        "from sklearn.metrics import confusion_matrix\n",
        "confusion_matrix(y_te.argmax(axis=1), y_pred.argmax(axis=1))"
      ],
      "execution_count": 64,
      "outputs": [
        {
          "output_type": "execute_result",
          "data": {
            "text/plain": [
              "array([[24,  1,  2],\n",
              "       [ 1, 19,  3],\n",
              "       [ 5,  5,  9]])"
            ]
          },
          "metadata": {
            "tags": []
          },
          "execution_count": 64
        }
      ]
    },
    {
      "cell_type": "code",
      "metadata": {
        "colab": {
          "base_uri": "https://localhost:8080/",
          "height": 0
        },
        "id": "KoOYbzybPiKt",
        "outputId": "ef1c3138-1118-4dc4-9189-f91f8cc7d9fd"
      },
      "source": [
        "import seaborn as sns\n",
        "import matplotlib.pyplot as plt\n",
        "f, ax = plt.subplots(figsize=(8,5))\n",
        "sns.heatmap(confusion_matrix(y_te.argmax(axis=1), y_pred.argmax(axis=1)), annot=True, fmt=\".0f\", ax=ax)\n",
        "plt.xlabel(\"y_head\")\n",
        "plt.ylabel(\"y_true\")\n",
        "plt.show()"
      ],
      "execution_count": 65,
      "outputs": [
        {
          "output_type": "display_data",
          "data": {
            "image/png": "[encoded data removed]",
            "text/plain": [
              "<Figure size 576x360 with 2 Axes>"
            ]
          },
          "metadata": {
            "tags": [],
            "needs_background": "light"
          }
        }
      ]
    },
    {
      "cell_type": "code",
      "metadata": {
        "colab": {
          "base_uri": "https://localhost:8080/",
          "height": 0
        },
        "id": "S1qVFq308qc3",
        "outputId": "2f5e5971-430f-4231-d74c-650706a2f7d3"
      },
      "source": [
        "df_untagged = df_untagged.drop(['tag'], axis =1)\n",
        "df_untagged"
      ],
      "execution_count": 66,
      "outputs": [
        {
          "output_type": "execute_result",
          "data": {
            "text/html": [
              "<div>\n",
              "<style scoped>\n",
              "    .dataframe tbody tr th:only-of-type {\n",
              "        vertical-align: middle;\n",
              "    }\n",
              "\n",
              "    .dataframe tbody tr th {\n",
              "        vertical-align: top;\n",
              "    }\n",
              "\n",
              "    .dataframe thead th {\n",
              "        text-align: right;\n",
              "    }\n",
              "</style>\n",
              "<table border=\"1\" class=\"dataframe\">\n",
              "  <thead>\n",
              "    <tr style=\"text-align: right;\">\n",
              "      <th></th>\n",
              "      <th>Name</th>\n",
              "      <th>Comments</th>\n",
              "    </tr>\n",
              "  </thead>\n",
              "  <tbody>\n",
              "    <tr>\n",
              "      <th>0</th>\n",
              "      <td>ica_risa18</td>\n",
              "      <td>@indriaelvandria bacee</td>\n",
              "    </tr>\n",
              "    <tr>\n",
              "      <th>1</th>\n",
              "      <td>djulkifli_</td>\n",
              "      <td>Aku tak ngguyu mbek turu😂😂😂😄😄</td>\n",
              "    </tr>\n",
              "    <tr>\n",
              "      <th>2</th>\n",
              "      <td>bagja.rki</td>\n",
              "      <td>@chaeny_shoftyani</td>\n",
              "    </tr>\n",
              "    <tr>\n",
              "      <th>3</th>\n",
              "      <td>pentolisme</td>\n",
              "      <td>@slebewwww @ripalbendot</td>\n",
              "    </tr>\n",
              "    <tr>\n",
              "      <th>4</th>\n",
              "      <td>ar_balance01</td>\n",
              "      <td>@randyahmd22</td>\n",
              "    </tr>\n",
              "    <tr>\n",
              "      <th>...</th>\n",
              "      <td>...</td>\n",
              "      <td>...</td>\n",
              "    </tr>\n",
              "    <tr>\n",
              "      <th>517</th>\n",
              "      <td>_balaa._syahiddtu</td>\n",
              "      <td>halal blm tentu baik ?</td>\n",
              "    </tr>\n",
              "    <tr>\n",
              "      <th>518</th>\n",
              "      <td>tomijumaesa</td>\n",
              "      <td>Masyarakat Cina di vaksin gk sih min???</td>\n",
              "    </tr>\n",
              "    <tr>\n",
              "      <th>519</th>\n",
              "      <td>07_arif</td>\n",
              "      <td>kita sinovac sendiri lohh? beranii? 🤣</td>\n",
              "    </tr>\n",
              "    <tr>\n",
              "      <th>520</th>\n",
              "      <td>arisadwicahyo</td>\n",
              "      <td>Emang udah tau bahan dalem nya apa aja😁,dibuat...</td>\n",
              "    </tr>\n",
              "    <tr>\n",
              "      <th>521</th>\n",
              "      <td>sr.pryg</td>\n",
              "      <td>Lha apa pentingnya sampe mengutip pendapat alu...</td>\n",
              "    </tr>\n",
              "  </tbody>\n",
              "</table>\n",
              "<p>522 rows × 2 columns</p>\n",
              "</div>"
            ],
            "text/plain": [
              "                  Name                                           Comments\n",
              "0           ica_risa18                             @indriaelvandria bacee\n",
              "1           djulkifli_                      Aku tak ngguyu mbek turu😂😂😂😄😄\n",
              "2            bagja.rki                                  @chaeny_shoftyani\n",
              "3           pentolisme                            @slebewwww @ripalbendot\n",
              "4         ar_balance01                                       @randyahmd22\n",
              "..                 ...                                                ...\n",
              "517  _balaa._syahiddtu                             halal blm tentu baik ?\n",
              "518        tomijumaesa            Masyarakat Cina di vaksin gk sih min???\n",
              "519            07_arif              kita sinovac sendiri lohh? beranii? 🤣\n",
              "520      arisadwicahyo  Emang udah tau bahan dalem nya apa aja😁,dibuat...\n",
              "521            sr.pryg  Lha apa pentingnya sampe mengutip pendapat alu...\n",
              "\n",
              "[522 rows x 2 columns]"
            ]
          },
          "metadata": {
            "tags": []
          },
          "execution_count": 66
        }
      ]
    },
    {
      "cell_type": "code",
      "metadata": {
        "colab": {
          "base_uri": "https://localhost:8080/",
          "height": 0
        },
        "id": "PK17BTyN8qc3",
        "outputId": "609eeed3-cbfd-4120-887e-91f28270cb69"
      },
      "source": [
        "#ilangin link dan uname\n",
        "df_untagged[\"Comments\"]=df_untagged[\"Comments\"].str.replace('(?:\\@|https?\\://)\\S+', '')\n",
        "#ilangin lowercase\n",
        "df_untagged[\"Comments\"]=df_untagged[\"Comments\"].str.lower()\n",
        "#ilangin simbol\n",
        "df_untagged[\"Comments\"]=df_untagged[\"Comments\"].str.replace('[^\\w\\s]',' ')\n",
        "#ilangin angka\n",
        "df_untagged[\"Comments\"]=df_untagged[\"Comments\"].str.replace('\\d+',' ')\n",
        "#ilangin enter\n",
        "df_untagged[\"Comments\"]=df_untagged[\"Comments\"].str.replace('\\n',' ',regex=True)\n",
        "df_untagged[\"Comments\"] = df_untagged[\"Comments\"].replace('\\s+', ' ', regex=True)\n",
        "df_untagged"
      ],
      "execution_count": 67,
      "outputs": [
        {
          "output_type": "execute_result",
          "data": {
            "text/html": [
              "<div>\n",
              "<style scoped>\n",
              "    .dataframe tbody tr th:only-of-type {\n",
              "        vertical-align: middle;\n",
              "    }\n",
              "\n",
              "    .dataframe tbody tr th {\n",
              "        vertical-align: top;\n",
              "    }\n",
              "\n",
              "    .dataframe thead th {\n",
              "        text-align: right;\n",
              "    }\n",
              "</style>\n",
              "<table border=\"1\" class=\"dataframe\">\n",
              "  <thead>\n",
              "    <tr style=\"text-align: right;\">\n",
              "      <th></th>\n",
              "      <th>Name</th>\n",
              "      <th>Comments</th>\n",
              "    </tr>\n",
              "  </thead>\n",
              "  <tbody>\n",
              "    <tr>\n",
              "      <th>0</th>\n",
              "      <td>ica_risa18</td>\n",
              "      <td>bacee</td>\n",
              "    </tr>\n",
              "    <tr>\n",
              "      <th>1</th>\n",
              "      <td>djulkifli_</td>\n",
              "      <td>aku tak ngguyu mbek turu</td>\n",
              "    </tr>\n",
              "    <tr>\n",
              "      <th>2</th>\n",
              "      <td>bagja.rki</td>\n",
              "      <td></td>\n",
              "    </tr>\n",
              "    <tr>\n",
              "      <th>3</th>\n",
              "      <td>pentolisme</td>\n",
              "      <td></td>\n",
              "    </tr>\n",
              "    <tr>\n",
              "      <th>4</th>\n",
              "      <td>ar_balance01</td>\n",
              "      <td></td>\n",
              "    </tr>\n",
              "    <tr>\n",
              "      <th>...</th>\n",
              "      <td>...</td>\n",
              "      <td>...</td>\n",
              "    </tr>\n",
              "    <tr>\n",
              "      <th>517</th>\n",
              "      <td>_balaa._syahiddtu</td>\n",
              "      <td>halal blm tentu baik</td>\n",
              "    </tr>\n",
              "    <tr>\n",
              "      <th>518</th>\n",
              "      <td>tomijumaesa</td>\n",
              "      <td>masyarakat cina di vaksin gk sih min</td>\n",
              "    </tr>\n",
              "    <tr>\n",
              "      <th>519</th>\n",
              "      <td>07_arif</td>\n",
              "      <td>kita sinovac sendiri lohh beranii</td>\n",
              "    </tr>\n",
              "    <tr>\n",
              "      <th>520</th>\n",
              "      <td>arisadwicahyo</td>\n",
              "      <td>emang udah tau bahan dalem nya apa aja dibuat ...</td>\n",
              "    </tr>\n",
              "    <tr>\n",
              "      <th>521</th>\n",
              "      <td>sr.pryg</td>\n",
              "      <td>lha apa pentingnya sampe mengutip pendapat alu...</td>\n",
              "    </tr>\n",
              "  </tbody>\n",
              "</table>\n",
              "<p>522 rows × 2 columns</p>\n",
              "</div>"
            ],
            "text/plain": [
              "                  Name                                           Comments\n",
              "0           ica_risa18                                              bacee\n",
              "1           djulkifli_                          aku tak ngguyu mbek turu \n",
              "2            bagja.rki                                                   \n",
              "3           pentolisme                                                   \n",
              "4         ar_balance01                                                   \n",
              "..                 ...                                                ...\n",
              "517  _balaa._syahiddtu                              halal blm tentu baik \n",
              "518        tomijumaesa              masyarakat cina di vaksin gk sih min \n",
              "519            07_arif                 kita sinovac sendiri lohh beranii \n",
              "520      arisadwicahyo  emang udah tau bahan dalem nya apa aja dibuat ...\n",
              "521            sr.pryg  lha apa pentingnya sampe mengutip pendapat alu...\n",
              "\n",
              "[522 rows x 2 columns]"
            ]
          },
          "metadata": {
            "tags": []
          },
          "execution_count": 67
        }
      ]
    },
    {
      "cell_type": "code",
      "metadata": {
        "colab": {
          "base_uri": "https://localhost:8080/"
        },
        "id": "iCJhBA9g8qc4",
        "outputId": "94a22e7f-5dc6-4e4a-c854-59c193e3fdde"
      },
      "source": [
        "list_sentences_aplikasi = df_untagged[\"Comments\"]\n",
        "list_tokenized_aplikasi = tokenizer.texts_to_sequences(list_sentences_aplikasi)\n",
        "X_aplikasi = pad_sequences(list_tokenized_aplikasi, maxlen=maxlen)\n",
        "X_aplikasi"
      ],
      "execution_count": 68,
      "outputs": [
        {
          "output_type": "execute_result",
          "data": {
            "text/plain": [
              "array([[   0,    0,    0, ...,    0,    0,    0],\n",
              "       [   0,    0,    0, ...,    0,  123,  775],\n",
              "       [   0,    0,    0, ...,    0,    0,    0],\n",
              "       ...,\n",
              "       [   0,    0,    0, ...,   12,    5,   74],\n",
              "       [   0,    0,    0, ...,   46,  438,  133],\n",
              "       [   0,    0,    0, ...,  191, 1055,  125]], dtype=int32)"
            ]
          },
          "metadata": {
            "tags": []
          },
          "execution_count": 68
        }
      ]
    },
    {
      "cell_type": "code",
      "metadata": {
        "colab": {
          "base_uri": "https://localhost:8080/"
        },
        "id": "tt9P3ZPd8qc4",
        "outputId": "99e59dc7-48bd-40a5-c1df-248bdb2f3f06"
      },
      "source": [
        "y_pred_aplikasi = model.predict(X_aplikasi)\n",
        "y_pred_aplikasi\n"
      ],
      "execution_count": 69,
      "outputs": [
        {
          "output_type": "execute_result",
          "data": {
            "text/plain": [
              "array([[3.7140178e-04, 3.6394406e-02, 9.6323419e-01],\n",
              "       [3.4886098e-04, 9.9827039e-01, 1.3806545e-03],\n",
              "       [3.7140178e-04, 3.6394406e-02, 9.6323419e-01],\n",
              "       ...,\n",
              "       [9.5931432e-09, 1.0000000e+00, 2.8350189e-09],\n",
              "       [5.5534799e-10, 1.1236990e-09, 1.0000000e+00],\n",
              "       [9.9951494e-01, 3.8365211e-04, 1.0142504e-04]], dtype=float32)"
            ]
          },
          "metadata": {
            "tags": []
          },
          "execution_count": 69
        }
      ]
    },
    {
      "cell_type": "code",
      "metadata": {
        "colab": {
          "base_uri": "https://localhost:8080/",
          "height": 0
        },
        "id": "CSqECgM68qc4",
        "outputId": "aff58b1b-ac91-47e5-b7c0-330783008c48"
      },
      "source": [
        "dfhasil = pd.DataFrame(y_pred_aplikasi, columns=['POS', 'NET', 'NEG'])\n",
        "dfhasil"
      ],
      "execution_count": 70,
      "outputs": [
        {
          "output_type": "execute_result",
          "data": {
            "text/html": [
              "<div>\n",
              "<style scoped>\n",
              "    .dataframe tbody tr th:only-of-type {\n",
              "        vertical-align: middle;\n",
              "    }\n",
              "\n",
              "    .dataframe tbody tr th {\n",
              "        vertical-align: top;\n",
              "    }\n",
              "\n",
              "    .dataframe thead th {\n",
              "        text-align: right;\n",
              "    }\n",
              "</style>\n",
              "<table border=\"1\" class=\"dataframe\">\n",
              "  <thead>\n",
              "    <tr style=\"text-align: right;\">\n",
              "      <th></th>\n",
              "      <th>POS</th>\n",
              "      <th>NET</th>\n",
              "      <th>NEG</th>\n",
              "    </tr>\n",
              "  </thead>\n",
              "  <tbody>\n",
              "    <tr>\n",
              "      <th>0</th>\n",
              "      <td>3.714018e-04</td>\n",
              "      <td>3.639441e-02</td>\n",
              "      <td>9.632342e-01</td>\n",
              "    </tr>\n",
              "    <tr>\n",
              "      <th>1</th>\n",
              "      <td>3.488610e-04</td>\n",
              "      <td>9.982704e-01</td>\n",
              "      <td>1.380655e-03</td>\n",
              "    </tr>\n",
              "    <tr>\n",
              "      <th>2</th>\n",
              "      <td>3.714018e-04</td>\n",
              "      <td>3.639441e-02</td>\n",
              "      <td>9.632342e-01</td>\n",
              "    </tr>\n",
              "    <tr>\n",
              "      <th>3</th>\n",
              "      <td>3.714018e-04</td>\n",
              "      <td>3.639441e-02</td>\n",
              "      <td>9.632342e-01</td>\n",
              "    </tr>\n",
              "    <tr>\n",
              "      <th>4</th>\n",
              "      <td>3.714018e-04</td>\n",
              "      <td>3.639441e-02</td>\n",
              "      <td>9.632342e-01</td>\n",
              "    </tr>\n",
              "    <tr>\n",
              "      <th>...</th>\n",
              "      <td>...</td>\n",
              "      <td>...</td>\n",
              "      <td>...</td>\n",
              "    </tr>\n",
              "    <tr>\n",
              "      <th>517</th>\n",
              "      <td>9.284927e-10</td>\n",
              "      <td>1.000000e+00</td>\n",
              "      <td>1.565980e-10</td>\n",
              "    </tr>\n",
              "    <tr>\n",
              "      <th>518</th>\n",
              "      <td>2.693339e-04</td>\n",
              "      <td>6.065704e-07</td>\n",
              "      <td>9.997301e-01</td>\n",
              "    </tr>\n",
              "    <tr>\n",
              "      <th>519</th>\n",
              "      <td>9.593143e-09</td>\n",
              "      <td>1.000000e+00</td>\n",
              "      <td>2.835019e-09</td>\n",
              "    </tr>\n",
              "    <tr>\n",
              "      <th>520</th>\n",
              "      <td>5.553480e-10</td>\n",
              "      <td>1.123699e-09</td>\n",
              "      <td>1.000000e+00</td>\n",
              "    </tr>\n",
              "    <tr>\n",
              "      <th>521</th>\n",
              "      <td>9.995149e-01</td>\n",
              "      <td>3.836521e-04</td>\n",
              "      <td>1.014250e-04</td>\n",
              "    </tr>\n",
              "  </tbody>\n",
              "</table>\n",
              "<p>522 rows × 3 columns</p>\n",
              "</div>"
            ],
            "text/plain": [
              "              POS           NET           NEG\n",
              "0    3.714018e-04  3.639441e-02  9.632342e-01\n",
              "1    3.488610e-04  9.982704e-01  1.380655e-03\n",
              "2    3.714018e-04  3.639441e-02  9.632342e-01\n",
              "3    3.714018e-04  3.639441e-02  9.632342e-01\n",
              "4    3.714018e-04  3.639441e-02  9.632342e-01\n",
              "..            ...           ...           ...\n",
              "517  9.284927e-10  1.000000e+00  1.565980e-10\n",
              "518  2.693339e-04  6.065704e-07  9.997301e-01\n",
              "519  9.593143e-09  1.000000e+00  2.835019e-09\n",
              "520  5.553480e-10  1.123699e-09  1.000000e+00\n",
              "521  9.995149e-01  3.836521e-04  1.014250e-04\n",
              "\n",
              "[522 rows x 3 columns]"
            ]
          },
          "metadata": {
            "tags": []
          },
          "execution_count": 70
        }
      ]
    },
    {
      "cell_type": "code",
      "metadata": {
        "colab": {
          "base_uri": "https://localhost:8080/",
          "height": 0
        },
        "id": "6k8-ikva8qc4",
        "outputId": "92e1c698-2c21-43b9-e6ff-34e6c1c8804a"
      },
      "source": [
        "dfhasilramal = dfhasil.eq(dfhasil.where(dfhasil != 0).max(1), axis=0).astype(int)\n",
        "dfhasilramal"
      ],
      "execution_count": 71,
      "outputs": [
        {
          "output_type": "execute_result",
          "data": {
            "text/html": [
              "<div>\n",
              "<style scoped>\n",
              "    .dataframe tbody tr th:only-of-type {\n",
              "        vertical-align: middle;\n",
              "    }\n",
              "\n",
              "    .dataframe tbody tr th {\n",
              "        vertical-align: top;\n",
              "    }\n",
              "\n",
              "    .dataframe thead th {\n",
              "        text-align: right;\n",
              "    }\n",
              "</style>\n",
              "<table border=\"1\" class=\"dataframe\">\n",
              "  <thead>\n",
              "    <tr style=\"text-align: right;\">\n",
              "      <th></th>\n",
              "      <th>POS</th>\n",
              "      <th>NET</th>\n",
              "      <th>NEG</th>\n",
              "    </tr>\n",
              "  </thead>\n",
              "  <tbody>\n",
              "    <tr>\n",
              "      <th>0</th>\n",
              "      <td>0</td>\n",
              "      <td>0</td>\n",
              "      <td>1</td>\n",
              "    </tr>\n",
              "    <tr>\n",
              "      <th>1</th>\n",
              "      <td>0</td>\n",
              "      <td>1</td>\n",
              "      <td>0</td>\n",
              "    </tr>\n",
              "    <tr>\n",
              "      <th>2</th>\n",
              "      <td>0</td>\n",
              "      <td>0</td>\n",
              "      <td>1</td>\n",
              "    </tr>\n",
              "    <tr>\n",
              "      <th>3</th>\n",
              "      <td>0</td>\n",
              "      <td>0</td>\n",
              "      <td>1</td>\n",
              "    </tr>\n",
              "    <tr>\n",
              "      <th>4</th>\n",
              "      <td>0</td>\n",
              "      <td>0</td>\n",
              "      <td>1</td>\n",
              "    </tr>\n",
              "    <tr>\n",
              "      <th>...</th>\n",
              "      <td>...</td>\n",
              "      <td>...</td>\n",
              "      <td>...</td>\n",
              "    </tr>\n",
              "    <tr>\n",
              "      <th>517</th>\n",
              "      <td>0</td>\n",
              "      <td>1</td>\n",
              "      <td>0</td>\n",
              "    </tr>\n",
              "    <tr>\n",
              "      <th>518</th>\n",
              "      <td>0</td>\n",
              "      <td>0</td>\n",
              "      <td>1</td>\n",
              "    </tr>\n",
              "    <tr>\n",
              "      <th>519</th>\n",
              "      <td>0</td>\n",
              "      <td>1</td>\n",
              "      <td>0</td>\n",
              "    </tr>\n",
              "    <tr>\n",
              "      <th>520</th>\n",
              "      <td>0</td>\n",
              "      <td>0</td>\n",
              "      <td>1</td>\n",
              "    </tr>\n",
              "    <tr>\n",
              "      <th>521</th>\n",
              "      <td>1</td>\n",
              "      <td>0</td>\n",
              "      <td>0</td>\n",
              "    </tr>\n",
              "  </tbody>\n",
              "</table>\n",
              "<p>522 rows × 3 columns</p>\n",
              "</div>"
            ],
            "text/plain": [
              "     POS  NET  NEG\n",
              "0      0    0    1\n",
              "1      0    1    0\n",
              "2      0    0    1\n",
              "3      0    0    1\n",
              "4      0    0    1\n",
              "..   ...  ...  ...\n",
              "517    0    1    0\n",
              "518    0    0    1\n",
              "519    0    1    0\n",
              "520    0    0    1\n",
              "521    1    0    0\n",
              "\n",
              "[522 rows x 3 columns]"
            ]
          },
          "metadata": {
            "tags": []
          },
          "execution_count": 71
        }
      ]
    },
    {
      "cell_type": "code",
      "metadata": {
        "colab": {
          "base_uri": "https://localhost:8080/",
          "height": 0
        },
        "id": "VGQGd3jg8qc5",
        "outputId": "cc884649-c672-4b96-da76-46adbf62fddc"
      },
      "source": [
        "finalresult = pd.concat([df_untagged, dfhasilramal], axis=1, sort=False)\n",
        "finalresult"
      ],
      "execution_count": 72,
      "outputs": [
        {
          "output_type": "execute_result",
          "data": {
            "text/html": [
              "<div>\n",
              "<style scoped>\n",
              "    .dataframe tbody tr th:only-of-type {\n",
              "        vertical-align: middle;\n",
              "    }\n",
              "\n",
              "    .dataframe tbody tr th {\n",
              "        vertical-align: top;\n",
              "    }\n",
              "\n",
              "    .dataframe thead th {\n",
              "        text-align: right;\n",
              "    }\n",
              "</style>\n",
              "<table border=\"1\" class=\"dataframe\">\n",
              "  <thead>\n",
              "    <tr style=\"text-align: right;\">\n",
              "      <th></th>\n",
              "      <th>Name</th>\n",
              "      <th>Comments</th>\n",
              "      <th>POS</th>\n",
              "      <th>NET</th>\n",
              "      <th>NEG</th>\n",
              "    </tr>\n",
              "  </thead>\n",
              "  <tbody>\n",
              "    <tr>\n",
              "      <th>0</th>\n",
              "      <td>ica_risa18</td>\n",
              "      <td>bacee</td>\n",
              "      <td>0</td>\n",
              "      <td>0</td>\n",
              "      <td>1</td>\n",
              "    </tr>\n",
              "    <tr>\n",
              "      <th>1</th>\n",
              "      <td>djulkifli_</td>\n",
              "      <td>aku tak ngguyu mbek turu</td>\n",
              "      <td>0</td>\n",
              "      <td>1</td>\n",
              "      <td>0</td>\n",
              "    </tr>\n",
              "    <tr>\n",
              "      <th>2</th>\n",
              "      <td>bagja.rki</td>\n",
              "      <td></td>\n",
              "      <td>0</td>\n",
              "      <td>0</td>\n",
              "      <td>1</td>\n",
              "    </tr>\n",
              "    <tr>\n",
              "      <th>3</th>\n",
              "      <td>pentolisme</td>\n",
              "      <td></td>\n",
              "      <td>0</td>\n",
              "      <td>0</td>\n",
              "      <td>1</td>\n",
              "    </tr>\n",
              "    <tr>\n",
              "      <th>4</th>\n",
              "      <td>ar_balance01</td>\n",
              "      <td></td>\n",
              "      <td>0</td>\n",
              "      <td>0</td>\n",
              "      <td>1</td>\n",
              "    </tr>\n",
              "    <tr>\n",
              "      <th>...</th>\n",
              "      <td>...</td>\n",
              "      <td>...</td>\n",
              "      <td>...</td>\n",
              "      <td>...</td>\n",
              "      <td>...</td>\n",
              "    </tr>\n",
              "    <tr>\n",
              "      <th>517</th>\n",
              "      <td>_balaa._syahiddtu</td>\n",
              "      <td>halal blm tentu baik</td>\n",
              "      <td>0</td>\n",
              "      <td>1</td>\n",
              "      <td>0</td>\n",
              "    </tr>\n",
              "    <tr>\n",
              "      <th>518</th>\n",
              "      <td>tomijumaesa</td>\n",
              "      <td>masyarakat cina di vaksin gk sih min</td>\n",
              "      <td>0</td>\n",
              "      <td>0</td>\n",
              "      <td>1</td>\n",
              "    </tr>\n",
              "    <tr>\n",
              "      <th>519</th>\n",
              "      <td>07_arif</td>\n",
              "      <td>kita sinovac sendiri lohh beranii</td>\n",
              "      <td>0</td>\n",
              "      <td>1</td>\n",
              "      <td>0</td>\n",
              "    </tr>\n",
              "    <tr>\n",
              "      <th>520</th>\n",
              "      <td>arisadwicahyo</td>\n",
              "      <td>emang udah tau bahan dalem nya apa aja dibuat ...</td>\n",
              "      <td>0</td>\n",
              "      <td>0</td>\n",
              "      <td>1</td>\n",
              "    </tr>\n",
              "    <tr>\n",
              "      <th>521</th>\n",
              "      <td>sr.pryg</td>\n",
              "      <td>lha apa pentingnya sampe mengutip pendapat alu...</td>\n",
              "      <td>1</td>\n",
              "      <td>0</td>\n",
              "      <td>0</td>\n",
              "    </tr>\n",
              "  </tbody>\n",
              "</table>\n",
              "<p>522 rows × 5 columns</p>\n",
              "</div>"
            ],
            "text/plain": [
              "                  Name  ... NEG\n",
              "0           ica_risa18  ...   1\n",
              "1           djulkifli_  ...   0\n",
              "2            bagja.rki  ...   1\n",
              "3           pentolisme  ...   1\n",
              "4         ar_balance01  ...   1\n",
              "..                 ...  ...  ..\n",
              "517  _balaa._syahiddtu  ...   0\n",
              "518        tomijumaesa  ...   1\n",
              "519            07_arif  ...   0\n",
              "520      arisadwicahyo  ...   1\n",
              "521            sr.pryg  ...   0\n",
              "\n",
              "[522 rows x 5 columns]"
            ]
          },
          "metadata": {
            "tags": []
          },
          "execution_count": 72
        }
      ]
    },
    {
      "cell_type": "code",
      "metadata": {
        "colab": {
          "base_uri": "https://localhost:8080/"
        },
        "id": "CZVXB1nD8qc5",
        "outputId": "dac1fc99-4730-483f-aefe-eeab6795ebb2"
      },
      "source": [
        "finalresult.POS.value_counts()"
      ],
      "execution_count": 73,
      "outputs": [
        {
          "output_type": "execute_result",
          "data": {
            "text/plain": [
              "0    413\n",
              "1    109\n",
              "Name: POS, dtype: int64"
            ]
          },
          "metadata": {
            "tags": []
          },
          "execution_count": 73
        }
      ]
    },
    {
      "cell_type": "code",
      "metadata": {
        "colab": {
          "base_uri": "https://localhost:8080/"
        },
        "id": "Np6TTzHc8qc5",
        "outputId": "977c5e08-5674-4332-b3a1-2502f849f762"
      },
      "source": [
        "finalresult.NET.value_counts()"
      ],
      "execution_count": 74,
      "outputs": [
        {
          "output_type": "execute_result",
          "data": {
            "text/plain": [
              "0    369\n",
              "1    153\n",
              "Name: NET, dtype: int64"
            ]
          },
          "metadata": {
            "tags": []
          },
          "execution_count": 74
        }
      ]
    },
    {
      "cell_type": "code",
      "metadata": {
        "colab": {
          "base_uri": "https://localhost:8080/"
        },
        "id": "BK1ySw8n8qc5",
        "outputId": "914e09e2-19db-43af-c4f2-2006c70937af"
      },
      "source": [
        "finalresult.NEG.value_counts()"
      ],
      "execution_count": 75,
      "outputs": [
        {
          "output_type": "execute_result",
          "data": {
            "text/plain": [
              "0    262\n",
              "1    260\n",
              "Name: NEG, dtype: int64"
            ]
          },
          "metadata": {
            "tags": []
          },
          "execution_count": 75
        }
      ]
    }
  ]
}